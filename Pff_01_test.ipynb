{
 "cells": [
  {
   "cell_type": "markdown",
   "metadata": {},
   "source": [
    "# Mise en pratique du cours : Python for Finance Course n°1"
   ]
  },
  {
   "cell_type": "code",
   "execution_count": 7,
   "metadata": {
    "collapsed": false
   },
   "outputs": [],
   "source": [
    "import numpy as np\n",
    "import pandas as pd\n",
    "from pandas_datareader import data as web\n",
    "import seaborn as sns; sns.set()\n",
    "%matplotlib inline"
   ]
  },
  {
   "cell_type": "code",
   "execution_count": 15,
   "metadata": {
    "collapsed": false
   },
   "outputs": [],
   "source": [
    "EN = web.DataReader ('EN.PA', data_source = 'yahoo')"
   ]
  },
  {
   "cell_type": "code",
   "execution_count": 16,
   "metadata": {
    "collapsed": false
   },
   "outputs": [
    {
     "data": {
      "text/plain": [
       "pandas.core.frame.DataFrame"
      ]
     },
     "execution_count": 16,
     "metadata": {},
     "output_type": "execute_result"
    }
   ],
   "source": [
    "type(EN)"
   ]
  },
  {
   "cell_type": "code",
   "execution_count": 17,
   "metadata": {
    "collapsed": false
   },
   "outputs": [
    {
     "name": "stdout",
     "output_type": "stream",
     "text": [
      "<class 'pandas.core.frame.DataFrame'>\n",
      "DatetimeIndex: 1636 entries, 2010-01-04 to 2016-04-21\n",
      "Data columns (total 6 columns):\n",
      "Open         1636 non-null float64\n",
      "High         1636 non-null float64\n",
      "Low          1636 non-null float64\n",
      "Close        1636 non-null float64\n",
      "Volume       1636 non-null int64\n",
      "Adj Close    1636 non-null float64\n",
      "dtypes: float64(5), int64(1)\n",
      "memory usage: 89.5 KB\n"
     ]
    }
   ],
   "source": [
    "EN.info()"
   ]
  },
  {
   "cell_type": "code",
   "execution_count": 19,
   "metadata": {
    "collapsed": false
   },
   "outputs": [
    {
     "data": {
      "text/html": [
       "<div>\n",
       "<table border=\"1\" class=\"dataframe\">\n",
       "  <thead>\n",
       "    <tr style=\"text-align: right;\">\n",
       "      <th></th>\n",
       "      <th>Open</th>\n",
       "      <th>High</th>\n",
       "      <th>Low</th>\n",
       "      <th>Close</th>\n",
       "      <th>Volume</th>\n",
       "      <th>Adj Close</th>\n",
       "    </tr>\n",
       "    <tr>\n",
       "      <th>Date</th>\n",
       "      <th></th>\n",
       "      <th></th>\n",
       "      <th></th>\n",
       "      <th></th>\n",
       "      <th></th>\n",
       "      <th></th>\n",
       "    </tr>\n",
       "  </thead>\n",
       "  <tbody>\n",
       "    <tr>\n",
       "      <th>2016-04-15</th>\n",
       "      <td>30.610</td>\n",
       "      <td>31.085</td>\n",
       "      <td>30.550</td>\n",
       "      <td>31.05</td>\n",
       "      <td>1564300</td>\n",
       "      <td>29.422</td>\n",
       "    </tr>\n",
       "    <tr>\n",
       "      <th>2016-04-18</th>\n",
       "      <td>30.420</td>\n",
       "      <td>31.230</td>\n",
       "      <td>30.320</td>\n",
       "      <td>31.03</td>\n",
       "      <td>1076800</td>\n",
       "      <td>29.403</td>\n",
       "    </tr>\n",
       "    <tr>\n",
       "      <th>2016-04-19</th>\n",
       "      <td>31.035</td>\n",
       "      <td>31.250</td>\n",
       "      <td>30.400</td>\n",
       "      <td>30.98</td>\n",
       "      <td>1419900</td>\n",
       "      <td>29.356</td>\n",
       "    </tr>\n",
       "    <tr>\n",
       "      <th>2016-04-20</th>\n",
       "      <td>30.940</td>\n",
       "      <td>31.135</td>\n",
       "      <td>30.845</td>\n",
       "      <td>30.93</td>\n",
       "      <td>818800</td>\n",
       "      <td>29.309</td>\n",
       "    </tr>\n",
       "    <tr>\n",
       "      <th>2016-04-21</th>\n",
       "      <td>30.960</td>\n",
       "      <td>31.075</td>\n",
       "      <td>30.140</td>\n",
       "      <td>30.52</td>\n",
       "      <td>1093300</td>\n",
       "      <td>28.920</td>\n",
       "    </tr>\n",
       "  </tbody>\n",
       "</table>\n",
       "</div>"
      ],
      "text/plain": [
       "              Open    High     Low  Close   Volume  Adj Close\n",
       "Date                                                         \n",
       "2016-04-15  30.610  31.085  30.550  31.05  1564300     29.422\n",
       "2016-04-18  30.420  31.230  30.320  31.03  1076800     29.403\n",
       "2016-04-19  31.035  31.250  30.400  30.98  1419900     29.356\n",
       "2016-04-20  30.940  31.135  30.845  30.93   818800     29.309\n",
       "2016-04-21  30.960  31.075  30.140  30.52  1093300     28.920"
      ]
     },
     "execution_count": 19,
     "metadata": {},
     "output_type": "execute_result"
    }
   ],
   "source": [
    "EN.tail()"
   ]
  },
  {
   "cell_type": "code",
   "execution_count": 23,
   "metadata": {
    "collapsed": false
   },
   "outputs": [
    {
     "data": {
      "text/plain": [
       "Open             36.060\n",
       "High             36.470\n",
       "Low              35.820\n",
       "Close            36.425\n",
       "Volume       665400.000\n",
       "Adj Close        34.515\n",
       "Name: 2016-03-01 00:00:00, dtype: float64"
      ]
     },
     "execution_count": 23,
     "metadata": {},
     "output_type": "execute_result"
    }
   ],
   "source": [
    "EN.loc['2016-03-01']"
   ]
  },
  {
   "cell_type": "code",
   "execution_count": 27,
   "metadata": {
    "collapsed": false
   },
   "outputs": [
    {
     "data": {
      "text/html": [
       "<div>\n",
       "<table border=\"1\" class=\"dataframe\">\n",
       "  <thead>\n",
       "    <tr style=\"text-align: right;\">\n",
       "      <th></th>\n",
       "      <th>Open</th>\n",
       "      <th>High</th>\n",
       "      <th>Low</th>\n",
       "      <th>Close</th>\n",
       "      <th>Volume</th>\n",
       "      <th>Adj Close</th>\n",
       "    </tr>\n",
       "    <tr>\n",
       "      <th>Date</th>\n",
       "      <th></th>\n",
       "      <th></th>\n",
       "      <th></th>\n",
       "      <th></th>\n",
       "      <th></th>\n",
       "      <th></th>\n",
       "    </tr>\n",
       "  </thead>\n",
       "  <tbody>\n",
       "    <tr>\n",
       "      <th>2016-02-12</th>\n",
       "      <td>31.580</td>\n",
       "      <td>32.010</td>\n",
       "      <td>31.385</td>\n",
       "      <td>32.010</td>\n",
       "      <td>844300</td>\n",
       "      <td>30.332</td>\n",
       "    </tr>\n",
       "    <tr>\n",
       "      <th>2016-02-15</th>\n",
       "      <td>32.790</td>\n",
       "      <td>34.300</td>\n",
       "      <td>32.670</td>\n",
       "      <td>34.180</td>\n",
       "      <td>1657200</td>\n",
       "      <td>32.388</td>\n",
       "    </tr>\n",
       "    <tr>\n",
       "      <th>2016-02-16</th>\n",
       "      <td>34.340</td>\n",
       "      <td>34.525</td>\n",
       "      <td>33.435</td>\n",
       "      <td>33.715</td>\n",
       "      <td>1158700</td>\n",
       "      <td>31.948</td>\n",
       "    </tr>\n",
       "    <tr>\n",
       "      <th>2016-02-17</th>\n",
       "      <td>33.645</td>\n",
       "      <td>34.685</td>\n",
       "      <td>33.645</td>\n",
       "      <td>34.685</td>\n",
       "      <td>745700</td>\n",
       "      <td>32.867</td>\n",
       "    </tr>\n",
       "    <tr>\n",
       "      <th>2016-02-18</th>\n",
       "      <td>34.740</td>\n",
       "      <td>35.325</td>\n",
       "      <td>34.530</td>\n",
       "      <td>35.065</td>\n",
       "      <td>1014500</td>\n",
       "      <td>33.227</td>\n",
       "    </tr>\n",
       "    <tr>\n",
       "      <th>2016-02-19</th>\n",
       "      <td>34.905</td>\n",
       "      <td>35.130</td>\n",
       "      <td>34.295</td>\n",
       "      <td>34.595</td>\n",
       "      <td>784700</td>\n",
       "      <td>32.781</td>\n",
       "    </tr>\n",
       "    <tr>\n",
       "      <th>2016-02-22</th>\n",
       "      <td>34.905</td>\n",
       "      <td>35.230</td>\n",
       "      <td>34.695</td>\n",
       "      <td>34.810</td>\n",
       "      <td>812100</td>\n",
       "      <td>32.985</td>\n",
       "    </tr>\n",
       "    <tr>\n",
       "      <th>2016-02-23</th>\n",
       "      <td>34.650</td>\n",
       "      <td>35.065</td>\n",
       "      <td>34.630</td>\n",
       "      <td>34.635</td>\n",
       "      <td>642200</td>\n",
       "      <td>32.819</td>\n",
       "    </tr>\n",
       "    <tr>\n",
       "      <th>2016-02-24</th>\n",
       "      <td>35.150</td>\n",
       "      <td>35.235</td>\n",
       "      <td>34.390</td>\n",
       "      <td>34.675</td>\n",
       "      <td>928200</td>\n",
       "      <td>32.857</td>\n",
       "    </tr>\n",
       "    <tr>\n",
       "      <th>2016-02-25</th>\n",
       "      <td>34.825</td>\n",
       "      <td>35.775</td>\n",
       "      <td>34.825</td>\n",
       "      <td>35.620</td>\n",
       "      <td>1171200</td>\n",
       "      <td>33.753</td>\n",
       "    </tr>\n",
       "    <tr>\n",
       "      <th>2016-02-26</th>\n",
       "      <td>35.900</td>\n",
       "      <td>36.145</td>\n",
       "      <td>35.635</td>\n",
       "      <td>35.740</td>\n",
       "      <td>1049000</td>\n",
       "      <td>33.866</td>\n",
       "    </tr>\n",
       "    <tr>\n",
       "      <th>2016-02-29</th>\n",
       "      <td>35.660</td>\n",
       "      <td>36.065</td>\n",
       "      <td>35.320</td>\n",
       "      <td>36.065</td>\n",
       "      <td>1162700</td>\n",
       "      <td>34.174</td>\n",
       "    </tr>\n",
       "    <tr>\n",
       "      <th>2016-03-01</th>\n",
       "      <td>36.060</td>\n",
       "      <td>36.470</td>\n",
       "      <td>35.820</td>\n",
       "      <td>36.425</td>\n",
       "      <td>665400</td>\n",
       "      <td>34.515</td>\n",
       "    </tr>\n",
       "    <tr>\n",
       "      <th>2016-03-02</th>\n",
       "      <td>36.490</td>\n",
       "      <td>36.540</td>\n",
       "      <td>35.705</td>\n",
       "      <td>35.915</td>\n",
       "      <td>780000</td>\n",
       "      <td>34.032</td>\n",
       "    </tr>\n",
       "    <tr>\n",
       "      <th>2016-03-03</th>\n",
       "      <td>35.945</td>\n",
       "      <td>36.255</td>\n",
       "      <td>35.700</td>\n",
       "      <td>36.200</td>\n",
       "      <td>772400</td>\n",
       "      <td>34.302</td>\n",
       "    </tr>\n",
       "    <tr>\n",
       "      <th>2016-03-04</th>\n",
       "      <td>36.415</td>\n",
       "      <td>36.470</td>\n",
       "      <td>35.805</td>\n",
       "      <td>36.330</td>\n",
       "      <td>886100</td>\n",
       "      <td>34.425</td>\n",
       "    </tr>\n",
       "    <tr>\n",
       "      <th>2016-03-07</th>\n",
       "      <td>36.120</td>\n",
       "      <td>36.370</td>\n",
       "      <td>35.930</td>\n",
       "      <td>36.010</td>\n",
       "      <td>522900</td>\n",
       "      <td>34.122</td>\n",
       "    </tr>\n",
       "    <tr>\n",
       "      <th>2016-03-08</th>\n",
       "      <td>35.875</td>\n",
       "      <td>36.215</td>\n",
       "      <td>35.610</td>\n",
       "      <td>36.070</td>\n",
       "      <td>764100</td>\n",
       "      <td>34.179</td>\n",
       "    </tr>\n",
       "    <tr>\n",
       "      <th>2016-03-09</th>\n",
       "      <td>36.010</td>\n",
       "      <td>36.385</td>\n",
       "      <td>35.810</td>\n",
       "      <td>36.205</td>\n",
       "      <td>651200</td>\n",
       "      <td>34.307</td>\n",
       "    </tr>\n",
       "    <tr>\n",
       "      <th>2016-03-10</th>\n",
       "      <td>36.205</td>\n",
       "      <td>36.935</td>\n",
       "      <td>35.500</td>\n",
       "      <td>35.500</td>\n",
       "      <td>838700</td>\n",
       "      <td>33.639</td>\n",
       "    </tr>\n",
       "    <tr>\n",
       "      <th>2016-03-11</th>\n",
       "      <td>35.865</td>\n",
       "      <td>36.870</td>\n",
       "      <td>35.860</td>\n",
       "      <td>36.450</td>\n",
       "      <td>1492700</td>\n",
       "      <td>34.539</td>\n",
       "    </tr>\n",
       "    <tr>\n",
       "      <th>2016-03-14</th>\n",
       "      <td>36.795</td>\n",
       "      <td>36.875</td>\n",
       "      <td>36.465</td>\n",
       "      <td>36.485</td>\n",
       "      <td>666700</td>\n",
       "      <td>34.572</td>\n",
       "    </tr>\n",
       "    <tr>\n",
       "      <th>2016-03-15</th>\n",
       "      <td>36.420</td>\n",
       "      <td>36.945</td>\n",
       "      <td>36.305</td>\n",
       "      <td>36.675</td>\n",
       "      <td>784300</td>\n",
       "      <td>34.752</td>\n",
       "    </tr>\n",
       "    <tr>\n",
       "      <th>2016-03-16</th>\n",
       "      <td>36.735</td>\n",
       "      <td>36.815</td>\n",
       "      <td>36.335</td>\n",
       "      <td>36.380</td>\n",
       "      <td>620800</td>\n",
       "      <td>34.473</td>\n",
       "    </tr>\n",
       "    <tr>\n",
       "      <th>2016-03-17</th>\n",
       "      <td>36.595</td>\n",
       "      <td>36.705</td>\n",
       "      <td>35.860</td>\n",
       "      <td>36.325</td>\n",
       "      <td>677800</td>\n",
       "      <td>34.421</td>\n",
       "    </tr>\n",
       "    <tr>\n",
       "      <th>2016-03-18</th>\n",
       "      <td>36.710</td>\n",
       "      <td>36.710</td>\n",
       "      <td>36.010</td>\n",
       "      <td>36.055</td>\n",
       "      <td>1105300</td>\n",
       "      <td>34.165</td>\n",
       "    </tr>\n",
       "    <tr>\n",
       "      <th>2016-03-21</th>\n",
       "      <td>36.000</td>\n",
       "      <td>36.425</td>\n",
       "      <td>35.905</td>\n",
       "      <td>36.280</td>\n",
       "      <td>824500</td>\n",
       "      <td>34.378</td>\n",
       "    </tr>\n",
       "    <tr>\n",
       "      <th>2016-03-22</th>\n",
       "      <td>36.160</td>\n",
       "      <td>36.640</td>\n",
       "      <td>35.975</td>\n",
       "      <td>36.640</td>\n",
       "      <td>747900</td>\n",
       "      <td>34.719</td>\n",
       "    </tr>\n",
       "    <tr>\n",
       "      <th>2016-03-23</th>\n",
       "      <td>36.690</td>\n",
       "      <td>37.300</td>\n",
       "      <td>36.640</td>\n",
       "      <td>36.815</td>\n",
       "      <td>771300</td>\n",
       "      <td>34.885</td>\n",
       "    </tr>\n",
       "    <tr>\n",
       "      <th>2016-03-24</th>\n",
       "      <td>36.645</td>\n",
       "      <td>36.925</td>\n",
       "      <td>36.430</td>\n",
       "      <td>36.750</td>\n",
       "      <td>932100</td>\n",
       "      <td>34.823</td>\n",
       "    </tr>\n",
       "    <tr>\n",
       "      <th>2016-03-25</th>\n",
       "      <td>36.750</td>\n",
       "      <td>36.750</td>\n",
       "      <td>36.750</td>\n",
       "      <td>36.750</td>\n",
       "      <td>0</td>\n",
       "      <td>34.823</td>\n",
       "    </tr>\n",
       "    <tr>\n",
       "      <th>2016-03-28</th>\n",
       "      <td>36.750</td>\n",
       "      <td>36.750</td>\n",
       "      <td>36.750</td>\n",
       "      <td>36.750</td>\n",
       "      <td>0</td>\n",
       "      <td>34.823</td>\n",
       "    </tr>\n",
       "    <tr>\n",
       "      <th>2016-03-29</th>\n",
       "      <td>36.750</td>\n",
       "      <td>37.140</td>\n",
       "      <td>36.615</td>\n",
       "      <td>36.950</td>\n",
       "      <td>797500</td>\n",
       "      <td>35.013</td>\n",
       "    </tr>\n",
       "    <tr>\n",
       "      <th>2016-03-30</th>\n",
       "      <td>37.100</td>\n",
       "      <td>37.300</td>\n",
       "      <td>36.855</td>\n",
       "      <td>37.205</td>\n",
       "      <td>1142800</td>\n",
       "      <td>35.255</td>\n",
       "    </tr>\n",
       "    <tr>\n",
       "      <th>2016-03-31</th>\n",
       "      <td>36.050</td>\n",
       "      <td>36.190</td>\n",
       "      <td>35.650</td>\n",
       "      <td>35.850</td>\n",
       "      <td>2231000</td>\n",
       "      <td>33.971</td>\n",
       "    </tr>\n",
       "    <tr>\n",
       "      <th>2016-04-01</th>\n",
       "      <td>35.610</td>\n",
       "      <td>35.610</td>\n",
       "      <td>34.810</td>\n",
       "      <td>35.140</td>\n",
       "      <td>2060100</td>\n",
       "      <td>33.298</td>\n",
       "    </tr>\n",
       "    <tr>\n",
       "      <th>2016-04-04</th>\n",
       "      <td>30.000</td>\n",
       "      <td>30.425</td>\n",
       "      <td>28.730</td>\n",
       "      <td>30.415</td>\n",
       "      <td>6047200</td>\n",
       "      <td>28.821</td>\n",
       "    </tr>\n",
       "    <tr>\n",
       "      <th>2016-04-05</th>\n",
       "      <td>30.205</td>\n",
       "      <td>30.250</td>\n",
       "      <td>29.060</td>\n",
       "      <td>29.220</td>\n",
       "      <td>2885800</td>\n",
       "      <td>27.688</td>\n",
       "    </tr>\n",
       "    <tr>\n",
       "      <th>2016-04-06</th>\n",
       "      <td>29.150</td>\n",
       "      <td>29.755</td>\n",
       "      <td>29.080</td>\n",
       "      <td>29.555</td>\n",
       "      <td>1383200</td>\n",
       "      <td>28.006</td>\n",
       "    </tr>\n",
       "    <tr>\n",
       "      <th>2016-04-07</th>\n",
       "      <td>29.640</td>\n",
       "      <td>29.655</td>\n",
       "      <td>29.115</td>\n",
       "      <td>29.285</td>\n",
       "      <td>1398800</td>\n",
       "      <td>27.750</td>\n",
       "    </tr>\n",
       "    <tr>\n",
       "      <th>2016-04-08</th>\n",
       "      <td>30.385</td>\n",
       "      <td>30.400</td>\n",
       "      <td>29.505</td>\n",
       "      <td>29.850</td>\n",
       "      <td>1512100</td>\n",
       "      <td>28.285</td>\n",
       "    </tr>\n",
       "    <tr>\n",
       "      <th>2016-04-11</th>\n",
       "      <td>29.745</td>\n",
       "      <td>29.865</td>\n",
       "      <td>29.285</td>\n",
       "      <td>29.565</td>\n",
       "      <td>1176400</td>\n",
       "      <td>28.015</td>\n",
       "    </tr>\n",
       "    <tr>\n",
       "      <th>2016-04-12</th>\n",
       "      <td>29.510</td>\n",
       "      <td>30.080</td>\n",
       "      <td>29.310</td>\n",
       "      <td>29.960</td>\n",
       "      <td>1339000</td>\n",
       "      <td>28.389</td>\n",
       "    </tr>\n",
       "    <tr>\n",
       "      <th>2016-04-13</th>\n",
       "      <td>30.250</td>\n",
       "      <td>30.495</td>\n",
       "      <td>30.085</td>\n",
       "      <td>30.360</td>\n",
       "      <td>1359000</td>\n",
       "      <td>28.768</td>\n",
       "    </tr>\n",
       "    <tr>\n",
       "      <th>2016-04-14</th>\n",
       "      <td>30.370</td>\n",
       "      <td>30.780</td>\n",
       "      <td>30.290</td>\n",
       "      <td>30.555</td>\n",
       "      <td>1257600</td>\n",
       "      <td>28.953</td>\n",
       "    </tr>\n",
       "    <tr>\n",
       "      <th>2016-04-15</th>\n",
       "      <td>30.610</td>\n",
       "      <td>31.085</td>\n",
       "      <td>30.550</td>\n",
       "      <td>31.050</td>\n",
       "      <td>1564300</td>\n",
       "      <td>29.422</td>\n",
       "    </tr>\n",
       "    <tr>\n",
       "      <th>2016-04-18</th>\n",
       "      <td>30.420</td>\n",
       "      <td>31.230</td>\n",
       "      <td>30.320</td>\n",
       "      <td>31.030</td>\n",
       "      <td>1076800</td>\n",
       "      <td>29.403</td>\n",
       "    </tr>\n",
       "    <tr>\n",
       "      <th>2016-04-19</th>\n",
       "      <td>31.035</td>\n",
       "      <td>31.250</td>\n",
       "      <td>30.400</td>\n",
       "      <td>30.980</td>\n",
       "      <td>1419900</td>\n",
       "      <td>29.356</td>\n",
       "    </tr>\n",
       "    <tr>\n",
       "      <th>2016-04-20</th>\n",
       "      <td>30.940</td>\n",
       "      <td>31.135</td>\n",
       "      <td>30.845</td>\n",
       "      <td>30.930</td>\n",
       "      <td>818800</td>\n",
       "      <td>29.309</td>\n",
       "    </tr>\n",
       "    <tr>\n",
       "      <th>2016-04-21</th>\n",
       "      <td>30.960</td>\n",
       "      <td>31.075</td>\n",
       "      <td>30.140</td>\n",
       "      <td>30.520</td>\n",
       "      <td>1093300</td>\n",
       "      <td>28.920</td>\n",
       "    </tr>\n",
       "  </tbody>\n",
       "</table>\n",
       "</div>"
      ],
      "text/plain": [
       "              Open    High     Low   Close   Volume  Adj Close\n",
       "Date                                                          \n",
       "2016-02-12  31.580  32.010  31.385  32.010   844300     30.332\n",
       "2016-02-15  32.790  34.300  32.670  34.180  1657200     32.388\n",
       "2016-02-16  34.340  34.525  33.435  33.715  1158700     31.948\n",
       "2016-02-17  33.645  34.685  33.645  34.685   745700     32.867\n",
       "2016-02-18  34.740  35.325  34.530  35.065  1014500     33.227\n",
       "2016-02-19  34.905  35.130  34.295  34.595   784700     32.781\n",
       "2016-02-22  34.905  35.230  34.695  34.810   812100     32.985\n",
       "2016-02-23  34.650  35.065  34.630  34.635   642200     32.819\n",
       "2016-02-24  35.150  35.235  34.390  34.675   928200     32.857\n",
       "2016-02-25  34.825  35.775  34.825  35.620  1171200     33.753\n",
       "2016-02-26  35.900  36.145  35.635  35.740  1049000     33.866\n",
       "2016-02-29  35.660  36.065  35.320  36.065  1162700     34.174\n",
       "2016-03-01  36.060  36.470  35.820  36.425   665400     34.515\n",
       "2016-03-02  36.490  36.540  35.705  35.915   780000     34.032\n",
       "2016-03-03  35.945  36.255  35.700  36.200   772400     34.302\n",
       "2016-03-04  36.415  36.470  35.805  36.330   886100     34.425\n",
       "2016-03-07  36.120  36.370  35.930  36.010   522900     34.122\n",
       "2016-03-08  35.875  36.215  35.610  36.070   764100     34.179\n",
       "2016-03-09  36.010  36.385  35.810  36.205   651200     34.307\n",
       "2016-03-10  36.205  36.935  35.500  35.500   838700     33.639\n",
       "2016-03-11  35.865  36.870  35.860  36.450  1492700     34.539\n",
       "2016-03-14  36.795  36.875  36.465  36.485   666700     34.572\n",
       "2016-03-15  36.420  36.945  36.305  36.675   784300     34.752\n",
       "2016-03-16  36.735  36.815  36.335  36.380   620800     34.473\n",
       "2016-03-17  36.595  36.705  35.860  36.325   677800     34.421\n",
       "2016-03-18  36.710  36.710  36.010  36.055  1105300     34.165\n",
       "2016-03-21  36.000  36.425  35.905  36.280   824500     34.378\n",
       "2016-03-22  36.160  36.640  35.975  36.640   747900     34.719\n",
       "2016-03-23  36.690  37.300  36.640  36.815   771300     34.885\n",
       "2016-03-24  36.645  36.925  36.430  36.750   932100     34.823\n",
       "2016-03-25  36.750  36.750  36.750  36.750        0     34.823\n",
       "2016-03-28  36.750  36.750  36.750  36.750        0     34.823\n",
       "2016-03-29  36.750  37.140  36.615  36.950   797500     35.013\n",
       "2016-03-30  37.100  37.300  36.855  37.205  1142800     35.255\n",
       "2016-03-31  36.050  36.190  35.650  35.850  2231000     33.971\n",
       "2016-04-01  35.610  35.610  34.810  35.140  2060100     33.298\n",
       "2016-04-04  30.000  30.425  28.730  30.415  6047200     28.821\n",
       "2016-04-05  30.205  30.250  29.060  29.220  2885800     27.688\n",
       "2016-04-06  29.150  29.755  29.080  29.555  1383200     28.006\n",
       "2016-04-07  29.640  29.655  29.115  29.285  1398800     27.750\n",
       "2016-04-08  30.385  30.400  29.505  29.850  1512100     28.285\n",
       "2016-04-11  29.745  29.865  29.285  29.565  1176400     28.015\n",
       "2016-04-12  29.510  30.080  29.310  29.960  1339000     28.389\n",
       "2016-04-13  30.250  30.495  30.085  30.360  1359000     28.768\n",
       "2016-04-14  30.370  30.780  30.290  30.555  1257600     28.953\n",
       "2016-04-15  30.610  31.085  30.550  31.050  1564300     29.422\n",
       "2016-04-18  30.420  31.230  30.320  31.030  1076800     29.403\n",
       "2016-04-19  31.035  31.250  30.400  30.980  1419900     29.356\n",
       "2016-04-20  30.940  31.135  30.845  30.930   818800     29.309\n",
       "2016-04-21  30.960  31.075  30.140  30.520  1093300     28.920"
      ]
     },
     "execution_count": 27,
     "metadata": {},
     "output_type": "execute_result"
    }
   ],
   "source": [
    "EN.iloc[1586:1636]"
   ]
  },
  {
   "cell_type": "code",
   "execution_count": 31,
   "metadata": {
    "collapsed": false
   },
   "outputs": [
    {
     "data": {
      "text/plain": [
       "Date\n",
       "2016-04-15    1564300\n",
       "2016-04-18    1076800\n",
       "2016-04-19    1419900\n",
       "2016-04-20     818800\n",
       "2016-04-21    1093300\n",
       "Name: Volume, dtype: int64"
      ]
     },
     "execution_count": 31,
     "metadata": {},
     "output_type": "execute_result"
    }
   ],
   "source": [
    "EN['Volume'].tail()"
   ]
  },
  {
   "cell_type": "code",
   "execution_count": 35,
   "metadata": {
    "collapsed": false
   },
   "outputs": [
    {
     "data": {
      "text/plain": [
       "<matplotlib.axes._subplots.AxesSubplot at 0x7f203d8f9438>"
      ]
     },
     "execution_count": 35,
     "metadata": {},
     "output_type": "execute_result"
    },
    {
     "data": {
      "image/png": "[encoded data removed]",
      "text/plain": [
       "<matplotlib.figure.Figure at 0x7f203d95e978>"
      ]
     },
     "metadata": {},
     "output_type": "display_data"
    }
   ],
   "source": [
    "EN['Volume'].tail(500).plot(figsize=(15,6))"
   ]
  },
  {
   "cell_type": "code",
   "execution_count": 36,
   "metadata": {
    "collapsed": true
   },
   "outputs": [],
   "source": [
    "a = np.log(10)"
   ]
  },
  {
   "cell_type": "code",
   "execution_count": 38,
   "metadata": {
    "collapsed": false
   },
   "outputs": [
    {
     "name": "stdout",
     "output_type": "stream",
     "text": [
      "2.30258509299\n"
     ]
    }
   ],
   "source": [
    "print (a)"
   ]
  },
  {
   "cell_type": "code",
   "execution_count": 39,
   "metadata": {
    "collapsed": false
   },
   "outputs": [
    {
     "data": {
      "text/plain": [
       "Date\n",
       "2010-01-04        NaN\n",
       "2010-01-05     823900\n",
       "2010-01-06    1135400\n",
       "2010-01-07     859500\n",
       "2010-01-08    2024700\n",
       "2010-01-11    1450000\n",
       "2010-01-12    1506400\n",
       "2010-01-13    1348600\n",
       "2010-01-14    1179500\n",
       "2010-01-15    1265600\n",
       "2010-01-18    1294400\n",
       "2010-01-19     774000\n",
       "2010-01-20    1252500\n",
       "2010-01-21    1493700\n",
       "2010-01-22    2617700\n",
       "2010-01-25    1439800\n",
       "2010-01-26    1344000\n",
       "2010-01-27    1544500\n",
       "2010-01-28    1194600\n",
       "2010-01-29    2381600\n",
       "2010-02-01    1807000\n",
       "2010-02-02     843600\n",
       "2010-02-03    1569200\n",
       "2010-02-04    1644200\n",
       "2010-02-05    2305800\n",
       "2010-02-08    2568300\n",
       "2010-02-09    1152300\n",
       "2010-02-10    1058700\n",
       "2010-02-11    1470200\n",
       "2010-02-12    2058800\n",
       "               ...   \n",
       "2016-03-11     838700\n",
       "2016-03-14    1492700\n",
       "2016-03-15     666700\n",
       "2016-03-16     784300\n",
       "2016-03-17     620800\n",
       "2016-03-18     677800\n",
       "2016-03-21    1105300\n",
       "2016-03-22     824500\n",
       "2016-03-23     747900\n",
       "2016-03-24     771300\n",
       "2016-03-25     932100\n",
       "2016-03-28          0\n",
       "2016-03-29          0\n",
       "2016-03-30     797500\n",
       "2016-03-31    1142800\n",
       "2016-04-01    2231000\n",
       "2016-04-04    2060100\n",
       "2016-04-05    6047200\n",
       "2016-04-06    2885800\n",
       "2016-04-07    1383200\n",
       "2016-04-08    1398800\n",
       "2016-04-11    1512100\n",
       "2016-04-12    1176400\n",
       "2016-04-13    1339000\n",
       "2016-04-14    1359000\n",
       "2016-04-15    1257600\n",
       "2016-04-18    1564300\n",
       "2016-04-19    1076800\n",
       "2016-04-20    1419900\n",
       "2016-04-21     818800\n",
       "Name: Volume, dtype: float64"
      ]
     },
     "execution_count": 39,
     "metadata": {},
     "output_type": "execute_result"
    }
   ],
   "source": [
    "EN['Volume'].shift(1)"
   ]
  },
  {
   "cell_type": "code",
   "execution_count": 40,
   "metadata": {
    "collapsed": true
   },
   "outputs": [],
   "source": [
    "rets = np.log(EN['Adj Close']/EN['Adj Close'].shift(1))"
   ]
  },
  {
   "cell_type": "code",
   "execution_count": 41,
   "metadata": {
    "collapsed": false
   },
   "outputs": [
    {
     "data": {
      "text/plain": [
       "<matplotlib.axes._subplots.AxesSubplot at 0x7f203d811198>"
      ]
     },
     "execution_count": 41,
     "metadata": {},
     "output_type": "execute_result"
    },
    {
     "data": {
      "image/png": "[encoded data removed]",
      "text/plain": [
       "<matplotlib.figure.Figure at 0x7f203d800748>"
      ]
     },
     "metadata": {},
     "output_type": "display_data"
    }
   ],
   "source": [
    "rets.plot(figsize=(15,6))"
   ]
  },
  {
   "cell_type": "code",
   "execution_count": 45,
   "metadata": {
    "collapsed": false
   },
   "outputs": [
    {
     "data": {
      "text/plain": [
       "<matplotlib.axes._subplots.AxesSubplot at 0x7f2038c67320>"
      ]
     },
     "execution_count": 45,
     "metadata": {},
     "output_type": "execute_result"
    },
    {
     "data": {
      "image/png": "[encoded data removed]",
      "text/plain": [
       "<matplotlib.figure.Figure at 0x7f2038cb33c8>"
      ]
     },
     "metadata": {},
     "output_type": "display_data"
    }
   ],
   "source": [
    "rets.hist(figsize=(15,6), bins=50)"
   ]
  },
  {
   "cell_type": "code",
   "execution_count": null,
   "metadata": {
    "collapsed": true
   },
   "outputs": [],
   "source": []
  }
 ],
 "metadata": {
  "kernelspec": {
   "display_name": "Python 3",
   "language": "python",
   "name": "python3"
  },
  "language_info": {
   "codemirror_mode": {
    "name": "ipython",
    "version": 3
   },
   "file_extension": ".py",
   "mimetype": "text/x-python",
   "name": "python",
   "nbconvert_exporter": "python",
   "pygments_lexer": "ipython3",
   "version": "3.5.1"
  }
 },
 "nbformat": 4,
 "nbformat_minor": 0
}
