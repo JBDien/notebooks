{
 "cells": [
  {
   "cell_type": "markdown",
   "metadata": {
    "slideshow": {
     "slide_type": "slide"
    }
   },
   "source": [
    "<img src=\"http://hilpisch.com/tpq_logo.png\" alt=\"The Python Quants\" width=\"35%\" align=\"right\" border=\"0\"><br>"
   ]
  },
  {
   "cell_type": "markdown",
   "metadata": {},
   "source": [
    "# Python for Finance Course"
   ]
  },
  {
   "cell_type": "markdown",
   "metadata": {},
   "source": [
    "**Module 1 &mdash; Financial Data**\n",
    "\n",
    "[team@tpq.io](mailto:team@tpq.io) | [http://tpq.io](http://tpq.io)\n",
    "\n",
    "The Python Quants GmbH"
   ]
  },
  {
   "cell_type": "markdown",
   "metadata": {},
   "source": [
    "## Requirements"
   ]
  },
  {
   "cell_type": "markdown",
   "metadata": {},
   "source": [
    "Make sure to have installed locally a **comprehensive Python installation** like the [Anaconda](http://continuum.io/downloads) Python distribution.\n",
    "\n",
    "Alternatively, and more easily, register on the **[Quant Platform](http://pqp.io)** where you can execute this Jupyter Notebook file in the browser. After registration, you find all Jupyter Notebook files of this course in the folder `pffcourse`."
   ]
  },
  {
   "cell_type": "markdown",
   "metadata": {},
   "source": [
    "## Necessary Imports"
   ]
  },
  {
   "cell_type": "markdown",
   "metadata": {},
   "source": [
    "Working with Python in general requires you to **import certain modules/packages** from the standard library or from the so-called scientific or PyData stack (i.e. from third parties)."
   ]
  },
  {
   "cell_type": "code",
   "execution_count": 1,
   "metadata": {
    "collapsed": false
   },
   "outputs": [],
   "source": [
    "import numpy as np  # array operations\n",
    "import pandas as pd  # time series management\n",
    "from pandas_datareader import data as web  # data retrieval\n",
    "import seaborn as sns; sns.set()  # nicer plotting style\n",
    "# put all plots in the notebook itself\n",
    "%matplotlib inline"
   ]
  },
  {
   "cell_type": "markdown",
   "metadata": {},
   "source": [
    "## Retrieving Stock Price Data"
   ]
  },
  {
   "cell_type": "markdown",
   "metadata": {},
   "source": [
    "We retrieve **stock price data for Apple** from Yahoo! Finance."
   ]
  },
  {
   "cell_type": "code",
   "execution_count": 2,
   "metadata": {
    "collapsed": true
   },
   "outputs": [],
   "source": [
    "AAPL = web.DataReader('AAPL', data_source='yahoo')"
   ]
  },
  {
   "cell_type": "markdown",
   "metadata": {},
   "source": [
    "The `AAPL` object is of **type** `DataFrame`."
   ]
  },
  {
   "cell_type": "code",
   "execution_count": 3,
   "metadata": {
    "collapsed": false
   },
   "outputs": [
    {
     "data": {
      "text/plain": [
       "pandas.core.frame.DataFrame"
      ]
     },
     "execution_count": 3,
     "metadata": {},
     "output_type": "execute_result"
    }
   ],
   "source": [
    "type(AAPL)"
   ]
  },
  {
   "cell_type": "markdown",
   "metadata": {},
   "source": [
    "`DataFrame` objects provide a **wealth of (convenience) methods**."
   ]
  },
  {
   "cell_type": "code",
   "execution_count": 4,
   "metadata": {
    "collapsed": false
   },
   "outputs": [
    {
     "name": "stdout",
     "output_type": "stream",
     "text": [
      "<class 'pandas.core.frame.DataFrame'>\n",
      "DatetimeIndex: 1577 entries, 2010-01-04 to 2016-04-08\n",
      "Data columns (total 6 columns):\n",
      "Open         1577 non-null float64\n",
      "High         1577 non-null float64\n",
      "Low          1577 non-null float64\n",
      "Close        1577 non-null float64\n",
      "Volume       1577 non-null int64\n",
      "Adj Close    1577 non-null float64\n",
      "dtypes: float64(5), int64(1)\n",
      "memory usage: 86.2 KB\n"
     ]
    }
   ],
   "source": [
    "AAPL.info()  # meta information"
   ]
  },
  {
   "cell_type": "markdown",
   "metadata": {},
   "source": [
    "## Working with the Data"
   ]
  },
  {
   "cell_type": "markdown",
   "metadata": {},
   "source": [
    "Let us inspect the **final five rows** of the data set."
   ]
  },
  {
   "cell_type": "code",
   "execution_count": 5,
   "metadata": {
    "collapsed": false
   },
   "outputs": [
    {
     "data": {
      "text/html": [
       "<div>\n",
       "<table border=\"1\" class=\"dataframe\">\n",
       "  <thead>\n",
       "    <tr style=\"text-align: right;\">\n",
       "      <th></th>\n",
       "      <th>Open</th>\n",
       "      <th>High</th>\n",
       "      <th>Low</th>\n",
       "      <th>Close</th>\n",
       "      <th>Volume</th>\n",
       "      <th>Adj Close</th>\n",
       "    </tr>\n",
       "    <tr>\n",
       "      <th>Date</th>\n",
       "      <th></th>\n",
       "      <th></th>\n",
       "      <th></th>\n",
       "      <th></th>\n",
       "      <th></th>\n",
       "      <th></th>\n",
       "    </tr>\n",
       "  </thead>\n",
       "  <tbody>\n",
       "    <tr>\n",
       "      <th>2016-04-04</th>\n",
       "      <td>110.419998</td>\n",
       "      <td>112.190002</td>\n",
       "      <td>110.269997</td>\n",
       "      <td>111.120003</td>\n",
       "      <td>37333500</td>\n",
       "      <td>111.120003</td>\n",
       "    </tr>\n",
       "    <tr>\n",
       "      <th>2016-04-05</th>\n",
       "      <td>109.510002</td>\n",
       "      <td>110.730003</td>\n",
       "      <td>109.419998</td>\n",
       "      <td>109.809998</td>\n",
       "      <td>26495300</td>\n",
       "      <td>109.809998</td>\n",
       "    </tr>\n",
       "    <tr>\n",
       "      <th>2016-04-06</th>\n",
       "      <td>110.230003</td>\n",
       "      <td>110.980003</td>\n",
       "      <td>109.199997</td>\n",
       "      <td>110.959999</td>\n",
       "      <td>26047800</td>\n",
       "      <td>110.959999</td>\n",
       "    </tr>\n",
       "    <tr>\n",
       "      <th>2016-04-07</th>\n",
       "      <td>109.949997</td>\n",
       "      <td>110.419998</td>\n",
       "      <td>108.120003</td>\n",
       "      <td>108.540001</td>\n",
       "      <td>30881000</td>\n",
       "      <td>108.540001</td>\n",
       "    </tr>\n",
       "    <tr>\n",
       "      <th>2016-04-08</th>\n",
       "      <td>108.910004</td>\n",
       "      <td>109.769997</td>\n",
       "      <td>108.169998</td>\n",
       "      <td>108.660004</td>\n",
       "      <td>23514500</td>\n",
       "      <td>108.660004</td>\n",
       "    </tr>\n",
       "  </tbody>\n",
       "</table>\n",
       "</div>"
      ],
      "text/plain": [
       "                  Open        High         Low       Close    Volume  \\\n",
       "Date                                                                   \n",
       "2016-04-04  110.419998  112.190002  110.269997  111.120003  37333500   \n",
       "2016-04-05  109.510002  110.730003  109.419998  109.809998  26495300   \n",
       "2016-04-06  110.230003  110.980003  109.199997  110.959999  26047800   \n",
       "2016-04-07  109.949997  110.419998  108.120003  108.540001  30881000   \n",
       "2016-04-08  108.910004  109.769997  108.169998  108.660004  23514500   \n",
       "\n",
       "             Adj Close  \n",
       "Date                    \n",
       "2016-04-04  111.120003  \n",
       "2016-04-05  109.809998  \n",
       "2016-04-06  110.959999  \n",
       "2016-04-07  108.540001  \n",
       "2016-04-08  108.660004  "
      ]
     },
     "execution_count": 5,
     "metadata": {},
     "output_type": "execute_result"
    }
   ],
   "source": [
    "AAPL.tail()  # final five rows"
   ]
  },
  {
   "cell_type": "markdown",
   "metadata": {},
   "source": [
    "You can easily **select single or multiple columns** of a `DataFrame` object."
   ]
  },
  {
   "cell_type": "code",
   "execution_count": 6,
   "metadata": {
    "collapsed": false
   },
   "outputs": [
    {
     "data": {
      "text/plain": [
       "Date\n",
       "2010-01-04    28.313195\n",
       "2010-01-05    28.362145\n",
       "2010-01-06    27.911008\n",
       "2010-01-07    27.859412\n",
       "2010-01-08    28.044630\n",
       "Name: Adj Close, dtype: float64"
      ]
     },
     "execution_count": 6,
     "metadata": {},
     "output_type": "execute_result"
    }
   ],
   "source": [
    "AAPL['Adj Close'].head()  # first five rows of single column"
   ]
  },
  {
   "cell_type": "code",
   "execution_count": 7,
   "metadata": {
    "collapsed": false
   },
   "outputs": [
    {
     "data": {
      "text/html": [
       "<div>\n",
       "<table border=\"1\" class=\"dataframe\">\n",
       "  <thead>\n",
       "    <tr style=\"text-align: right;\">\n",
       "      <th></th>\n",
       "      <th>Open</th>\n",
       "      <th>Close</th>\n",
       "    </tr>\n",
       "    <tr>\n",
       "      <th>Date</th>\n",
       "      <th></th>\n",
       "      <th></th>\n",
       "    </tr>\n",
       "  </thead>\n",
       "  <tbody>\n",
       "    <tr>\n",
       "      <th>2016-04-04</th>\n",
       "      <td>110.419998</td>\n",
       "      <td>111.120003</td>\n",
       "    </tr>\n",
       "    <tr>\n",
       "      <th>2016-04-05</th>\n",
       "      <td>109.510002</td>\n",
       "      <td>109.809998</td>\n",
       "    </tr>\n",
       "    <tr>\n",
       "      <th>2016-04-06</th>\n",
       "      <td>110.230003</td>\n",
       "      <td>110.959999</td>\n",
       "    </tr>\n",
       "    <tr>\n",
       "      <th>2016-04-07</th>\n",
       "      <td>109.949997</td>\n",
       "      <td>108.540001</td>\n",
       "    </tr>\n",
       "    <tr>\n",
       "      <th>2016-04-08</th>\n",
       "      <td>108.910004</td>\n",
       "      <td>108.660004</td>\n",
       "    </tr>\n",
       "  </tbody>\n",
       "</table>\n",
       "</div>"
      ],
      "text/plain": [
       "                  Open       Close\n",
       "Date                              \n",
       "2016-04-04  110.419998  111.120003\n",
       "2016-04-05  109.510002  109.809998\n",
       "2016-04-06  110.230003  110.959999\n",
       "2016-04-07  109.949997  108.540001\n",
       "2016-04-08  108.910004  108.660004"
      ]
     },
     "execution_count": 7,
     "metadata": {},
     "output_type": "execute_result"
    }
   ],
   "source": [
    "AAPL[['Open', 'Close']].tail()  # last five rows of 2 columns"
   ]
  },
  {
   "cell_type": "markdown",
   "metadata": {},
   "source": [
    "Similarly, you can select **single or multiple rows**."
   ]
  },
  {
   "cell_type": "code",
   "execution_count": 8,
   "metadata": {
    "collapsed": false
   },
   "outputs": [
    {
     "data": {
      "text/plain": [
       "Open              109.510002\n",
       "High              110.730003\n",
       "Low               109.419998\n",
       "Close             109.809998\n",
       "Volume       26495300.000000\n",
       "Adj Close         109.809998\n",
       "Name: 2016-04-05 00:00:00, dtype: float64"
      ]
     },
     "execution_count": 8,
     "metadata": {},
     "output_type": "execute_result"
    }
   ],
   "source": [
    "AAPL.loc['2016-04-05']  # single row via index value"
   ]
  },
  {
   "cell_type": "code",
   "execution_count": 9,
   "metadata": {
    "collapsed": false
   },
   "outputs": [
    {
     "data": {
      "text/html": [
       "<div>\n",
       "<table border=\"1\" class=\"dataframe\">\n",
       "  <thead>\n",
       "    <tr style=\"text-align: right;\">\n",
       "      <th></th>\n",
       "      <th>Open</th>\n",
       "      <th>High</th>\n",
       "      <th>Low</th>\n",
       "      <th>Close</th>\n",
       "      <th>Volume</th>\n",
       "      <th>Adj Close</th>\n",
       "    </tr>\n",
       "    <tr>\n",
       "      <th>Date</th>\n",
       "      <th></th>\n",
       "      <th></th>\n",
       "      <th></th>\n",
       "      <th></th>\n",
       "      <th></th>\n",
       "      <th></th>\n",
       "    </tr>\n",
       "  </thead>\n",
       "  <tbody>\n",
       "    <tr>\n",
       "      <th>2010-01-04</th>\n",
       "      <td>213.429998</td>\n",
       "      <td>214.499996</td>\n",
       "      <td>212.380001</td>\n",
       "      <td>214.009998</td>\n",
       "      <td>123432400</td>\n",
       "      <td>28.313195</td>\n",
       "    </tr>\n",
       "    <tr>\n",
       "      <th>2010-01-05</th>\n",
       "      <td>214.599998</td>\n",
       "      <td>215.589994</td>\n",
       "      <td>213.249994</td>\n",
       "      <td>214.379993</td>\n",
       "      <td>150476200</td>\n",
       "      <td>28.362145</td>\n",
       "    </tr>\n",
       "  </tbody>\n",
       "</table>\n",
       "</div>"
      ],
      "text/plain": [
       "                  Open        High         Low       Close     Volume  \\\n",
       "Date                                                                    \n",
       "2010-01-04  213.429998  214.499996  212.380001  214.009998  123432400   \n",
       "2010-01-05  214.599998  215.589994  213.249994  214.379993  150476200   \n",
       "\n",
       "            Adj Close  \n",
       "Date                   \n",
       "2010-01-04  28.313195  \n",
       "2010-01-05  28.362145  "
      ]
     },
     "execution_count": 9,
     "metadata": {},
     "output_type": "execute_result"
    }
   ],
   "source": [
    "AAPL.iloc[:2]  # two rows via index numbers"
   ]
  },
  {
   "cell_type": "markdown",
   "metadata": {},
   "source": [
    "## Data Visualization"
   ]
  },
  {
   "cell_type": "markdown",
   "metadata": {},
   "source": [
    "There is also a powerful **method for plotting**."
   ]
  },
  {
   "cell_type": "code",
   "execution_count": 10,
   "metadata": {
    "collapsed": false
   },
   "outputs": [
    {
     "data": {
      "image/png": "[encoded data removed]",
      "text/plain": [
       "<matplotlib.figure.Figure at 0x7fc82af1af90>"
      ]
     },
     "metadata": {},
     "output_type": "display_data"
    }
   ],
   "source": [
    "AAPL['Adj Close'].plot(figsize=(10, 6));"
   ]
  },
  {
   "cell_type": "markdown",
   "metadata": {},
   "source": [
    "Let us calculate the Apple stock price **log returns**."
   ]
  },
  {
   "cell_type": "code",
   "execution_count": 11,
   "metadata": {
    "collapsed": false
   },
   "outputs": [],
   "source": [
    "# fully vectorized operation for log return calculation\n",
    "rets = np.log(AAPL['Adj Close'] / AAPL['Adj Close'].shift(1))"
   ]
  },
  {
   "cell_type": "markdown",
   "metadata": {},
   "source": [
    "The log returns can then be visualized via a **histogram**."
   ]
  },
  {
   "cell_type": "code",
   "execution_count": 12,
   "metadata": {
    "collapsed": false
   },
   "outputs": [
    {
     "data": {
      "image/png": "[encoded data removed]",
      "text/plain": [
       "<matplotlib.figure.Figure at 0x7fc85d902850>"
      ]
     },
     "metadata": {},
     "output_type": "display_data"
    }
   ],
   "source": [
    "rets.hist(figsize=(10, 6), bins=35);"
   ]
  },
  {
   "cell_type": "markdown",
   "metadata": {},
   "source": [
    "## Calculating a Moving Average"
   ]
  },
  {
   "cell_type": "markdown",
   "metadata": {},
   "source": [
    "pandas provides, among others, convenience functions for the calculation of **moving averages**."
   ]
  },
  {
   "cell_type": "code",
   "execution_count": 13,
   "metadata": {
    "collapsed": true
   },
   "outputs": [],
   "source": [
    "# fully vectorized calculation of 50 days moving average/trend\n",
    "AAPL['MA50'] = pd.rolling_mean(AAPL['Adj Close'], window=50)"
   ]
  },
  {
   "cell_type": "code",
   "execution_count": 14,
   "metadata": {
    "collapsed": false
   },
   "outputs": [
    {
     "data": {
      "image/png": "[encoded data removed]",
      "text/plain": [
       "<matplotlib.figure.Figure at 0x7fc828a07550>"
      ]
     },
     "metadata": {},
     "output_type": "display_data"
    }
   ],
   "source": [
    "AAPL[['Adj Close', 'MA50']].plot(figsize=(10, 6));"
   ]
  },
  {
   "cell_type": "markdown",
   "metadata": {},
   "source": [
    "## Closing Remarks"
   ]
  },
  {
   "cell_type": "markdown",
   "metadata": {},
   "source": [
    "This closes the first module of the Python for Finance email course. In this module, you have learned:\n",
    "\n",
    "* how to retrieve stock price data with pandas (datareader)\n",
    "* how to look up information about and data stored in a `DataFrame` object\n",
    "* how to select columns and rows from a `DataFrame` object\n",
    "* how to visulize data stored in a `DataFrame` object\n",
    "* how to do vectorized calculations with `DataFrame` objects (log returns, moving average)\n",
    "\n",
    "What you have learned today builds the basis for many important use cases for Python in Finance."
   ]
  },
  {
   "cell_type": "markdown",
   "metadata": {},
   "source": [
    "## Exercises"
   ]
  },
  {
   "cell_type": "markdown",
   "metadata": {},
   "source": [
    "In order to master the material of this module, do the following:\n",
    "\n",
    "* replace Apple by another symbol, eg. `MSFT`, `YHOO`, `^GSPC`\n",
    "* read the documentation for `DataReader` under http://pandas.pydata.org/pandas-docs/stable/remote_data.html\n",
    "* read the **10 Minutes to pandas** tutorial under http://pandas.pydata.org/pandas-docs/stable/10min.html\n",
    "* discover plotting options under http://pandas.pydata.org/pandas-docs/stable/visualization.html\n",
    "* calculate other statics with e.g. `pd.rolling_std` or `pd.rolling_max`\n",
    "* discover more computational tools of pandas under http://pandas.pydata.org/pandas-docs/stable/computation.html"
   ]
  },
  {
   "cell_type": "markdown",
   "metadata": {},
   "source": [
    "## References"
   ]
  },
  {
   "cell_type": "markdown",
   "metadata": {},
   "source": [
    "You find background information for the topics covered in this module in the following books:\n",
    "\n",
    "* Hilpisch, Yves (2014): _Python for Finance_. O'Reilly, ch. 6.\n",
    "* McKinney, Wes (2012): _Python for Data Analysis_. O'Reilly."
   ]
  },
  {
   "cell_type": "markdown",
   "metadata": {
    "slideshow": {
     "slide_type": "slide"
    }
   },
   "source": [
    "<img src=\"http://hilpisch.com/tpq_logo.png\" alt=\"The Python Quants\" width=\"35%\" align=\"right\" border=\"0\"><br>\n",
    "\n",
    "<a href=\"http://tpq.io\" target=\"_blank\">http://tpq.io</a> | <a href=\"http://twitter.com/dyjh\" target=\"_blank\">@dyjh</a> | <a href=\"mailto:team@tpq.io\">team@tpq.io</a>\n",
    "\n",
    "**Quant Platform** |\n",
    "<a href=\"http://quant-platform.com\">http://quant-platform.com</a>\n",
    "\n",
    "**Python for Finance** |\n",
    "<a href=\"http://python-for-finance.com\" target=\"_blank\">Python for Finance @ O'Reilly</a>\n",
    "\n",
    "**Derivatives Analytics with Python** |\n",
    "<a href=\"http://derivatives-analytics-with-python.com\" target=\"_blank\">Derivatives Analytics @ Wiley Finance</a>\n",
    "\n",
    "**Listed Volatility and Variance Derivatives** |\n",
    "<a href=\"http://lvvd.tpq.io\" target=\"_blank\">Listed VV Derivatives @ Wiley Finance</a>"
   ]
  }
 ],
 "metadata": {
  "celltoolbar": "Slideshow",
  "kernelspec": {
   "display_name": "Python 2",
   "language": "python2",
   "name": "python2"
  },
  "language_info": {
   "codemirror_mode": {
    "name": "ipython",
    "version": 2
   },
   "file_extension": ".py",
   "mimetype": "text/x-python",
   "name": "python",
   "nbconvert_exporter": "python",
   "pygments_lexer": "ipython2",
   "version": "2.7.11"
  }
 },
 "nbformat": 4,
 "nbformat_minor": 0
}
