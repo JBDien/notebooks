{
 "cells": [
  {
   "cell_type": "markdown",
   "metadata": {},
   "source": [
    "Introduction to Python for Scientists and Engineers\n",
    "============================\n",
    "**Cambridge, MA, January 10th 2016**\n",
    "<br>\n",
    "<center>\n",
    "<table border=0>\n",
    "<tr><td><img width=350 src=\"http://docs.continuum.io/_static/img/ContinuumWordmark.png\"></td><td><img width=350 src=\"https://www.continuum.io/media/img/anaconda_logo.png\"></td></tr>\n",
    "</table>\n",
    "</center>\n",
    "\n",
    "**Copyrighted Continuum Analytics**\n",
    "\n",
    "<br>\n",
    "Taught by:\n",
    "\n",
    "* Ian Stokes-Rees [ijstokes@continuum.io](mailto:ijstokes@continuum.io)\n",
    "    * Twitter: [@ijstokes](http://twitter.com/ijstokes)\n",
    "    * About.Me: [http://about.me/ijstokes](http://about.me/ijstokes)\n",
    "    * LinkedIn: [http://linkedin.com/in/ijstokes](http://linkedin.com/in/ijstokes)\n",
    "\n",
    "Course Website: \n",
    " http://j.mp/python-sci-intro-3h"
   ]
  },
  {
   "cell_type": "markdown",
   "metadata": {},
   "source": [
    "Setup\n",
    "===\n",
    "* Download Anaconda 2.4 for Python 3.5\n",
    "* Start *Anaconda Launcher* from your desktop (snake swirl guitar pick)\n",
    "* Make sure it says *Python 3.5* in the top row\n",
    "    * if not, click on *Environment* then *New Environment* and create one called `ana24py35` using Python 3.5\n",
    "* Launch Notebook (may require \"upgrade\" or \"install\" first)\n",
    "* Alternative for command line geeks:\n",
    "\n",
    "```bash\n",
    "conda create -n ana24py35 anaconda python=3.5\n",
    "source activate ana24py35\n",
    "mkdir learnpython\n",
    "cd learnpython\n",
    "jupyter notebook\n",
    "```"
   ]
  },
  {
   "cell_type": "code",
   "execution_count": 229,
   "metadata": {
    "collapsed": true
   },
   "outputs": [],
   "source": [
    "# helper function to clear namespace:\n",
    "def _clear():\n",
    "    for thing in globals().keys():\n",
    "        if not thing.startswith(\"_\"):\n",
    "            del globals()[thing]"
   ]
  },
  {
   "cell_type": "code",
   "execution_count": 201,
   "metadata": {
    "collapsed": false
   },
   "outputs": [],
   "source": [
    "# helper function to list non-underscore, non-Jupyter attributes\n",
    "def mydir():\n",
    "    return [a for a in sorted(globals())\n",
    "            if not (a.startswith('_') or a in 'In Out exit quit get_ipython mydir'.split())]"
   ]
  },
  {
   "cell_type": "markdown",
   "metadata": {},
   "source": [
    "Reference\n",
    "======\n",
    "* [Python Standard Library modules](http://www.doughellmann.com/PyMOTW/py-modindex.html)\n",
    "* [`builtin` functions and classes](http://docs.python.org/library/functions.html)\n",
    "* [Idiomatic Python](http://python.net/~goodger/projects/pycon/2007/idiomatic/handout.html)\n",
    "* Python Style Guides:\n",
    "    * [PEP 8](http://legacy.python.org/dev/peps/pep-0008/)\n",
    "    * [Google Python Style Guide](http://google-styleguide.googlecode.com/svn/trunk/pyguide.html)\n",
    "* Magic methods:\n",
    "    * [official specs](http://docs.python.org/reference/datamodel.html#special-method-names)\n",
    "    * [great summary](http://www.rafekettler.com/magicmethods.html)\n",
    "* [Scipy Lectures](http://www.scipy-lectures.org/)\n",
    "* [Numpy Tutorial](https://docs.scipy.org/doc/numpy-dev/user/quickstart.html)\n",
    "    * [Numpy for Matlab Users](https://docs.scipy.org/doc/numpy-dev/user/numpy-for-matlab-users.html)\n",
    "* [Matplotlib Plotting Tutorial](http://matplotlib.org/users/pyplot_tutorial.html)\n",
    "    * [gallery](http://matplotlib.org/gallery.html)"
   ]
  },
  {
   "cell_type": "markdown",
   "metadata": {},
   "source": [
    "Numbers, Strings, and Math\n",
    "=============="
   ]
  },
  {
   "cell_type": "code",
   "execution_count": 126,
   "metadata": {
    "collapsed": false
   },
   "outputs": [
    {
     "data": {
      "text/plain": [
       "150"
      ]
     },
     "execution_count": 126,
     "metadata": {},
     "output_type": "execute_result"
    }
   ],
   "source": [
    "# basic math\n",
    "10 * 15"
   ]
  },
  {
   "cell_type": "code",
   "execution_count": 127,
   "metadata": {
    "collapsed": false
   },
   "outputs": [
    {
     "data": {
      "text/plain": [
       "7600000000.0"
      ]
     },
     "execution_count": 127,
     "metadata": {},
     "output_type": "execute_result"
    }
   ],
   "source": [
    "# scientific notation\n",
    "7.6E9"
   ]
  },
  {
   "cell_type": "code",
   "execution_count": 129,
   "metadata": {
    "collapsed": false
   },
   "outputs": [
    {
     "data": {
      "text/plain": [
       "(28+3j)"
      ]
     },
     "execution_count": 129,
     "metadata": {},
     "output_type": "execute_result"
    }
   ],
   "source": [
    "# complex numbers\n",
    "(2+3j) * (5-6j)"
   ]
  },
  {
   "cell_type": "code",
   "execution_count": 130,
   "metadata": {
    "collapsed": false
   },
   "outputs": [
    {
     "data": {
      "text/plain": [
       "1048576"
      ]
     },
     "execution_count": 130,
     "metadata": {},
     "output_type": "execute_result"
    }
   ],
   "source": [
    "# exponentiation\n",
    "2**20"
   ]
  },
  {
   "cell_type": "code",
   "execution_count": 131,
   "metadata": {
    "collapsed": false
   },
   "outputs": [
    {
     "data": {
      "text/plain": [
       "'here is a short single quoted string'"
      ]
     },
     "execution_count": 131,
     "metadata": {},
     "output_type": "execute_result"
    }
   ],
   "source": [
    "# strings\n",
    "'here is a short single quoted string'"
   ]
  },
  {
   "cell_type": "code",
   "execution_count": 132,
   "metadata": {
    "collapsed": false
   },
   "outputs": [
    {
     "data": {
      "text/plain": [
       "'\\nLong strings can be written that\\nspan many lines simply\\nby using balanced\\ntriple quotes\\n'"
      ]
     },
     "execution_count": 132,
     "metadata": {},
     "output_type": "execute_result"
    }
   ],
   "source": [
    "# long strings\n",
    "'''\n",
    "Long strings can be written that\n",
    "span many lines simply\n",
    "by using balanced\n",
    "triple quotes\n",
    "'''"
   ]
  },
  {
   "cell_type": "markdown",
   "metadata": {},
   "source": [
    "What do you think will happen if we try adding a string and an integer?\n",
    " \n",
    "<center><img src=\"http://templeofmut.files.wordpress.com/2012/03/transmogrifier_2.gif\">\n",
    "</center>"
   ]
  },
  {
   "cell_type": "code",
   "execution_count": 134,
   "metadata": {
    "collapsed": false
   },
   "outputs": [
    {
     "ename": "TypeError",
     "evalue": "Can't convert 'int' object to str implicitly",
     "output_type": "error",
     "traceback": [
      "\u001b[0;31m---------------------------------------------------------------------------\u001b[0m",
      "\u001b[0;31mTypeError\u001b[0m                                 Traceback (most recent call last)",
      "\u001b[0;32m<ipython-input-134-c4091c9a64de>\u001b[0m in \u001b[0;36m<module>\u001b[0;34m()\u001b[0m\n\u001b[1;32m      1\u001b[0m \u001b[0;31m# experiment!\u001b[0m\u001b[0;34m\u001b[0m\u001b[0;34m\u001b[0m\u001b[0m\n\u001b[0;32m----> 2\u001b[0;31m \u001b[0;34m'3'\u001b[0m \u001b[0;34m+\u001b[0m \u001b[0;36m7\u001b[0m\u001b[0;34m\u001b[0m\u001b[0m\n\u001b[0m",
      "\u001b[0;31mTypeError\u001b[0m: Can't convert 'int' object to str implicitly"
     ]
    }
   ],
   "source": [
    "# experiment!\n",
    "'3' + 7"
   ]
  },
  {
   "cell_type": "code",
   "execution_count": 135,
   "metadata": {
    "collapsed": false
   },
   "outputs": [
    {
     "ename": "TypeError",
     "evalue": "unsupported operand type(s) for +: 'int' and 'str'",
     "output_type": "error",
     "traceback": [
      "\u001b[0;31m---------------------------------------------------------------------------\u001b[0m",
      "\u001b[0;31mTypeError\u001b[0m                                 Traceback (most recent call last)",
      "\u001b[0;32m<ipython-input-135-dda706c53aac>\u001b[0m in \u001b[0;36m<module>\u001b[0;34m()\u001b[0m\n\u001b[0;32m----> 1\u001b[0;31m \u001b[0;36m3\u001b[0m \u001b[0;34m+\u001b[0m \u001b[0;34m'7'\u001b[0m\u001b[0;34m\u001b[0m\u001b[0m\n\u001b[0m",
      "\u001b[0;31mTypeError\u001b[0m: unsupported operand type(s) for +: 'int' and 'str'"
     ]
    }
   ],
   "source": [
    "3 + '7'"
   ]
  },
  {
   "cell_type": "code",
   "execution_count": 136,
   "metadata": {
    "collapsed": false
   },
   "outputs": [
    {
     "data": {
      "text/plain": [
       "'helloworld'"
      ]
     },
     "execution_count": 136,
     "metadata": {},
     "output_type": "execute_result"
    }
   ],
   "source": [
    "# but what about adding strings?\n",
    "'hello' + 'world'"
   ]
  },
  {
   "cell_type": "code",
   "execution_count": 137,
   "metadata": {
    "collapsed": false
   },
   "outputs": [
    {
     "data": {
      "text/plain": [
       "'hellohellohello'"
      ]
     },
     "execution_count": 137,
     "metadata": {},
     "output_type": "execute_result"
    }
   ],
   "source": [
    "# or multiplying strings?\n",
    "'hello' + 'hello' + 'hello'"
   ]
  },
  {
   "cell_type": "code",
   "execution_count": 138,
   "metadata": {
    "collapsed": false
   },
   "outputs": [
    {
     "data": {
      "text/plain": [
       "'hellohellohello'"
      ]
     },
     "execution_count": 138,
     "metadata": {},
     "output_type": "execute_result"
    }
   ],
   "source": [
    "'hello' * 3"
   ]
  },
  {
   "cell_type": "markdown",
   "metadata": {},
   "source": [
    "References (aka *variables*)\n",
    "==============="
   ]
  },
  {
   "cell_type": "code",
   "execution_count": 139,
   "metadata": {
    "collapsed": true
   },
   "outputs": [],
   "source": [
    "# expressions create objects which last as long as there is a reference to them\n",
    "a = 7"
   ]
  },
  {
   "cell_type": "code",
   "execution_count": 140,
   "metadata": {
    "collapsed": false
   },
   "outputs": [
    {
     "data": {
      "text/plain": [
       "7"
      ]
     },
     "execution_count": 140,
     "metadata": {},
     "output_type": "execute_result"
    }
   ],
   "source": [
    "a"
   ]
  },
  {
   "cell_type": "markdown",
   "metadata": {},
   "source": [
    "* these are typically called \"variables\", but a better name in Python is \"reference\"\n",
    "* a \"reference\" refers to an object\n",
    "* objects are Autonomous (no scope, heap allocated) and Anonymous (no name)\n",
    "* only references have a scope\n",
    "* references can be re-assigned to a new object at any time\n",
    "* allowed to have multiple references to the same object"
   ]
  },
  {
   "cell_type": "code",
   "execution_count": 11,
   "metadata": {
    "collapsed": true
   },
   "outputs": [],
   "source": [
    "# second reference to same object"
   ]
  },
  {
   "cell_type": "code",
   "execution_count": 141,
   "metadata": {
    "collapsed": true
   },
   "outputs": [],
   "source": [
    "b = a"
   ]
  },
  {
   "cell_type": "code",
   "execution_count": 142,
   "metadata": {
    "collapsed": false
   },
   "outputs": [
    {
     "data": {
      "text/plain": [
       "7"
      ]
     },
     "execution_count": 142,
     "metadata": {},
     "output_type": "execute_result"
    }
   ],
   "source": [
    "b"
   ]
  },
  {
   "cell_type": "code",
   "execution_count": 143,
   "metadata": {
    "collapsed": false
   },
   "outputs": [
    {
     "data": {
      "text/plain": [
       "7"
      ]
     },
     "execution_count": 143,
     "metadata": {},
     "output_type": "execute_result"
    }
   ],
   "source": [
    "a"
   ]
  },
  {
   "cell_type": "code",
   "execution_count": 144,
   "metadata": {
    "collapsed": false
   },
   "outputs": [
    {
     "data": {
      "text/plain": [
       "4297515104"
      ]
     },
     "execution_count": 144,
     "metadata": {},
     "output_type": "execute_result"
    }
   ],
   "source": [
    "id(a)"
   ]
  },
  {
   "cell_type": "code",
   "execution_count": 145,
   "metadata": {
    "collapsed": false
   },
   "outputs": [
    {
     "data": {
      "text/plain": [
       "4297515104"
      ]
     },
     "execution_count": 145,
     "metadata": {},
     "output_type": "execute_result"
    }
   ],
   "source": [
    "id(b)"
   ]
  },
  {
   "cell_type": "code",
   "execution_count": 8,
   "metadata": {
    "collapsed": false
   },
   "outputs": [],
   "source": [
    "# all objects have an ID, but don't read too much into this: it is a unique number assigned to each object"
   ]
  },
  {
   "cell_type": "code",
   "execution_count": 146,
   "metadata": {
    "collapsed": false
   },
   "outputs": [],
   "source": [
    "# can delete references, but this doesn't delete the object\n",
    "del a"
   ]
  },
  {
   "cell_type": "code",
   "execution_count": 148,
   "metadata": {
    "collapsed": false
   },
   "outputs": [
    {
     "ename": "NameError",
     "evalue": "name 'a' is not defined",
     "output_type": "error",
     "traceback": [
      "\u001b[0;31m---------------------------------------------------------------------------\u001b[0m",
      "\u001b[0;31mNameError\u001b[0m                                 Traceback (most recent call last)",
      "\u001b[0;32m<ipython-input-148-60b725f10c9c>\u001b[0m in \u001b[0;36m<module>\u001b[0;34m()\u001b[0m\n\u001b[0;32m----> 1\u001b[0;31m \u001b[0ma\u001b[0m\u001b[0;34m\u001b[0m\u001b[0m\n\u001b[0m",
      "\u001b[0;31mNameError\u001b[0m: name 'a' is not defined"
     ]
    }
   ],
   "source": [
    "a"
   ]
  },
  {
   "cell_type": "code",
   "execution_count": 149,
   "metadata": {
    "collapsed": false
   },
   "outputs": [
    {
     "data": {
      "text/plain": [
       "7"
      ]
     },
     "execution_count": 149,
     "metadata": {},
     "output_type": "execute_result"
    }
   ],
   "source": [
    "b"
   ]
  },
  {
   "cell_type": "code",
   "execution_count": 150,
   "metadata": {
    "collapsed": false
   },
   "outputs": [
    {
     "data": {
      "text/plain": [
       "4297515104"
      ]
     },
     "execution_count": 150,
     "metadata": {},
     "output_type": "execute_result"
    }
   ],
   "source": [
    "# the anonymous string object still exists and is accessible by the reference b\n",
    "id(b)"
   ]
  },
  {
   "cell_type": "code",
   "execution_count": 151,
   "metadata": {
    "collapsed": true
   },
   "outputs": [],
   "source": [
    "# so how can we delete an object? (HINT: trick question)\n",
    "# YOU CANNOT"
   ]
  },
  {
   "cell_type": "code",
   "execution_count": 152,
   "metadata": {
    "collapsed": true
   },
   "outputs": [],
   "source": [
    "c = 555"
   ]
  },
  {
   "cell_type": "code",
   "execution_count": 153,
   "metadata": {
    "collapsed": true
   },
   "outputs": [],
   "source": [
    "d = 500 + 55"
   ]
  },
  {
   "cell_type": "code",
   "execution_count": 155,
   "metadata": {
    "collapsed": false
   },
   "outputs": [
    {
     "data": {
      "text/plain": [
       "4560921040"
      ]
     },
     "execution_count": 155,
     "metadata": {},
     "output_type": "execute_result"
    }
   ],
   "source": [
    "id(c)"
   ]
  },
  {
   "cell_type": "code",
   "execution_count": 156,
   "metadata": {
    "collapsed": false
   },
   "outputs": [
    {
     "data": {
      "text/plain": [
       "4560920816"
      ]
     },
     "execution_count": 156,
     "metadata": {},
     "output_type": "execute_result"
    }
   ],
   "source": [
    "id(d)"
   ]
  },
  {
   "cell_type": "code",
   "execution_count": 157,
   "metadata": {
    "collapsed": false
   },
   "outputs": [
    {
     "data": {
      "text/plain": [
       "True"
      ]
     },
     "execution_count": 157,
     "metadata": {},
     "output_type": "execute_result"
    }
   ],
   "source": [
    "c == d"
   ]
  },
  {
   "cell_type": "code",
   "execution_count": 158,
   "metadata": {
    "collapsed": false
   },
   "outputs": [
    {
     "data": {
      "text/plain": [
       "False"
      ]
     },
     "execution_count": 158,
     "metadata": {},
     "output_type": "execute_result"
    }
   ],
   "source": [
    "c is d"
   ]
  },
  {
   "cell_type": "code",
   "execution_count": 159,
   "metadata": {
    "collapsed": true
   },
   "outputs": [],
   "source": [
    "e = d # aliasing operation: creates another reference to the same object"
   ]
  },
  {
   "cell_type": "code",
   "execution_count": 160,
   "metadata": {
    "collapsed": false
   },
   "outputs": [
    {
     "data": {
      "text/plain": [
       "True"
      ]
     },
     "execution_count": 160,
     "metadata": {},
     "output_type": "execute_result"
    }
   ],
   "source": [
    "e == d"
   ]
  },
  {
   "cell_type": "code",
   "execution_count": 161,
   "metadata": {
    "collapsed": false
   },
   "outputs": [
    {
     "data": {
      "text/plain": [
       "True"
      ]
     },
     "execution_count": 161,
     "metadata": {},
     "output_type": "execute_result"
    }
   ],
   "source": [
    "e is d"
   ]
  },
  {
   "cell_type": "markdown",
   "metadata": {},
   "source": [
    "Lists\n",
    "===\n",
    "* lists preserve order\n",
    "* have no constraint on duplicate entries\n",
    "* can be changed, reordered, added to, or removed from\n",
    "* **IMPORTANT:** really just contain a collection of \"unnamed\" references, not objects"
   ]
  },
  {
   "cell_type": "code",
   "execution_count": 162,
   "metadata": {
    "collapsed": true
   },
   "outputs": [],
   "source": [
    "# nums\n",
    "nums = [-3, 8, 2, 7, -4, 9, 6, 2, -4]"
   ]
  },
  {
   "cell_type": "code",
   "execution_count": 163,
   "metadata": {
    "collapsed": false
   },
   "outputs": [
    {
     "data": {
      "text/plain": [
       "[-3, 8, 2, 7, -4, 9, 6, 2, -4]"
      ]
     },
     "execution_count": 163,
     "metadata": {},
     "output_type": "execute_result"
    }
   ],
   "source": [
    "nums"
   ]
  },
  {
   "cell_type": "code",
   "execution_count": 164,
   "metadata": {
    "collapsed": false
   },
   "outputs": [
    {
     "data": {
      "text/plain": [
       "9"
      ]
     },
     "execution_count": 164,
     "metadata": {},
     "output_type": "execute_result"
    }
   ],
   "source": [
    "# function calls! type names!\n",
    "len(nums)"
   ]
  },
  {
   "cell_type": "code",
   "execution_count": 165,
   "metadata": {
    "collapsed": false
   },
   "outputs": [
    {
     "data": {
      "text/plain": [
       "list"
      ]
     },
     "execution_count": 165,
     "metadata": {},
     "output_type": "execute_result"
    }
   ],
   "source": [
    "type(nums)"
   ]
  },
  {
   "cell_type": "code",
   "execution_count": 166,
   "metadata": {
    "collapsed": true
   },
   "outputs": [],
   "source": [
    "meta = ['foo', 'bar', 'zip', 'zap']"
   ]
  },
  {
   "cell_type": "code",
   "execution_count": 167,
   "metadata": {
    "collapsed": false
   },
   "outputs": [
    {
     "data": {
      "text/plain": [
       "4"
      ]
     },
     "execution_count": 167,
     "metadata": {},
     "output_type": "execute_result"
    }
   ],
   "source": [
    "len(meta)"
   ]
  },
  {
   "cell_type": "code",
   "execution_count": 168,
   "metadata": {
    "collapsed": false
   },
   "outputs": [
    {
     "data": {
      "text/plain": [
       "list"
      ]
     },
     "execution_count": 168,
     "metadata": {},
     "output_type": "execute_result"
    }
   ],
   "source": [
    "type(meta)"
   ]
  },
  {
   "cell_type": "code",
   "execution_count": 169,
   "metadata": {
    "collapsed": false
   },
   "outputs": [
    {
     "data": {
      "text/plain": [
       "-3"
      ]
     },
     "execution_count": 169,
     "metadata": {},
     "output_type": "execute_result"
    }
   ],
   "source": [
    "# referencing FROM ZERO\n",
    "nums[0]"
   ]
  },
  {
   "cell_type": "code",
   "execution_count": 170,
   "metadata": {
    "collapsed": false
   },
   "outputs": [
    {
     "data": {
      "text/plain": [
       "'foo'"
      ]
     },
     "execution_count": 170,
     "metadata": {},
     "output_type": "execute_result"
    }
   ],
   "source": [
    "meta[0]"
   ]
  },
  {
   "cell_type": "code",
   "execution_count": 171,
   "metadata": {
    "collapsed": false
   },
   "outputs": [
    {
     "data": {
      "text/plain": [
       "['foo', 'bar', 'zip', 'zap']"
      ]
     },
     "execution_count": 171,
     "metadata": {},
     "output_type": "execute_result"
    }
   ],
   "source": [
    "# negative indexing (\"back from end\")\n",
    "meta"
   ]
  },
  {
   "cell_type": "code",
   "execution_count": 172,
   "metadata": {
    "collapsed": false
   },
   "outputs": [
    {
     "data": {
      "text/plain": [
       "'zap'"
      ]
     },
     "execution_count": 172,
     "metadata": {},
     "output_type": "execute_result"
    }
   ],
   "source": [
    "meta[-1]"
   ]
  },
  {
   "cell_type": "code",
   "execution_count": 173,
   "metadata": {
    "collapsed": false
   },
   "outputs": [
    {
     "data": {
      "text/plain": [
       "4"
      ]
     },
     "execution_count": 173,
     "metadata": {},
     "output_type": "execute_result"
    }
   ],
   "source": [
    "len(meta)"
   ]
  },
  {
   "cell_type": "code",
   "execution_count": 174,
   "metadata": {
    "collapsed": false
   },
   "outputs": [
    {
     "ename": "IndexError",
     "evalue": "list index out of range",
     "output_type": "error",
     "traceback": [
      "\u001b[0;31m---------------------------------------------------------------------------\u001b[0m",
      "\u001b[0;31mIndexError\u001b[0m                                Traceback (most recent call last)",
      "\u001b[0;32m<ipython-input-174-c69252a56415>\u001b[0m in \u001b[0;36m<module>\u001b[0;34m()\u001b[0m\n\u001b[0;32m----> 1\u001b[0;31m \u001b[0mmeta\u001b[0m\u001b[0;34m[\u001b[0m\u001b[0mlen\u001b[0m\u001b[0;34m(\u001b[0m\u001b[0mmeta\u001b[0m\u001b[0;34m)\u001b[0m\u001b[0;34m]\u001b[0m\u001b[0;34m\u001b[0m\u001b[0m\n\u001b[0m",
      "\u001b[0;31mIndexError\u001b[0m: list index out of range"
     ]
    }
   ],
   "source": [
    "meta[len(meta)]"
   ]
  },
  {
   "cell_type": "code",
   "execution_count": 175,
   "metadata": {
    "collapsed": false
   },
   "outputs": [
    {
     "ename": "IndexError",
     "evalue": "list index out of range",
     "output_type": "error",
     "traceback": [
      "\u001b[0;31m---------------------------------------------------------------------------\u001b[0m",
      "\u001b[0;31mIndexError\u001b[0m                                Traceback (most recent call last)",
      "\u001b[0;32m<ipython-input-175-be7dfebf8444>\u001b[0m in \u001b[0;36m<module>\u001b[0;34m()\u001b[0m\n\u001b[0;32m----> 1\u001b[0;31m \u001b[0mmeta\u001b[0m\u001b[0;34m[\u001b[0m\u001b[0;36m4\u001b[0m\u001b[0;34m]\u001b[0m\u001b[0;34m\u001b[0m\u001b[0m\n\u001b[0m",
      "\u001b[0;31mIndexError\u001b[0m: list index out of range"
     ]
    }
   ],
   "source": [
    "meta[4]"
   ]
  },
  {
   "cell_type": "code",
   "execution_count": 176,
   "metadata": {
    "collapsed": false
   },
   "outputs": [
    {
     "data": {
      "text/plain": [
       "'zap'"
      ]
     },
     "execution_count": 176,
     "metadata": {},
     "output_type": "execute_result"
    }
   ],
   "source": [
    "meta[3]"
   ]
  },
  {
   "cell_type": "code",
   "execution_count": 177,
   "metadata": {
    "collapsed": false
   },
   "outputs": [
    {
     "data": {
      "text/plain": [
       "'zap'"
      ]
     },
     "execution_count": 177,
     "metadata": {},
     "output_type": "execute_result"
    }
   ],
   "source": [
    "meta[-1]"
   ]
  },
  {
   "cell_type": "code",
   "execution_count": 178,
   "metadata": {
    "collapsed": false
   },
   "outputs": [
    {
     "data": {
      "text/plain": [
       "'zap'"
      ]
     },
     "execution_count": 178,
     "metadata": {},
     "output_type": "execute_result"
    }
   ],
   "source": [
    "meta[len(meta) - 1]"
   ]
  },
  {
   "cell_type": "code",
   "execution_count": 179,
   "metadata": {
    "collapsed": false
   },
   "outputs": [
    {
     "data": {
      "text/plain": [
       "'zip'"
      ]
     },
     "execution_count": 179,
     "metadata": {},
     "output_type": "execute_result"
    }
   ],
   "source": [
    "meta[-2]"
   ]
  },
  {
   "cell_type": "code",
   "execution_count": 180,
   "metadata": {
    "collapsed": false
   },
   "outputs": [
    {
     "data": {
      "text/plain": [
       "[-3, 8, 2, 7, -4, 9, 6, 2, -4]"
      ]
     },
     "execution_count": 180,
     "metadata": {},
     "output_type": "execute_result"
    }
   ],
   "source": [
    "# selecting a subset of objects from a list (NOTE: last index is not included)\n",
    "nums"
   ]
  },
  {
   "cell_type": "code",
   "execution_count": 181,
   "metadata": {
    "collapsed": false
   },
   "outputs": [
    {
     "data": {
      "text/plain": [
       "[2, 7, -4, 9]"
      ]
     },
     "execution_count": 181,
     "metadata": {},
     "output_type": "execute_result"
    }
   ],
   "source": [
    "nums[2:6]  # slice notation, END index not included"
   ]
  },
  {
   "cell_type": "markdown",
   "metadata": {},
   "source": [
    "Looping\n",
    "===="
   ]
  },
  {
   "cell_type": "code",
   "execution_count": 182,
   "metadata": {
    "collapsed": false
   },
   "outputs": [
    {
     "name": "stdout",
     "output_type": "stream",
     "text": [
      "found metasyntactic variable foo\n",
      "found metasyntactic variable bar\n",
      "found metasyntactic variable zip\n",
      "found metasyntactic variable zap\n"
     ]
    }
   ],
   "source": [
    "# for with print\n",
    "for m in meta:\n",
    "    print('found metasyntactic variable', m)"
   ]
  },
  {
   "cell_type": "code",
   "execution_count": 185,
   "metadata": {
    "collapsed": false
   },
   "outputs": [
    {
     "data": {
      "text/plain": [
       "[-3, 8, 2, 7, -4, 9, 6, 2, -4]"
      ]
     },
     "execution_count": 185,
     "metadata": {},
     "output_type": "execute_result"
    }
   ],
   "source": [
    "nums"
   ]
  },
  {
   "cell_type": "code",
   "execution_count": 184,
   "metadata": {
    "collapsed": false
   },
   "outputs": [
    {
     "name": "stdout",
     "output_type": "stream",
     "text": [
      "-3 \t 4297514784\n",
      "8 \t 4297515136\n",
      "2 \t 4297514944\n",
      "7 \t 4297515104\n",
      "-4 \t 4297514752\n",
      "9 \t 4297515168\n",
      "6 \t 4297515072\n",
      "2 \t 4297514944\n",
      "-4 \t 4297514752\n"
     ]
    }
   ],
   "source": [
    "for n in nums:\n",
    "    print(n, '\\t', id(n))"
   ]
  },
  {
   "cell_type": "code",
   "execution_count": 186,
   "metadata": {
    "collapsed": false
   },
   "outputs": [
    {
     "data": {
      "text/plain": [
       "[-3000, 8000, 2000, 7000, -4000, 9000, 6000, 2000, -4000]"
      ]
     },
     "execution_count": 186,
     "metadata": {},
     "output_type": "execute_result"
    }
   ],
   "source": [
    "# indentation, scoping, print() function, x, y, z\n",
    "bignums = []\n",
    "for n in nums:\n",
    "    bignums.append(n*1000)\n",
    "bignums"
   ]
  },
  {
   "cell_type": "code",
   "execution_count": 187,
   "metadata": {
    "collapsed": false
   },
   "outputs": [
    {
     "name": "stdout",
     "output_type": "stream",
     "text": [
      "-3000 \t 4560921136\n",
      "8000 \t 4560920720\n",
      "2000 \t 4560920976\n",
      "7000 \t 4560921200\n",
      "-4000 \t 4560920944\n",
      "9000 \t 4560921008\n",
      "6000 \t 4560921168\n",
      "2000 \t 4560920912\n",
      "-4000 \t 4560921232\n"
     ]
    }
   ],
   "source": [
    "for b in bignums:\n",
    "    print(b, '\\t', id(b))"
   ]
  },
  {
   "cell_type": "code",
   "execution_count": 188,
   "metadata": {
    "collapsed": true
   },
   "outputs": [],
   "source": [
    "a = 1000\n",
    "b = 2000\n",
    "c = 3000\n",
    "bignums = [a, b, c, 1000, 2000, 3000, a, b, c]"
   ]
  },
  {
   "cell_type": "code",
   "execution_count": 189,
   "metadata": {
    "collapsed": false
   },
   "outputs": [
    {
     "data": {
      "text/plain": [
       "[1000, 2000, 3000, 1000, 2000, 3000, 1000, 2000, 3000]"
      ]
     },
     "execution_count": 189,
     "metadata": {},
     "output_type": "execute_result"
    }
   ],
   "source": [
    "bignums"
   ]
  },
  {
   "cell_type": "code",
   "execution_count": 190,
   "metadata": {
    "collapsed": false
   },
   "outputs": [
    {
     "name": "stdout",
     "output_type": "stream",
     "text": [
      "1000 \t 4560921296\n",
      "2000 \t 4560921424\n",
      "3000 \t 4560921584\n",
      "1000 \t 4560921616\n",
      "2000 \t 4560921264\n",
      "3000 \t 4560921520\n",
      "1000 \t 4560921296\n",
      "2000 \t 4560921424\n",
      "3000 \t 4560921584\n"
     ]
    }
   ],
   "source": [
    "for b in bignums:\n",
    "    print(b, '\\t', id(b))"
   ]
  },
  {
   "cell_type": "markdown",
   "metadata": {},
   "source": [
    "Exercise 1: Average\n",
    "------------------\n",
    "* Create a list of 10 numbers, your choice.\n",
    "* Use a `for` loop to iterate over it.\n",
    "* Think about what you'd need to do to calculate the average\n",
    "* Remember the `len()` function.\n",
    "\n",
    "**Time: 5 minutes**"
   ]
  },
  {
   "cell_type": "code",
   "execution_count": 191,
   "metadata": {
    "collapsed": false
   },
   "outputs": [
    {
     "data": {
      "text/plain": [
       "[-3, 8, 2, 7, -4, 9, 6, 2, -4]"
      ]
     },
     "execution_count": 191,
     "metadata": {},
     "output_type": "execute_result"
    }
   ],
   "source": [
    "nums"
   ]
  },
  {
   "cell_type": "code",
   "execution_count": 193,
   "metadata": {
    "collapsed": false
   },
   "outputs": [
    {
     "name": "stdout",
     "output_type": "stream",
     "text": [
      "total 23\n",
      "mean 2.5555555555555554\n"
     ]
    }
   ],
   "source": [
    "total = 0\n",
    "\n",
    "for n in nums:\n",
    "    total = total + n\n",
    "\n",
    "print('total', total)    \n",
    "average = total/len(nums)\n",
    "print('mean', average)"
   ]
  },
  {
   "cell_type": "markdown",
   "metadata": {},
   "source": [
    "Functions\n",
    "====="
   ]
  },
  {
   "cell_type": "code",
   "execution_count": 196,
   "metadata": {
    "collapsed": true
   },
   "outputs": [],
   "source": [
    "# hello (bare)\n",
    "def hello():\n",
    "    print('Hi There!')"
   ]
  },
  {
   "cell_type": "code",
   "execution_count": 197,
   "metadata": {
    "collapsed": false
   },
   "outputs": [
    {
     "name": "stdout",
     "output_type": "stream",
     "text": [
      "Hi There!\n"
     ]
    }
   ],
   "source": [
    "hello()"
   ]
  },
  {
   "cell_type": "code",
   "execution_count": 199,
   "metadata": {
    "collapsed": true
   },
   "outputs": [],
   "source": [
    "# hello name\n",
    "def hello(name):\n",
    "    print('Howdy', name, '!')"
   ]
  },
  {
   "cell_type": "code",
   "execution_count": 200,
   "metadata": {
    "collapsed": false
   },
   "outputs": [
    {
     "ename": "TypeError",
     "evalue": "hello() missing 1 required positional argument: 'name'",
     "output_type": "error",
     "traceback": [
      "\u001b[0;31m---------------------------------------------------------------------------\u001b[0m",
      "\u001b[0;31mTypeError\u001b[0m                                 Traceback (most recent call last)",
      "\u001b[0;32m<ipython-input-200-07e4d92266f0>\u001b[0m in \u001b[0;36m<module>\u001b[0;34m()\u001b[0m\n\u001b[1;32m      1\u001b[0m \u001b[0;31m# call with no args: worked before, what now?\u001b[0m\u001b[0;34m\u001b[0m\u001b[0;34m\u001b[0m\u001b[0m\n\u001b[0;32m----> 2\u001b[0;31m \u001b[0mhello\u001b[0m\u001b[0;34m(\u001b[0m\u001b[0;34m)\u001b[0m\u001b[0;34m\u001b[0m\u001b[0m\n\u001b[0m",
      "\u001b[0;31mTypeError\u001b[0m: hello() missing 1 required positional argument: 'name'"
     ]
    }
   ],
   "source": [
    "# call with no args: worked before, what now?\n",
    "hello()"
   ]
  },
  {
   "cell_type": "code",
   "execution_count": 203,
   "metadata": {
    "collapsed": true
   },
   "outputs": [],
   "source": [
    "a = 42"
   ]
  },
  {
   "cell_type": "code",
   "execution_count": 204,
   "metadata": {
    "collapsed": true
   },
   "outputs": [],
   "source": [
    "b = 10"
   ]
  },
  {
   "cell_type": "code",
   "execution_count": 205,
   "metadata": {
    "collapsed": false
   },
   "outputs": [
    {
     "data": {
      "text/plain": [
       "52"
      ]
     },
     "execution_count": 205,
     "metadata": {},
     "output_type": "execute_result"
    }
   ],
   "source": [
    "a + b"
   ]
  },
  {
   "cell_type": "code",
   "execution_count": 206,
   "metadata": {
    "collapsed": false
   },
   "outputs": [
    {
     "data": {
      "text/plain": [
       "42"
      ]
     },
     "execution_count": 206,
     "metadata": {},
     "output_type": "execute_result"
    }
   ],
   "source": [
    "a"
   ]
  },
  {
   "cell_type": "code",
   "execution_count": 207,
   "metadata": {
    "collapsed": false
   },
   "outputs": [
    {
     "data": {
      "text/plain": [
       "int"
      ]
     },
     "execution_count": 207,
     "metadata": {},
     "output_type": "execute_result"
    }
   ],
   "source": [
    "type(a)"
   ]
  },
  {
   "cell_type": "code",
   "execution_count": 208,
   "metadata": {
    "collapsed": true
   },
   "outputs": [],
   "source": [
    "a = 'Monday morning'"
   ]
  },
  {
   "cell_type": "code",
   "execution_count": 209,
   "metadata": {
    "collapsed": false
   },
   "outputs": [
    {
     "data": {
      "text/plain": [
       "'Monday morning'"
      ]
     },
     "execution_count": 209,
     "metadata": {},
     "output_type": "execute_result"
    }
   ],
   "source": [
    "a"
   ]
  },
  {
   "cell_type": "code",
   "execution_count": 210,
   "metadata": {
    "collapsed": false
   },
   "outputs": [],
   "source": [
    "# scoping of 'name'"
   ]
  },
  {
   "cell_type": "code",
   "execution_count": 211,
   "metadata": {
    "collapsed": false
   },
   "outputs": [
    {
     "name": "stdout",
     "output_type": "stream",
     "text": [
      "Howdy Ian !\n"
     ]
    }
   ],
   "source": [
    "hello('Ian')"
   ]
  },
  {
   "cell_type": "code",
   "execution_count": 213,
   "metadata": {
    "collapsed": false
   },
   "outputs": [
    {
     "name": "stdout",
     "output_type": "stream",
     "text": [
      "Howdy Margaret !\n"
     ]
    }
   ],
   "source": [
    "hello('Margaret')"
   ]
  },
  {
   "cell_type": "code",
   "execution_count": 214,
   "metadata": {
    "collapsed": false
   },
   "outputs": [
    {
     "ename": "NameError",
     "evalue": "name 'name' is not defined",
     "output_type": "error",
     "traceback": [
      "\u001b[0;31m---------------------------------------------------------------------------\u001b[0m",
      "\u001b[0;31mNameError\u001b[0m                                 Traceback (most recent call last)",
      "\u001b[0;32m<ipython-input-214-18697449d7c4>\u001b[0m in \u001b[0;36m<module>\u001b[0;34m()\u001b[0m\n\u001b[0;32m----> 1\u001b[0;31m \u001b[0mname\u001b[0m\u001b[0;34m\u001b[0m\u001b[0m\n\u001b[0m",
      "\u001b[0;31mNameError\u001b[0m: name 'name' is not defined"
     ]
    }
   ],
   "source": [
    "name"
   ]
  },
  {
   "cell_type": "code",
   "execution_count": 216,
   "metadata": {
    "collapsed": true
   },
   "outputs": [],
   "source": [
    "# average (print)\n",
    "def average(array):\n",
    "    print('got array of numbers', array)\n",
    "    total = 0\n",
    "    \n",
    "    for x in array:\n",
    "        total += x # self increment\n",
    "    \n",
    "    print('total', total)\n",
    "    result = total/len(array)\n",
    "    print(result)"
   ]
  },
  {
   "cell_type": "code",
   "execution_count": 217,
   "metadata": {
    "collapsed": false
   },
   "outputs": [
    {
     "data": {
      "text/plain": [
       "[-3, 8, 2, 7, -4, 9, 6, 2, -4]"
      ]
     },
     "execution_count": 217,
     "metadata": {},
     "output_type": "execute_result"
    }
   ],
   "source": [
    "nums"
   ]
  },
  {
   "cell_type": "code",
   "execution_count": 218,
   "metadata": {
    "collapsed": false
   },
   "outputs": [
    {
     "name": "stdout",
     "output_type": "stream",
     "text": [
      "got array of numbers [-3, 8, 2, 7, -4, 9, 6, 2, -4]\n",
      "total 23\n",
      "2.5555555555555554\n"
     ]
    }
   ],
   "source": [
    "average(nums)"
   ]
  },
  {
   "cell_type": "code",
   "execution_count": 219,
   "metadata": {
    "collapsed": false
   },
   "outputs": [
    {
     "name": "stdout",
     "output_type": "stream",
     "text": [
      "got array of numbers [2, 3, 4, 5]\n",
      "total 14\n",
      "3.5\n"
     ]
    }
   ],
   "source": [
    "average([2,3,4,5])"
   ]
  },
  {
   "cell_type": "markdown",
   "metadata": {},
   "source": [
    "WARNING WARNING DANGER DANGER\n",
    "---------------------------\n",
    "* In a pedagogical setting we use the `print()` function a lot -- this \"just\" prints some stuff to the screen\n",
    "* In real programs and scripts we are much more selective and generally have only a few `print()` function calls\n",
    "\n",
    "**QUESTION:** What do we really want to do in our `average()` function?\n",
    "\n",
    "(someone who is new to Python)"
   ]
  },
  {
   "cell_type": "code",
   "execution_count": 220,
   "metadata": {
    "collapsed": false
   },
   "outputs": [
    {
     "name": "stdout",
     "output_type": "stream",
     "text": [
      "got array of numbers [2, 3, 4, 5]\n",
      "total 14\n",
      "3.5\n"
     ]
    }
   ],
   "source": [
    "# try calling average and \"capturing\" the result\n",
    "result = average([2,3,4,5]) # it didn't return an error, that's good isn't it?"
   ]
  },
  {
   "cell_type": "code",
   "execution_count": 222,
   "metadata": {
    "collapsed": false
   },
   "outputs": [
    {
     "name": "stdout",
     "output_type": "stream",
     "text": [
      "None\n"
     ]
    }
   ],
   "source": [
    "print(result)"
   ]
  },
  {
   "cell_type": "code",
   "execution_count": 23,
   "metadata": {
    "collapsed": false
   },
   "outputs": [],
   "source": [
    "# what is going on here? (what is \"result\"?)"
   ]
  },
  {
   "cell_type": "code",
   "execution_count": 223,
   "metadata": {
    "collapsed": false
   },
   "outputs": [
    {
     "name": "stdout",
     "output_type": "stream",
     "text": [
      "got array of numbers [2, 3, 4, 5]\n",
      "total 14\n",
      "3.5\n"
     ]
    },
    {
     "ename": "TypeError",
     "evalue": "unsupported operand type(s) for +: 'NoneType' and 'int'",
     "output_type": "error",
     "traceback": [
      "\u001b[0;31m---------------------------------------------------------------------------\u001b[0m",
      "\u001b[0;31mTypeError\u001b[0m                                 Traceback (most recent call last)",
      "\u001b[0;32m<ipython-input-223-08dcee3e9753>\u001b[0m in \u001b[0;36m<module>\u001b[0;34m()\u001b[0m\n\u001b[1;32m      1\u001b[0m \u001b[0;31m# Dynamically typed but strongly typed\u001b[0m\u001b[0;34m\u001b[0m\u001b[0;34m\u001b[0m\u001b[0m\n\u001b[1;32m      2\u001b[0m \u001b[0;31m# make a prediction: what is the result going to be if we try adding 10 to the result of average?\u001b[0m\u001b[0;34m\u001b[0m\u001b[0;34m\u001b[0m\u001b[0m\n\u001b[0;32m----> 3\u001b[0;31m \u001b[0maverage\u001b[0m\u001b[0;34m(\u001b[0m\u001b[0;34m[\u001b[0m\u001b[0;36m2\u001b[0m\u001b[0;34m,\u001b[0m\u001b[0;36m3\u001b[0m\u001b[0;34m,\u001b[0m\u001b[0;36m4\u001b[0m\u001b[0;34m,\u001b[0m\u001b[0;36m5\u001b[0m\u001b[0;34m]\u001b[0m\u001b[0;34m)\u001b[0m \u001b[0;34m+\u001b[0m \u001b[0;36m10\u001b[0m\u001b[0;34m\u001b[0m\u001b[0m\n\u001b[0m",
      "\u001b[0;31mTypeError\u001b[0m: unsupported operand type(s) for +: 'NoneType' and 'int'"
     ]
    }
   ],
   "source": [
    "# Dynamically typed but strongly typed\n",
    "# make a prediction: what is the result going to be if we try adding 10 to the result of average?\n",
    "average([2,3,4,5]) + 10"
   ]
  },
  {
   "cell_type": "code",
   "execution_count": 224,
   "metadata": {
    "collapsed": true
   },
   "outputs": [],
   "source": [
    "# average (fixed)\n",
    "def average(array):\n",
    "    'Calculate the mean of an array of numbers'\n",
    "    total = 0.0\n",
    "    \n",
    "    for x in array:\n",
    "        total += x\n",
    "\n",
    "    result = total/len(array)\n",
    "    return result"
   ]
  },
  {
   "cell_type": "code",
   "execution_count": null,
   "metadata": {
    "collapsed": true
   },
   "outputs": [],
   "source": []
  },
  {
   "cell_type": "code",
   "execution_count": 226,
   "metadata": {
    "collapsed": false
   },
   "outputs": [
    {
     "data": {
      "text/plain": [
       "3.5"
      ]
     },
     "execution_count": 226,
     "metadata": {},
     "output_type": "execute_result"
    }
   ],
   "source": [
    "# what is different about this from what we saw before?\n",
    "average([2,3,4,5])"
   ]
  },
  {
   "cell_type": "code",
   "execution_count": 227,
   "metadata": {
    "collapsed": false
   },
   "outputs": [
    {
     "data": {
      "text/plain": [
       "13.5"
      ]
     },
     "execution_count": 227,
     "metadata": {},
     "output_type": "execute_result"
    }
   ],
   "source": [
    "average([2,3,4,5]) + 10"
   ]
  },
  {
   "cell_type": "code",
   "execution_count": 228,
   "metadata": {
    "collapsed": true
   },
   "outputs": [],
   "source": [
    "result = average(nums)"
   ]
  },
  {
   "cell_type": "code",
   "execution_count": 229,
   "metadata": {
    "collapsed": false
   },
   "outputs": [
    {
     "data": {
      "text/plain": [
       "2.5555555555555554"
      ]
     },
     "execution_count": 229,
     "metadata": {},
     "output_type": "execute_result"
    }
   ],
   "source": [
    "result"
   ]
  },
  {
   "cell_type": "code",
   "execution_count": 230,
   "metadata": {
    "collapsed": false
   },
   "outputs": [
    {
     "ename": "ZeroDivisionError",
     "evalue": "float division by zero",
     "output_type": "error",
     "traceback": [
      "\u001b[0;31m---------------------------------------------------------------------------\u001b[0m",
      "\u001b[0;31mZeroDivisionError\u001b[0m                         Traceback (most recent call last)",
      "\u001b[0;32m<ipython-input-230-eb7660e9648f>\u001b[0m in \u001b[0;36m<module>\u001b[0;34m()\u001b[0m\n\u001b[1;32m      1\u001b[0m \u001b[0;31m# empty list\u001b[0m\u001b[0;34m\u001b[0m\u001b[0;34m\u001b[0m\u001b[0m\n\u001b[0;32m----> 2\u001b[0;31m \u001b[0maverage\u001b[0m\u001b[0;34m(\u001b[0m\u001b[0;34m[\u001b[0m\u001b[0;34m]\u001b[0m\u001b[0;34m)\u001b[0m\u001b[0;34m\u001b[0m\u001b[0m\n\u001b[0m",
      "\u001b[0;32m<ipython-input-224-a8cb41629030>\u001b[0m in \u001b[0;36maverage\u001b[0;34m(array)\u001b[0m\n\u001b[1;32m      7\u001b[0m         \u001b[0mtotal\u001b[0m \u001b[0;34m+=\u001b[0m \u001b[0mx\u001b[0m\u001b[0;34m\u001b[0m\u001b[0m\n\u001b[1;32m      8\u001b[0m \u001b[0;34m\u001b[0m\u001b[0m\n\u001b[0;32m----> 9\u001b[0;31m     \u001b[0mresult\u001b[0m \u001b[0;34m=\u001b[0m \u001b[0mtotal\u001b[0m\u001b[0;34m/\u001b[0m\u001b[0mlen\u001b[0m\u001b[0;34m(\u001b[0m\u001b[0marray\u001b[0m\u001b[0;34m)\u001b[0m\u001b[0;34m\u001b[0m\u001b[0m\n\u001b[0m\u001b[1;32m     10\u001b[0m     \u001b[0;32mreturn\u001b[0m \u001b[0mresult\u001b[0m\u001b[0;34m\u001b[0m\u001b[0m\n",
      "\u001b[0;31mZeroDivisionError\u001b[0m: float division by zero"
     ]
    }
   ],
   "source": [
    "# empty list\n",
    "average([])"
   ]
  },
  {
   "cell_type": "code",
   "execution_count": null,
   "metadata": {
    "collapsed": true
   },
   "outputs": [],
   "source": []
  },
  {
   "cell_type": "markdown",
   "metadata": {},
   "source": [
    "Scripts\n",
    "====\n",
    "* Python commands inside a file\n",
    "* will be run in order from top to bottom\n",
    "* only `print()` function calls will result in any output to the screen\n",
    "* file can have any name\n",
    "* run it with:\n",
    "\n",
    "```\n",
    "python path/to/scriptname\n",
    "```\n",
    "\n",
    "* Or for Mac and Linux add a shbang line and make the file executable\n",
    "    * shbang: `#!/usr/bin/env python`\n",
    "    * executable: `chmod a+x path/to/scriptname`\n",
    "    \n",
    "**Demonstration**\n",
    "\n",
    "Use *Anaconda Launcher* to start *Spyder*"
   ]
  },
  {
   "cell_type": "markdown",
   "metadata": {},
   "source": [
    "Exercise 2: Average Script\n",
    "-------------------------\n",
    "Use the Spyder IDE to create a script `average.py`.  Put inside it:\n",
    "\n",
    "* the `average` function\n",
    "* a list of numbers called `nums`\n",
    "* call `average()`, passing it in the `nums` list of numbers\n",
    "* capture the result into a reference called `result`\n",
    "* print the result\n",
    "\n",
    "**Test:** Try using `[2, 3, 4, 5]` as the input, and make sure you get `3.5` as the result\n",
    "\n",
    "** Time: 15 minutes ** (includes a break and Q&A at podium)\n"
   ]
  },
  {
   "cell_type": "markdown",
   "metadata": {},
   "source": [
    "Improving Our Program\n",
    "--------------------\n",
    "* what kind of average did you implement?\n",
    "* who got 3?\n",
    "* who got no output?\n",
    "* who got an exception/error?\n",
    "* what happens if the list of numbers of empty?"
   ]
  },
  {
   "cell_type": "code",
   "execution_count": 231,
   "metadata": {
    "collapsed": false
   },
   "outputs": [
    {
     "data": {
      "text/plain": [
       "[-3, 8, 2, 7, -4, 9, 6, 2, -4]"
      ]
     },
     "execution_count": 231,
     "metadata": {},
     "output_type": "execute_result"
    }
   ],
   "source": [
    "nums"
   ]
  },
  {
   "cell_type": "code",
   "execution_count": 232,
   "metadata": {
    "collapsed": false
   },
   "outputs": [
    {
     "data": {
      "text/plain": [
       "9"
      ]
     },
     "execution_count": 232,
     "metadata": {},
     "output_type": "execute_result"
    }
   ],
   "source": [
    "len(nums)"
   ]
  },
  {
   "cell_type": "code",
   "execution_count": 233,
   "metadata": {
    "collapsed": false
   },
   "outputs": [
    {
     "data": {
      "text/plain": [
       "9"
      ]
     },
     "execution_count": 233,
     "metadata": {},
     "output_type": "execute_result"
    }
   ],
   "source": [
    "max(nums)"
   ]
  },
  {
   "cell_type": "code",
   "execution_count": 234,
   "metadata": {
    "collapsed": false
   },
   "outputs": [
    {
     "data": {
      "text/plain": [
       "-4"
      ]
     },
     "execution_count": 234,
     "metadata": {},
     "output_type": "execute_result"
    }
   ],
   "source": [
    "min(nums)"
   ]
  },
  {
   "cell_type": "code",
   "execution_count": 235,
   "metadata": {
    "collapsed": false
   },
   "outputs": [
    {
     "data": {
      "text/plain": [
       "23"
      ]
     },
     "execution_count": 235,
     "metadata": {},
     "output_type": "execute_result"
    }
   ],
   "source": [
    "sum(nums)"
   ]
  },
  {
   "cell_type": "code",
   "execution_count": 245,
   "metadata": {
    "collapsed": true
   },
   "outputs": [],
   "source": [
    "# docstrings, float, self-increment, exceptions\n",
    "def mean(array):\n",
    "    ''' calculates the arithemtic mean of a list of numbers\n",
    "        returns 0.0 for empty lists\n",
    "    '''\n",
    "    try:\n",
    "        result = sum(array)/len(array)\n",
    "        return result\n",
    "    except ZeroDivisionError:\n",
    "        print('array', array)\n",
    "        return 0.0"
   ]
  },
  {
   "cell_type": "code",
   "execution_count": 238,
   "metadata": {
    "collapsed": false
   },
   "outputs": [
    {
     "data": {
      "text/plain": [
       "2.5555555555555554"
      ]
     },
     "execution_count": 238,
     "metadata": {},
     "output_type": "execute_result"
    }
   ],
   "source": [
    "mean(nums)"
   ]
  },
  {
   "cell_type": "code",
   "execution_count": 239,
   "metadata": {
    "collapsed": false
   },
   "outputs": [
    {
     "data": {
      "text/plain": [
       "3.5"
      ]
     },
     "execution_count": 239,
     "metadata": {},
     "output_type": "execute_result"
    }
   ],
   "source": [
    "mean([2,3,4,5])"
   ]
  },
  {
   "cell_type": "code",
   "execution_count": 246,
   "metadata": {
    "collapsed": false
   },
   "outputs": [
    {
     "name": "stdout",
     "output_type": "stream",
     "text": [
      "array []\n"
     ]
    },
    {
     "data": {
      "text/plain": [
       "0.0"
      ]
     },
     "execution_count": 246,
     "metadata": {},
     "output_type": "execute_result"
    }
   ],
   "source": [
    "# test empty\n",
    "mean([])"
   ]
  },
  {
   "cell_type": "code",
   "execution_count": 242,
   "metadata": {
    "collapsed": false
   },
   "outputs": [
    {
     "data": {
      "text/plain": [
       "type"
      ]
     },
     "execution_count": 242,
     "metadata": {},
     "output_type": "execute_result"
    }
   ],
   "source": [
    "type(ZeroDivisionError)"
   ]
  },
  {
   "cell_type": "code",
   "execution_count": 247,
   "metadata": {
    "collapsed": false
   },
   "outputs": [
    {
     "data": {
      "text/plain": [
       "['foo', 'bar', 'zip', 'zap']"
      ]
     },
     "execution_count": 247,
     "metadata": {},
     "output_type": "execute_result"
    }
   ],
   "source": [
    "meta"
   ]
  },
  {
   "cell_type": "code",
   "execution_count": 248,
   "metadata": {
    "collapsed": false
   },
   "outputs": [
    {
     "ename": "TypeError",
     "evalue": "unsupported operand type(s) for +: 'int' and 'str'",
     "output_type": "error",
     "traceback": [
      "\u001b[0;31m---------------------------------------------------------------------------\u001b[0m",
      "\u001b[0;31mTypeError\u001b[0m                                 Traceback (most recent call last)",
      "\u001b[0;32m<ipython-input-248-6810147021b7>\u001b[0m in \u001b[0;36m<module>\u001b[0;34m()\u001b[0m\n\u001b[0;32m----> 1\u001b[0;31m \u001b[0mmean\u001b[0m\u001b[0;34m(\u001b[0m\u001b[0mmeta\u001b[0m\u001b[0;34m)\u001b[0m\u001b[0;34m\u001b[0m\u001b[0m\n\u001b[0m",
      "\u001b[0;32m<ipython-input-245-0da8bb722c02>\u001b[0m in \u001b[0;36mmean\u001b[0;34m(array)\u001b[0m\n\u001b[1;32m      5\u001b[0m     '''\n\u001b[1;32m      6\u001b[0m     \u001b[0;32mtry\u001b[0m\u001b[0;34m:\u001b[0m\u001b[0;34m\u001b[0m\u001b[0m\n\u001b[0;32m----> 7\u001b[0;31m         \u001b[0mresult\u001b[0m \u001b[0;34m=\u001b[0m \u001b[0msum\u001b[0m\u001b[0;34m(\u001b[0m\u001b[0marray\u001b[0m\u001b[0;34m)\u001b[0m\u001b[0;34m/\u001b[0m\u001b[0mlen\u001b[0m\u001b[0;34m(\u001b[0m\u001b[0marray\u001b[0m\u001b[0;34m)\u001b[0m\u001b[0;34m\u001b[0m\u001b[0m\n\u001b[0m\u001b[1;32m      8\u001b[0m         \u001b[0;32mreturn\u001b[0m \u001b[0mresult\u001b[0m\u001b[0;34m\u001b[0m\u001b[0m\n\u001b[1;32m      9\u001b[0m     \u001b[0;32mexcept\u001b[0m \u001b[0mZeroDivisionError\u001b[0m\u001b[0;34m:\u001b[0m\u001b[0;34m\u001b[0m\u001b[0m\n",
      "\u001b[0;31mTypeError\u001b[0m: unsupported operand type(s) for +: 'int' and 'str'"
     ]
    }
   ],
   "source": [
    "mean(meta)"
   ]
  },
  {
   "cell_type": "code",
   "execution_count": 250,
   "metadata": {
    "collapsed": false
   },
   "outputs": [
    {
     "data": {
      "text/plain": [
       "<function __main__.mean>"
      ]
     },
     "execution_count": 250,
     "metadata": {},
     "output_type": "execute_result"
    }
   ],
   "source": [
    "# show docstring\n",
    "mean"
   ]
  },
  {
   "cell_type": "code",
   "execution_count": 251,
   "metadata": {
    "collapsed": false
   },
   "outputs": [
    {
     "name": "stdout",
     "output_type": "stream",
     "text": [
      "Help on function mean in module __main__:\n",
      "\n",
      "mean(array)\n",
      "    calculates the arithemtic mean of a list of numbers\n",
      "    returns 0.0 for empty lists\n",
      "\n"
     ]
    }
   ],
   "source": [
    "help(mean)"
   ]
  },
  {
   "cell_type": "code",
   "execution_count": 252,
   "metadata": {
    "collapsed": true
   },
   "outputs": [],
   "source": [
    "avg = mean"
   ]
  },
  {
   "cell_type": "code",
   "execution_count": 253,
   "metadata": {
    "collapsed": false
   },
   "outputs": [
    {
     "name": "stdout",
     "output_type": "stream",
     "text": [
      "Help on function mean in module __main__:\n",
      "\n",
      "mean(array)\n",
      "    calculates the arithemtic mean of a list of numbers\n",
      "    returns 0.0 for empty lists\n",
      "\n"
     ]
    }
   ],
   "source": [
    "help(avg)"
   ]
  },
  {
   "cell_type": "code",
   "execution_count": 254,
   "metadata": {
    "collapsed": false
   },
   "outputs": [
    {
     "data": {
      "text/plain": [
       "True"
      ]
     },
     "execution_count": 254,
     "metadata": {},
     "output_type": "execute_result"
    }
   ],
   "source": [
    "avg is mean"
   ]
  },
  {
   "cell_type": "code",
   "execution_count": 256,
   "metadata": {
    "collapsed": false
   },
   "outputs": [
    {
     "data": {
      "text/plain": [
       "' calculates the arithemtic mean of a list of numbers\\n        returns 0.0 for empty lists\\n    '"
      ]
     },
     "execution_count": 256,
     "metadata": {},
     "output_type": "execute_result"
    }
   ],
   "source": [
    "mean.__doc__"
   ]
  },
  {
   "cell_type": "code",
   "execution_count": 257,
   "metadata": {
    "collapsed": false
   },
   "outputs": [
    {
     "data": {
      "text/plain": [
       "'mean'"
      ]
     },
     "execution_count": 257,
     "metadata": {},
     "output_type": "execute_result"
    }
   ],
   "source": [
    "mean.__name__"
   ]
  },
  {
   "cell_type": "code",
   "execution_count": 258,
   "metadata": {
    "collapsed": true
   },
   "outputs": [],
   "source": [
    "mean.__name__ = 'calculate the average of some list'"
   ]
  },
  {
   "cell_type": "code",
   "execution_count": 259,
   "metadata": {
    "collapsed": false
   },
   "outputs": [
    {
     "name": "stdout",
     "output_type": "stream",
     "text": [
      "Help on function calculate the average of some list in module __main__:\n",
      "\n",
      "calculate the average of some list(array)\n",
      "    calculates the arithemtic mean of a list of numbers\n",
      "    returns 0.0 for empty lists\n",
      "\n"
     ]
    }
   ],
   "source": [
    "help(avg)"
   ]
  },
  {
   "cell_type": "code",
   "execution_count": null,
   "metadata": {
    "collapsed": true
   },
   "outputs": [],
   "source": []
  },
  {
   "cell_type": "code",
   "execution_count": 31,
   "metadata": {
    "collapsed": false
   },
   "outputs": [],
   "source": [
    "# scoping of function-internal variables"
   ]
  },
  {
   "cell_type": "code",
   "execution_count": 32,
   "metadata": {
    "collapsed": false
   },
   "outputs": [],
   "source": [
    "# functions as first class objects"
   ]
  },
  {
   "cell_type": "code",
   "execution_count": 33,
   "metadata": {
    "collapsed": false
   },
   "outputs": [],
   "source": [
    "# alias function reference"
   ]
  },
  {
   "cell_type": "code",
   "execution_count": 34,
   "metadata": {
    "collapsed": false
   },
   "outputs": [],
   "source": [
    "# help, id -- \"mean\" and \"average\" are just references to an anonymous function object"
   ]
  },
  {
   "cell_type": "markdown",
   "metadata": {},
   "source": [
    "Exceptions\n",
    "======\n",
    "* BAFP vs. LBYL\n",
    "* only catch exceptions if these two conditions hold:\n",
    "    * you reasonably expect they will occur\n",
    "    * you are sure that **you** should be responsible for dealing with it\n",
    "* under all other circumstances simply allow the exception to occur"
   ]
  },
  {
   "cell_type": "markdown",
   "metadata": {},
   "source": [
    "Q. Do I Have To Write My Own Functions?\n",
    "----------------------------------\n",
    "Answer: Generally, no, you *shouldn't* write your own functions if they already exist.\n",
    "\n",
    "Q. So what should I do instead?\n",
    "```\n",
    ".\n",
    "\n",
    "\n",
    "\n",
    "\n",
    "\n",
    "\n",
    "\n",
    ".\n",
    "```\n",
    "A. Use code that others have already written.  In Python there are 3.5 ways to do this:\n",
    "\n",
    "* Built-in functions\n",
    "    * 50 of them\n",
    "* Standard library\n",
    "    * *Batteries Included™* means everyone has these\n",
    "    * 300 packages (aka *modules*), each with many functions included (and *classes*)\n",
    "* Python Package Index (PyPI): http://pypi.python.org\n",
    "    * Anaconda includes about 200 of these out of the box\n",
    "    * over 70,000 packages and growing (fast!)\n",
    "* *methods* on objects ($\\frac{1}{2}$)\n",
    "    * methods are a kind of function\n",
    "    * this relies on using *classes* that have been written by someone else"
   ]
  },
  {
   "cell_type": "markdown",
   "metadata": {},
   "source": [
    "Reserved Words vs. Built-in Functions\n",
    "=====================================\n",
    "*Reserved Words* are part of the grammar of Python, in the way brackets, operators, colons, and other symbols are used -- **these are not objects or functions**.  Which ones have we seen so far?\n",
    "```\n",
    ".\n",
    "\n",
    "\n",
    "\n",
    "\n",
    "\n",
    "\n",
    "\n",
    "\n",
    ".\n",
    "```"
   ]
  },
  {
   "cell_type": "markdown",
   "metadata": {},
   "source": [
    "**Answer:** `for in del def return try except`"
   ]
  },
  {
   "cell_type": "markdown",
   "metadata": {},
   "source": [
    "There are only 33 of them, about half of which we'll see at least once today:\n",
    "\n",
    "* 30 reserved words (aka keywords)\n",
    "    * http://docs.python.org/3.5/reference/lexical_analysis.html#keywords\n",
    "    * *logic:* `and, not, or, True, False`\n",
    "    * *namespaces:* `import, from, as, del, global, nonlocal`\n",
    "    * *object creation:* `class, def, lambda`\n",
    "    * *functions:* `return, yield`\n",
    "    * *looping:* `while, for, break, continue`\n",
    "    * *conditional:* `if, else, elif`\n",
    "    * *exeptions:* `try, except, finally, raise`\n",
    "    * *misc:* `pass, assert, with, in, is, None`"
   ]
  },
  {
   "cell_type": "markdown",
   "metadata": {},
   "source": [
    "*Built-in functions* are functions that you can use *\"out of the box\"* with Python.  We've only seen a few of these so far.  What are they?\n",
    "```\n",
    ".\n",
    "\n",
    "\n",
    "\n",
    "\n",
    "\n",
    "\n",
    "\n",
    "\n",
    ".\n",
    "```"
   ]
  },
  {
   "cell_type": "markdown",
   "metadata": {},
   "source": [
    "**Answer:** `id() len() print()`\n",
    "\n",
    "**NOTICE:** the difference between `return` as a *reserved word* and `print()` as a *built-in function*\n",
    "* In Python 1.x and 2.x `print` was a *reserved word*, but it always should have been a *function*\n",
    "\n",
    "**Question:** How many do you think there are in total?  How many do you think there are in Matlab, just for comparison?"
   ]
  },
  {
   "cell_type": "markdown",
   "metadata": {},
   "source": [
    "`__builtin__`\n",
    "=============\n",
    "* The Python Language defines a special module called *__builtin__* that is part of the Standard Library\n",
    "* It contains *functions*, *exceptions*, and *classes* that are very common:\n",
    "    * 10 core types\n",
    "        * *int, long, float, bool, complex, str, list, dict, tuple, set*\n",
    "    * 20 supporting types\n",
    "        * *file, range, object, ...*\n",
    "    * 40 exceptions (upper camel case, mostly ending in *Error* or *Warning*)\n",
    "    * 50 functions\n",
    "        * Math: *abs min max pow round sum divmod*\n",
    "        * Logic: *all any apply map filter reduce*\n",
    "        * Iterable: *len range zip iter next sorted*\n",
    "        * Misc: *print format reload*\n",
    "        * File: *open*\n",
    "        * Check: *callable isinstance issubclass*\n",
    "        * Convert: *bin chr hex cmp coerce oct ord unichr*\n",
    "        * Introspect: *dir id vars locals globals hasattr getattr setattr delattr compile eval execfile intern hash repr*\n",
    "\n",
    "* Any reference lookup that doesn't find the reference in the *local* namespace (first) or the *global* (which means *module*) namespace (second) will check the `__builtin__` modules namespace (third)\n",
    "* CPython automatically provides a reference to the `__builtin__` module in every *global* namespace but gives it the name `__builtins__`\n",
    "    * under normal use, you never need to use this module reference\n",
    "* If the *local* or *global* namespace has a reference that is found in `__builtin__` then the `__builtin__` reference will be masked"
   ]
  },
  {
   "cell_type": "code",
   "execution_count": 35,
   "metadata": {
    "collapsed": false
   },
   "outputs": [],
   "source": [
    "# average: for loop -> sum"
   ]
  },
  {
   "cell_type": "code",
   "execution_count": 36,
   "metadata": {
    "collapsed": false
   },
   "outputs": [],
   "source": [
    "# use builtin func"
   ]
  },
  {
   "cell_type": "code",
   "execution_count": 37,
   "metadata": {
    "collapsed": false
   },
   "outputs": [],
   "source": [
    "# average the new way:"
   ]
  },
  {
   "cell_type": "code",
   "execution_count": 38,
   "metadata": {
    "collapsed": false
   },
   "outputs": [],
   "source": [
    "# max, min"
   ]
  },
  {
   "cell_type": "markdown",
   "metadata": {},
   "source": [
    "Tuples\n",
    "====\n",
    "* light-weight data structures\n",
    "* associate a number of entries\n",
    "* like a C `struct`\n",
    "* immutable"
   ]
  },
  {
   "cell_type": "code",
   "execution_count": 262,
   "metadata": {
    "collapsed": true
   },
   "outputs": [],
   "source": [
    "# person, \"constants\"\n",
    "i = ('Ian', 40, 'Canadian')\n",
    "m = ('Margaret', 10, 'British')\n",
    "h = ('Hilary', 7, 'American')"
   ]
  },
  {
   "cell_type": "code",
   "execution_count": 263,
   "metadata": {
    "collapsed": false
   },
   "outputs": [
    {
     "data": {
      "text/plain": [
       "'Ian'"
      ]
     },
     "execution_count": 263,
     "metadata": {},
     "output_type": "execute_result"
    }
   ],
   "source": [
    "i[0]"
   ]
  },
  {
   "cell_type": "code",
   "execution_count": 264,
   "metadata": {
    "collapsed": false
   },
   "outputs": [
    {
     "data": {
      "text/plain": [
       "'Margaret'"
      ]
     },
     "execution_count": 264,
     "metadata": {},
     "output_type": "execute_result"
    }
   ],
   "source": [
    "m[0]"
   ]
  },
  {
   "cell_type": "code",
   "execution_count": 265,
   "metadata": {
    "collapsed": false
   },
   "outputs": [
    {
     "data": {
      "text/plain": [
       "'Hilary'"
      ]
     },
     "execution_count": 265,
     "metadata": {},
     "output_type": "execute_result"
    }
   ],
   "source": [
    "h[0]"
   ]
  },
  {
   "cell_type": "code",
   "execution_count": 266,
   "metadata": {
    "collapsed": true
   },
   "outputs": [],
   "source": [
    "NAME = 0"
   ]
  },
  {
   "cell_type": "code",
   "execution_count": 268,
   "metadata": {
    "collapsed": false
   },
   "outputs": [
    {
     "data": {
      "text/plain": [
       "'Ian'"
      ]
     },
     "execution_count": 268,
     "metadata": {},
     "output_type": "execute_result"
    }
   ],
   "source": [
    "i[NAME]"
   ]
  },
  {
   "cell_type": "code",
   "execution_count": null,
   "metadata": {
    "collapsed": true
   },
   "outputs": [],
   "source": []
  },
  {
   "cell_type": "code",
   "execution_count": 269,
   "metadata": {
    "collapsed": true
   },
   "outputs": [],
   "source": [
    "# good use of a list\n",
    "family = [i, m, h]"
   ]
  },
  {
   "cell_type": "code",
   "execution_count": 270,
   "metadata": {
    "collapsed": false
   },
   "outputs": [
    {
     "data": {
      "text/plain": [
       "[('Ian', 40, 'Canadian'),\n",
       " ('Margaret', 10, 'British'),\n",
       " ('Hilary', 7, 'American')]"
      ]
     },
     "execution_count": 270,
     "metadata": {},
     "output_type": "execute_result"
    }
   ],
   "source": [
    "family"
   ]
  },
  {
   "cell_type": "code",
   "execution_count": 271,
   "metadata": {
    "collapsed": true
   },
   "outputs": [],
   "source": [
    "a = ('Andrew',38, 'Canadian')"
   ]
  },
  {
   "cell_type": "code",
   "execution_count": 272,
   "metadata": {
    "collapsed": true
   },
   "outputs": [],
   "source": [
    "family.append(a)"
   ]
  },
  {
   "cell_type": "code",
   "execution_count": 273,
   "metadata": {
    "collapsed": false
   },
   "outputs": [
    {
     "data": {
      "text/plain": [
       "[('Ian', 40, 'Canadian'),\n",
       " ('Margaret', 10, 'British'),\n",
       " ('Hilary', 7, 'American'),\n",
       " ('Andrew', 38, 'Canadian')]"
      ]
     },
     "execution_count": 273,
     "metadata": {},
     "output_type": "execute_result"
    }
   ],
   "source": [
    "family"
   ]
  },
  {
   "cell_type": "code",
   "execution_count": null,
   "metadata": {
    "collapsed": true
   },
   "outputs": [],
   "source": []
  },
  {
   "cell_type": "code",
   "execution_count": 96,
   "metadata": {
    "collapsed": true
   },
   "outputs": [],
   "source": [
    "# addition of numbers, strings, lists"
   ]
  },
  {
   "cell_type": "code",
   "execution_count": 97,
   "metadata": {
    "collapsed": true
   },
   "outputs": [],
   "source": [
    "# multiplication of numbers, strings, lists"
   ]
  },
  {
   "cell_type": "code",
   "execution_count": 274,
   "metadata": {
    "collapsed": true
   },
   "outputs": [],
   "source": [
    "# (x,y) points\n",
    "p = (5, 2)"
   ]
  },
  {
   "cell_type": "code",
   "execution_count": 275,
   "metadata": {
    "collapsed": true
   },
   "outputs": [],
   "source": [
    "points = [(4, 2), (6, 3), (4, 8), (-3, 6), (6, 5)]"
   ]
  },
  {
   "cell_type": "code",
   "execution_count": null,
   "metadata": {
    "collapsed": true
   },
   "outputs": [],
   "source": []
  },
  {
   "cell_type": "markdown",
   "metadata": {},
   "source": [
    "Dictionaries\n",
    "=======\n",
    "* in other languages sometimes known as a *map* or a *hash-map*\n",
    "* associates a *key* with a *value*\n",
    "    * *key* can be any *hashable* object, but typically is an integer or a string\n",
    "    * *value* can be any Python object\n",
    "* unordered\n",
    "* mutable (changeable)\n",
    "* central data structure in Python!\n",
    "    * but we are only going to cover them briefly here"
   ]
  },
  {
   "cell_type": "code",
   "execution_count": 276,
   "metadata": {
    "collapsed": true
   },
   "outputs": [],
   "source": [
    "# person (constructed two different ways)\n",
    "i = {'name': 'Ian', 'age': 40, 'natl': 'Canadian'}"
   ]
  },
  {
   "cell_type": "code",
   "execution_count": 277,
   "metadata": {
    "collapsed": false
   },
   "outputs": [
    {
     "data": {
      "text/plain": [
       "'Ian'"
      ]
     },
     "execution_count": 277,
     "metadata": {},
     "output_type": "execute_result"
    }
   ],
   "source": [
    "i['name']"
   ]
  },
  {
   "cell_type": "code",
   "execution_count": 278,
   "metadata": {
    "collapsed": false
   },
   "outputs": [
    {
     "data": {
      "text/plain": [
       "40"
      ]
     },
     "execution_count": 278,
     "metadata": {},
     "output_type": "execute_result"
    }
   ],
   "source": [
    "i['age']"
   ]
  },
  {
   "cell_type": "code",
   "execution_count": 279,
   "metadata": {
    "collapsed": true
   },
   "outputs": [],
   "source": [
    "i['age'] = 41"
   ]
  },
  {
   "cell_type": "code",
   "execution_count": 280,
   "metadata": {
    "collapsed": false
   },
   "outputs": [
    {
     "data": {
      "text/plain": [
       "41"
      ]
     },
     "execution_count": 280,
     "metadata": {},
     "output_type": "execute_result"
    }
   ],
   "source": [
    "i['age']"
   ]
  },
  {
   "cell_type": "code",
   "execution_count": 41,
   "metadata": {
    "collapsed": true
   },
   "outputs": [],
   "source": [
    "# mutability of entries"
   ]
  },
  {
   "cell_type": "code",
   "execution_count": 42,
   "metadata": {
    "collapsed": true
   },
   "outputs": [],
   "source": [
    "# addition of entries"
   ]
  },
  {
   "cell_type": "markdown",
   "metadata": {},
   "source": [
    "Classes\n",
    "====\n",
    "* an important topic we're only just touching on here\n",
    "* mostly for experienced programmers to see the starting point\n",
    "* see reference above for more details on magic methods"
   ]
  },
  {
   "cell_type": "code",
   "execution_count": 287,
   "metadata": {
    "collapsed": true
   },
   "outputs": [],
   "source": [
    "# Person class, hello method, birthday method, __len__ method\n",
    "class Person:\n",
    "    def __init__(self, name, age, natl):\n",
    "        self.name = name\n",
    "        self.age = age\n",
    "        self.natl = natl\n",
    "        \n",
    "    def hello(self):\n",
    "        print(\"Hey there {n}\".format(n=self.name))\n",
    "        \n",
    "    def __len__(self):\n",
    "        return self.age"
   ]
  },
  {
   "cell_type": "code",
   "execution_count": 288,
   "metadata": {
    "collapsed": true
   },
   "outputs": [],
   "source": [
    "i = Person('Ian', 40, 'Canadian')"
   ]
  },
  {
   "cell_type": "code",
   "execution_count": 289,
   "metadata": {
    "collapsed": false
   },
   "outputs": [
    {
     "data": {
      "text/plain": [
       "<__main__.Person at 0x10fde0748>"
      ]
     },
     "execution_count": 289,
     "metadata": {},
     "output_type": "execute_result"
    }
   ],
   "source": [
    "i"
   ]
  },
  {
   "cell_type": "code",
   "execution_count": 290,
   "metadata": {
    "collapsed": false
   },
   "outputs": [
    {
     "data": {
      "text/plain": [
       "'Ian'"
      ]
     },
     "execution_count": 290,
     "metadata": {},
     "output_type": "execute_result"
    }
   ],
   "source": [
    "i.name"
   ]
  },
  {
   "cell_type": "code",
   "execution_count": 291,
   "metadata": {
    "collapsed": false
   },
   "outputs": [
    {
     "name": "stdout",
     "output_type": "stream",
     "text": [
      "Hey there Ian\n"
     ]
    }
   ],
   "source": [
    "i.hello()"
   ]
  },
  {
   "cell_type": "code",
   "execution_count": 292,
   "metadata": {
    "collapsed": false
   },
   "outputs": [
    {
     "data": {
      "text/plain": [
       "40"
      ]
     },
     "execution_count": 292,
     "metadata": {},
     "output_type": "execute_result"
    }
   ],
   "source": [
    "len(i)"
   ]
  },
  {
   "cell_type": "code",
   "execution_count": 44,
   "metadata": {
    "collapsed": true
   },
   "outputs": [],
   "source": [
    "# mutability"
   ]
  },
  {
   "cell_type": "code",
   "execution_count": 45,
   "metadata": {
    "collapsed": true
   },
   "outputs": [],
   "source": [
    "# method calls"
   ]
  },
  {
   "cell_type": "markdown",
   "metadata": {},
   "source": [
    "Standard Library and Namespaces\n",
    "================="
   ]
  },
  {
   "cell_type": "code",
   "execution_count": 47,
   "metadata": {
    "collapsed": false
   },
   "outputs": [],
   "source": [
    "# points"
   ]
  },
  {
   "cell_type": "code",
   "execution_count": 48,
   "metadata": {
    "collapsed": true
   },
   "outputs": [],
   "source": [
    "# max"
   ]
  },
  {
   "cell_type": "code",
   "execution_count": 49,
   "metadata": {
    "collapsed": false
   },
   "outputs": [],
   "source": [
    "# sin @ pi/2"
   ]
  },
  {
   "cell_type": "code",
   "execution_count": 293,
   "metadata": {
    "collapsed": false
   },
   "outputs": [
    {
     "ename": "NameError",
     "evalue": "name 'sin' is not defined",
     "output_type": "error",
     "traceback": [
      "\u001b[0;31m---------------------------------------------------------------------------\u001b[0m",
      "\u001b[0;31mNameError\u001b[0m                                 Traceback (most recent call last)",
      "\u001b[0;32m<ipython-input-293-bd71f41d3b9f>\u001b[0m in \u001b[0;36m<module>\u001b[0;34m()\u001b[0m\n\u001b[1;32m      1\u001b[0m \u001b[0;31m# import math, try again\u001b[0m\u001b[0;34m\u001b[0m\u001b[0;34m\u001b[0m\u001b[0m\n\u001b[0;32m----> 2\u001b[0;31m \u001b[0msin\u001b[0m\u001b[0;34m(\u001b[0m\u001b[0;36m1.55\u001b[0m\u001b[0;34m)\u001b[0m\u001b[0;34m\u001b[0m\u001b[0m\n\u001b[0m",
      "\u001b[0;31mNameError\u001b[0m: name 'sin' is not defined"
     ]
    }
   ],
   "source": [
    "# import math, try again\n",
    "sin(1.55)"
   ]
  },
  {
   "cell_type": "code",
   "execution_count": 294,
   "metadata": {
    "collapsed": false
   },
   "outputs": [],
   "source": [
    "# namespaced\n",
    "import math"
   ]
  },
  {
   "cell_type": "code",
   "execution_count": 295,
   "metadata": {
    "collapsed": false
   },
   "outputs": [
    {
     "data": {
      "text/plain": [
       "True"
      ]
     },
     "execution_count": 295,
     "metadata": {},
     "output_type": "execute_result"
    }
   ],
   "source": [
    "'sin' in dir(math)"
   ]
  },
  {
   "cell_type": "code",
   "execution_count": 296,
   "metadata": {
    "collapsed": false
   },
   "outputs": [
    {
     "ename": "NameError",
     "evalue": "name 'sin' is not defined",
     "output_type": "error",
     "traceback": [
      "\u001b[0;31m---------------------------------------------------------------------------\u001b[0m",
      "\u001b[0;31mNameError\u001b[0m                                 Traceback (most recent call last)",
      "\u001b[0;32m<ipython-input-296-0d46f925abb3>\u001b[0m in \u001b[0;36m<module>\u001b[0;34m()\u001b[0m\n\u001b[0;32m----> 1\u001b[0;31m \u001b[0msin\u001b[0m\u001b[0;34m(\u001b[0m\u001b[0;36m1.55\u001b[0m\u001b[0;34m)\u001b[0m\u001b[0;34m\u001b[0m\u001b[0m\n\u001b[0m",
      "\u001b[0;31mNameError\u001b[0m: name 'sin' is not defined"
     ]
    }
   ],
   "source": [
    "sin(1.55)"
   ]
  },
  {
   "cell_type": "code",
   "execution_count": 297,
   "metadata": {
    "collapsed": false
   },
   "outputs": [
    {
     "data": {
      "text/plain": [
       "0.999783764189357"
      ]
     },
     "execution_count": 297,
     "metadata": {},
     "output_type": "execute_result"
    }
   ],
   "source": [
    "math.sin(1.55)"
   ]
  },
  {
   "cell_type": "code",
   "execution_count": null,
   "metadata": {
    "collapsed": true
   },
   "outputs": [],
   "source": []
  },
  {
   "cell_type": "code",
   "execution_count": 52,
   "metadata": {
    "collapsed": false
   },
   "outputs": [],
   "source": [
    "# cos for comparison"
   ]
  },
  {
   "cell_type": "code",
   "execution_count": 53,
   "metadata": {
    "collapsed": false
   },
   "outputs": [],
   "source": [
    "# atan2 (div by pi mult by 180) for angles of points"
   ]
  },
  {
   "cell_type": "code",
   "execution_count": 54,
   "metadata": {
    "collapsed": false
   },
   "outputs": [],
   "source": [
    "# what else is in the math namespace? dir()"
   ]
  },
  {
   "cell_type": "code",
   "execution_count": 55,
   "metadata": {
    "collapsed": false
   },
   "outputs": [],
   "source": [
    "# that isn't very helpful! What did we use before to find out about \"average()\"?"
   ]
  },
  {
   "cell_type": "markdown",
   "metadata": {},
   "source": [
    "Import Aliasing\n",
    "--------------\n",
    "*But I use sin and cos a lot! This namespace thing is going to be very burdensome!*\n"
   ]
  },
  {
   "cell_type": "code",
   "execution_count": 158,
   "metadata": {
    "collapsed": true
   },
   "outputs": [],
   "source": [
    "# option 1: setup your own alias \"m\""
   ]
  },
  {
   "cell_type": "code",
   "execution_count": 159,
   "metadata": {
    "collapsed": true
   },
   "outputs": [],
   "source": [
    "# option 2: alias \"s\" and \"c\""
   ]
  },
  {
   "cell_type": "markdown",
   "metadata": {},
   "source": [
    "```\n",
    ".\n",
    "\n",
    "\n",
    "\n",
    "\n",
    "\n",
    "\n",
    ".\n",
    "```\n",
    "Scratch that, there are better ways to do both of those things:\n"
   ]
  },
  {
   "cell_type": "code",
   "execution_count": 160,
   "metadata": {
    "collapsed": true
   },
   "outputs": [],
   "source": [
    "# option 3: alias the module at import"
   ]
  },
  {
   "cell_type": "code",
   "execution_count": 161,
   "metadata": {
    "collapsed": true
   },
   "outputs": [],
   "source": [
    "# option 4: selectively import object from module into current namespace"
   ]
  },
  {
   "cell_type": "code",
   "execution_count": 162,
   "metadata": {
    "collapsed": true
   },
   "outputs": [],
   "source": [
    "# option 5: selectively import AND alias"
   ]
  },
  {
   "cell_type": "markdown",
   "metadata": {},
   "source": [
    "Anything Else About The Python Standard Libary?\n",
    "--------------------------------------------\n",
    "Only that it is totally amazing and you should avoid it at your peril:\n",
    "* stable\n",
    "* always available\n",
    "* optimized\n",
    "    * written in C if necessary\n",
    "* documented\n",
    "* 100% test coverage\n",
    "* used extensively in the field\n",
    "    * how likely do you think it is you'll be the first to discover a bug?\n",
    "    "
   ]
  },
  {
   "cell_type": "markdown",
   "metadata": {},
   "source": [
    "How Do I Learn More?\n",
    "-------------------\n",
    "* Come to events like this!\n",
    "* Google for what you need. GIYF: it will most likely point you to [python.org](http://python.org) and if not?\n",
    "* Skim Chapter 10 of the Python Tutorial: [A Brief Tour of the Standard Library](https://docs.python.org/3/tutorial/stdlib.html)\n",
    "    * and also possibly Chapter 11: [Part 2](https://docs.python.org/3/tutorial/stdlib2.html)\n",
    "* Just browse or search the [Official Standard Library Module Index](https://docs.python.org/3/py-modindex.html)\n",
    "    * make sure you're checking the version that matches your Python version\n",
    "* Ask a friend!\n",
    "* As a last resort, search the [Complete Index Of Everything Inside The Standard Library](https://docs.python.org/3/genindex-all.html)"
   ]
  },
  {
   "cell_type": "markdown",
   "metadata": {},
   "source": [
    "So what's this **Anaconda** thing, then?\n",
    "--------------------------------------\n",
    "* [200+ of the most commonly used, publicly available, open source, libraries and tools](http://docs.continuum.io/anaconda/pkg-docs) for computational science in Python **that are not found in the Standard Library**\n",
    "* They all \"Just Work\" no compilation or build chains or manual dependency resolution required\n",
    "* A further 200 packages that you can install on-demand:\n",
    "    * `conda install biopython`\n",
    "        * 2MB -- do this if you want to try it out\n",
    "* 250 MB instead of 25 MB\n",
    "* Available for free, for ever, for Windows, Mac, Linux (and Raspberry Pi)\n",
    "* More than just Python (don't do these now!)\n",
    "    * `conda install -c r r-essentials`\n",
    "    * `conda install -c ijstokes julia`\n",
    "        * v0.3.10, OS X only!"
   ]
  },
  {
   "cell_type": "markdown",
   "metadata": {},
   "source": [
    "But Python Package Index and `pip`?\n",
    "---------------------------------\n",
    "* the [Python Package Index](https://pypi.python.org/) has over 70,000 community contributed packages\n",
    "* `pip install fred`\n",
    "* plays nicely with Anaconda and `conda` (so feel free to mix-and-match)\n",
    "* remember that no one checks the packages in PyPI: *caveat emptor*!"
   ]
  },
  {
   "cell_type": "markdown",
   "metadata": {},
   "source": [
    "Files\n",
    "===\n",
    "* best bet is to use a data-format-specific library that can read and write files from disk for you (e.g. HDF5)\n",
    "* but sometimes you need to DIY\n",
    "* and you should know how to do this anyway"
   ]
  },
  {
   "cell_type": "code",
   "execution_count": 163,
   "metadata": {
    "collapsed": false
   },
   "outputs": [
    {
     "data": {
      "text/plain": [
       "[(3, 4), (1, 2), (1, 1), (3, 6), (3, 1)]"
      ]
     },
     "execution_count": 163,
     "metadata": {},
     "output_type": "execute_result"
    }
   ],
   "source": [
    "points"
   ]
  },
  {
   "cell_type": "code",
   "execution_count": 164,
   "metadata": {
    "collapsed": true
   },
   "outputs": [],
   "source": [
    "# save points to a file\n",
    "output_fh = open('xy_basic.tab', 'w')\n",
    "for p in points:\n",
    "    output_fh.write('{x}\\t{y}\\n'.format(x=p[0], y=p[1]))\n",
    "output_fh.close()"
   ]
  },
  {
   "cell_type": "code",
   "execution_count": 165,
   "metadata": {
    "collapsed": false
   },
   "outputs": [
    {
     "name": "stdout",
     "output_type": "stream",
     "text": [
      "3\t4\r\n",
      "1\t2\r\n",
      "1\t1\r\n",
      "3\t6\r\n",
      "3\t1\r\n"
     ]
    }
   ],
   "source": [
    "!cat xy_basic.tab"
   ]
  },
  {
   "cell_type": "code",
   "execution_count": 167,
   "metadata": {
    "collapsed": false
   },
   "outputs": [
    {
     "data": {
      "text/plain": [
       "[(8, 9), (6, 7), (6, 6), (8, 11), (8, 6)]"
      ]
     },
     "execution_count": 167,
     "metadata": {},
     "output_type": "execute_result"
    }
   ],
   "source": [
    "# read in file, shifted by (5, 5)\n",
    "# comment: split, append, int, close\n",
    "input_fh = open('xy_basic.tab')\n",
    "shifted_points = []\n",
    "for line in input_fh:\n",
    "    parts = line.split()\n",
    "    x = int(parts[0]) + 5\n",
    "    y = int(parts[1]) + 5\n",
    "    pair = (x, y)\n",
    "    shifted_points.append(pair)\n",
    "input_fh.close()\n",
    "shifted_points"
   ]
  },
  {
   "cell_type": "markdown",
   "metadata": {},
   "source": [
    "Methods\n",
    "=====\n",
    "* operations you can perform on an object -- e.g.\n",
    "    * Perl: `sort(array)` is a function call, which returns a sorted array\n",
    "    * Python: `array.sort()` is a method call, which acts on the array and sorts it"
   ]
  },
  {
   "cell_type": "code",
   "execution_count": 169,
   "metadata": {
    "collapsed": false
   },
   "outputs": [],
   "source": [
    "# copy with slice\n",
    "nums_orig = nums[:]"
   ]
  },
  {
   "cell_type": "code",
   "execution_count": 174,
   "metadata": {
    "collapsed": false
   },
   "outputs": [
    {
     "data": {
      "text/plain": [
       "[3, 7, 5, 2, 8, 3, 6, 4]"
      ]
     },
     "execution_count": 174,
     "metadata": {},
     "output_type": "execute_result"
    }
   ],
   "source": [
    "nums"
   ]
  },
  {
   "cell_type": "code",
   "execution_count": 175,
   "metadata": {
    "collapsed": true
   },
   "outputs": [],
   "source": [
    "# reverse\n",
    "nums.reverse()"
   ]
  },
  {
   "cell_type": "code",
   "execution_count": 176,
   "metadata": {
    "collapsed": false
   },
   "outputs": [
    {
     "data": {
      "text/plain": [
       "[4, 6, 3, 8, 2, 5, 7, 3]"
      ]
     },
     "execution_count": 176,
     "metadata": {},
     "output_type": "execute_result"
    }
   ],
   "source": [
    "nums"
   ]
  },
  {
   "cell_type": "code",
   "execution_count": 177,
   "metadata": {
    "collapsed": true
   },
   "outputs": [],
   "source": [
    "nums.sort()"
   ]
  },
  {
   "cell_type": "code",
   "execution_count": 179,
   "metadata": {
    "collapsed": false
   },
   "outputs": [
    {
     "data": {
      "text/plain": [
       "[2, 3, 3, 4, 5, 6, 7, 8]"
      ]
     },
     "execution_count": 179,
     "metadata": {},
     "output_type": "execute_result"
    }
   ],
   "source": [
    "nums"
   ]
  },
  {
   "cell_type": "code",
   "execution_count": 181,
   "metadata": {
    "collapsed": false
   },
   "outputs": [
    {
     "data": {
      "text/plain": [
       "8"
      ]
     },
     "execution_count": 181,
     "metadata": {},
     "output_type": "execute_result"
    }
   ],
   "source": [
    "nums.pop()"
   ]
  },
  {
   "cell_type": "code",
   "execution_count": 182,
   "metadata": {
    "collapsed": false
   },
   "outputs": [
    {
     "data": {
      "text/plain": [
       "7"
      ]
     },
     "execution_count": 182,
     "metadata": {},
     "output_type": "execute_result"
    }
   ],
   "source": [
    "nums.pop()"
   ]
  },
  {
   "cell_type": "code",
   "execution_count": 183,
   "metadata": {
    "collapsed": false
   },
   "outputs": [
    {
     "data": {
      "text/plain": [
       "[2, 3, 3, 4, 5, 6]"
      ]
     },
     "execution_count": 183,
     "metadata": {},
     "output_type": "execute_result"
    }
   ],
   "source": [
    "nums"
   ]
  },
  {
   "cell_type": "code",
   "execution_count": 192,
   "metadata": {
    "collapsed": true
   },
   "outputs": [],
   "source": [
    "# append\n",
    "nums.append(40)"
   ]
  },
  {
   "cell_type": "code",
   "execution_count": 194,
   "metadata": {
    "collapsed": false
   },
   "outputs": [],
   "source": [
    "nums.append(-5)"
   ]
  },
  {
   "cell_type": "code",
   "execution_count": 195,
   "metadata": {
    "collapsed": false
   },
   "outputs": [
    {
     "data": {
      "text/plain": [
       "[2, 3, 3, 4, 5, 6, 40, -5]"
      ]
     },
     "execution_count": 195,
     "metadata": {},
     "output_type": "execute_result"
    }
   ],
   "source": [
    "nums"
   ]
  },
  {
   "cell_type": "code",
   "execution_count": 196,
   "metadata": {
    "collapsed": true
   },
   "outputs": [],
   "source": [
    "# extend\n",
    "nums.extend([10, 20, 30])"
   ]
  },
  {
   "cell_type": "code",
   "execution_count": 198,
   "metadata": {
    "collapsed": false
   },
   "outputs": [
    {
     "data": {
      "text/plain": [
       "[2, 3, 3, 4, 5, 6, 40, -5, 10, 20, 30]"
      ]
     },
     "execution_count": 198,
     "metadata": {},
     "output_type": "execute_result"
    }
   ],
   "source": [
    "nums"
   ]
  },
  {
   "cell_type": "code",
   "execution_count": 199,
   "metadata": {
    "collapsed": true
   },
   "outputs": [],
   "source": [
    "# multi-list stuff\n",
    "stuff = [10, 20, 'Ian', (3, 4), ['a', 'b', 'c']]"
   ]
  },
  {
   "cell_type": "code",
   "execution_count": 200,
   "metadata": {
    "collapsed": false
   },
   "outputs": [
    {
     "data": {
      "text/plain": [
       "[10, 20, 'Ian', (3, 4), ['a', 'b', 'c']]"
      ]
     },
     "execution_count": 200,
     "metadata": {},
     "output_type": "execute_result"
    }
   ],
   "source": [
    "stuff"
   ]
  },
  {
   "cell_type": "code",
   "execution_count": 201,
   "metadata": {
    "collapsed": false
   },
   "outputs": [
    {
     "data": {
      "text/plain": [
       "5"
      ]
     },
     "execution_count": 201,
     "metadata": {},
     "output_type": "execute_result"
    }
   ],
   "source": [
    "len(stuff)"
   ]
  },
  {
   "cell_type": "code",
   "execution_count": 202,
   "metadata": {
    "collapsed": false
   },
   "outputs": [
    {
     "data": {
      "text/plain": [
       "['a', 'b', 'c']"
      ]
     },
     "execution_count": 202,
     "metadata": {},
     "output_type": "execute_result"
    }
   ],
   "source": [
    "stuff[-1]"
   ]
  },
  {
   "cell_type": "code",
   "execution_count": 204,
   "metadata": {
    "collapsed": false
   },
   "outputs": [
    {
     "data": {
      "text/plain": [
       "'c'"
      ]
     },
     "execution_count": 204,
     "metadata": {},
     "output_type": "execute_result"
    }
   ],
   "source": [
    "stuff[-1][2]"
   ]
  },
  {
   "cell_type": "code",
   "execution_count": 205,
   "metadata": {
    "collapsed": false
   },
   "outputs": [
    {
     "data": {
      "text/plain": [
       "[2, 3, 3, 4, 5, 6, 40, -5, 10, 20, 30]"
      ]
     },
     "execution_count": 205,
     "metadata": {},
     "output_type": "execute_result"
    }
   ],
   "source": [
    "# wrong append\n",
    "nums"
   ]
  },
  {
   "cell_type": "code",
   "execution_count": 206,
   "metadata": {
    "collapsed": true
   },
   "outputs": [],
   "source": [
    "nums.append([22, 33, 44])"
   ]
  },
  {
   "cell_type": "code",
   "execution_count": 207,
   "metadata": {
    "collapsed": false
   },
   "outputs": [
    {
     "data": {
      "text/plain": [
       "[2, 3, 3, 4, 5, 6, 40, -5, 10, 20, 30, [22, 33, 44]]"
      ]
     },
     "execution_count": 207,
     "metadata": {},
     "output_type": "execute_result"
    }
   ],
   "source": [
    "nums"
   ]
  },
  {
   "cell_type": "code",
   "execution_count": 209,
   "metadata": {
    "collapsed": false
   },
   "outputs": [
    {
     "data": {
      "text/plain": [
       "[22, 33, 44]"
      ]
     },
     "execution_count": 209,
     "metadata": {},
     "output_type": "execute_result"
    }
   ],
   "source": [
    "# make a prediction: what is nums[-1]?\n",
    "nums[-1]"
   ]
  },
  {
   "cell_type": "code",
   "execution_count": 210,
   "metadata": {
    "collapsed": false
   },
   "outputs": [
    {
     "data": {
      "text/plain": [
       "[22, 33, 44]"
      ]
     },
     "execution_count": 210,
     "metadata": {},
     "output_type": "execute_result"
    }
   ],
   "source": [
    "# What is the correct way to \"add\" a list?\n",
    "nums.pop()"
   ]
  },
  {
   "cell_type": "code",
   "execution_count": 211,
   "metadata": {
    "collapsed": false
   },
   "outputs": [
    {
     "data": {
      "text/plain": [
       "[2, 3, 3, 4, 5, 6, 40, -5, 10, 20, 30]"
      ]
     },
     "execution_count": 211,
     "metadata": {},
     "output_type": "execute_result"
    }
   ],
   "source": [
    "nums"
   ]
  },
  {
   "cell_type": "code",
   "execution_count": 212,
   "metadata": {
    "collapsed": true
   },
   "outputs": [],
   "source": [
    "nums.extend([22,33,44])"
   ]
  },
  {
   "cell_type": "code",
   "execution_count": 213,
   "metadata": {
    "collapsed": false
   },
   "outputs": [
    {
     "data": {
      "text/plain": [
       "[2, 3, 3, 4, 5, 6, 40, -5, 10, 20, 30, 22, 33, 44]"
      ]
     },
     "execution_count": 213,
     "metadata": {},
     "output_type": "execute_result"
    }
   ],
   "source": [
    "nums"
   ]
  },
  {
   "cell_type": "code",
   "execution_count": 214,
   "metadata": {
    "collapsed": false
   },
   "outputs": [
    {
     "data": {
      "text/plain": [
       "4418085320"
      ]
     },
     "execution_count": 214,
     "metadata": {},
     "output_type": "execute_result"
    }
   ],
   "source": [
    "id(nums)"
   ]
  },
  {
   "cell_type": "code",
   "execution_count": 331,
   "metadata": {
    "collapsed": true
   },
   "outputs": [],
   "source": [
    "# list addition (numbers)"
   ]
  },
  {
   "cell_type": "code",
   "execution_count": 332,
   "metadata": {
    "collapsed": true
   },
   "outputs": [],
   "source": [
    "# list addition (strings)"
   ]
  },
  {
   "cell_type": "code",
   "execution_count": 215,
   "metadata": {
    "collapsed": false
   },
   "outputs": [
    {
     "data": {
      "text/plain": [
       "[2, 3, 3, 4, 5, 6, 40, -5, 10, 20, 30, 22, 33, 44, 55, 66, 77]"
      ]
     },
     "execution_count": 215,
     "metadata": {},
     "output_type": "execute_result"
    }
   ],
   "source": [
    "# addition\n",
    "nums + [55,66,77]"
   ]
  },
  {
   "cell_type": "code",
   "execution_count": 216,
   "metadata": {
    "collapsed": false
   },
   "outputs": [
    {
     "data": {
      "text/plain": [
       "[2, 3, 3, 4, 5, 6, 40, -5, 10, 20, 30, 22, 33, 44]"
      ]
     },
     "execution_count": 216,
     "metadata": {},
     "output_type": "execute_result"
    }
   ],
   "source": [
    "# but has nums changed?\n",
    "nums"
   ]
  },
  {
   "cell_type": "code",
   "execution_count": 217,
   "metadata": {
    "collapsed": true
   },
   "outputs": [],
   "source": [
    "new_nums = nums + [55,66,77]"
   ]
  },
  {
   "cell_type": "code",
   "execution_count": 218,
   "metadata": {
    "collapsed": false
   },
   "outputs": [
    {
     "data": {
      "text/plain": [
       "[2, 3, 3, 4, 5, 6, 40, -5, 10, 20, 30, 22, 33, 44, 55, 66, 77]"
      ]
     },
     "execution_count": 218,
     "metadata": {},
     "output_type": "execute_result"
    }
   ],
   "source": [
    "new_nums"
   ]
  },
  {
   "cell_type": "code",
   "execution_count": 219,
   "metadata": {
    "collapsed": false
   },
   "outputs": [
    {
     "data": {
      "text/plain": [
       "[2, 3, 3, 4, 5, 6, 40, -5, 10, 20, 30, 22, 33, 44]"
      ]
     },
     "execution_count": 219,
     "metadata": {},
     "output_type": "execute_result"
    }
   ],
   "source": [
    "# self-increment\n",
    "nums"
   ]
  },
  {
   "cell_type": "code",
   "execution_count": 220,
   "metadata": {
    "collapsed": true
   },
   "outputs": [],
   "source": [
    "nums += [55,66,77] # short-cut "
   ]
  },
  {
   "cell_type": "code",
   "execution_count": 221,
   "metadata": {
    "collapsed": false
   },
   "outputs": [
    {
     "data": {
      "text/plain": [
       "[2, 3, 3, 4, 5, 6, 40, -5, 10, 20, 30, 22, 33, 44, 55, 66, 77]"
      ]
     },
     "execution_count": 221,
     "metadata": {},
     "output_type": "execute_result"
    }
   ],
   "source": [
    "nums"
   ]
  },
  {
   "cell_type": "code",
   "execution_count": 222,
   "metadata": {
    "collapsed": false
   },
   "outputs": [
    {
     "data": {
      "text/plain": [
       "4418085320"
      ]
     },
     "execution_count": 222,
     "metadata": {},
     "output_type": "execute_result"
    }
   ],
   "source": [
    "# check id()\n",
    "id(nums)"
   ]
  },
  {
   "cell_type": "code",
   "execution_count": 223,
   "metadata": {
    "collapsed": true
   },
   "outputs": [],
   "source": [
    "# not the same as \"a = a + [1,2,3]\"\n",
    "nums = nums + [88,99]"
   ]
  },
  {
   "cell_type": "code",
   "execution_count": 224,
   "metadata": {
    "collapsed": false
   },
   "outputs": [
    {
     "data": {
      "text/plain": [
       "4418357960"
      ]
     },
     "execution_count": 224,
     "metadata": {},
     "output_type": "execute_result"
    }
   ],
   "source": [
    "id(nums)"
   ]
  },
  {
   "cell_type": "code",
   "execution_count": 225,
   "metadata": {
    "collapsed": false
   },
   "outputs": [
    {
     "data": {
      "text/plain": [
       "[2, 3, 3, 4, 5, 6, 40, -5, 10, 20, 30, 22, 33, 44, 55, 66, 77, 88, 99]"
      ]
     },
     "execution_count": 225,
     "metadata": {},
     "output_type": "execute_result"
    }
   ],
   "source": [
    "nums"
   ]
  },
  {
   "cell_type": "code",
   "execution_count": 184,
   "metadata": {
    "collapsed": true
   },
   "outputs": [],
   "source": [
    "# sentence (string)\n",
    "sentence = 'This is a sentence by Ian Stokes-Rees'"
   ]
  },
  {
   "cell_type": "code",
   "execution_count": 185,
   "metadata": {
    "collapsed": false
   },
   "outputs": [
    {
     "data": {
      "text/plain": [
       "'This Is A Sentence By Ian Stokes-Rees'"
      ]
     },
     "execution_count": 185,
     "metadata": {},
     "output_type": "execute_result"
    }
   ],
   "source": [
    "# title\n",
    "sentence.title()"
   ]
  },
  {
   "cell_type": "code",
   "execution_count": 186,
   "metadata": {
    "collapsed": false
   },
   "outputs": [
    {
     "data": {
      "text/plain": [
       "'this is a sentence by ian stokes-rees'"
      ]
     },
     "execution_count": 186,
     "metadata": {},
     "output_type": "execute_result"
    }
   ],
   "source": [
    "# lower\n",
    "sentence.lower()"
   ]
  },
  {
   "cell_type": "code",
   "execution_count": 187,
   "metadata": {
    "collapsed": false
   },
   "outputs": [
    {
     "data": {
      "text/plain": [
       "['This', 'is', 'a', 'sentence', 'by', 'Ian', 'Stokes-Rees']"
      ]
     },
     "execution_count": 187,
     "metadata": {},
     "output_type": "execute_result"
    }
   ],
   "source": [
    "# split\n",
    "sentence.split()"
   ]
  },
  {
   "cell_type": "code",
   "execution_count": 188,
   "metadata": {
    "collapsed": false
   },
   "outputs": [
    {
     "data": {
      "text/plain": [
       "['this', 'is', 'a', 'sentence', 'by', 'ian', 'stokes-rees']"
      ]
     },
     "execution_count": 188,
     "metadata": {},
     "output_type": "execute_result"
    }
   ],
   "source": [
    "# chain: lower split\n",
    "sentence.lower().split()"
   ]
  },
  {
   "cell_type": "code",
   "execution_count": 191,
   "metadata": {
    "collapsed": false
   },
   "outputs": [
    {
     "data": {
      "text/plain": [
       "['th', 's ', 's a sentence by ', 'an stokes-rees']"
      ]
     },
     "execution_count": 191,
     "metadata": {},
     "output_type": "execute_result"
    }
   ],
   "source": [
    "# split on letter\n",
    "sentence.lower().split('i')"
   ]
  },
  {
   "cell_type": "code",
   "execution_count": 227,
   "metadata": {
    "collapsed": false
   },
   "outputs": [
    {
     "data": {
      "text/plain": [
       "['red', 'green', 'blue', 'black', 'yellow']"
      ]
     },
     "execution_count": 227,
     "metadata": {},
     "output_type": "execute_result"
    }
   ],
   "source": [
    "# shortcut: how to make a list of words (and methods on literals)\n",
    "colors = 'red green blue black yellow'.split()\n",
    "colors"
   ]
  },
  {
   "cell_type": "code",
   "execution_count": 260,
   "metadata": {
    "collapsed": false
   },
   "outputs": [
    {
     "name": "stdout",
     "output_type": "stream",
     "text": [
      "My name is Ian and I'm 40 years old\n"
     ]
    }
   ],
   "source": [
    "# format (name, age)\n",
    "name = 'Ian'\n",
    "age = 40\n",
    "\"My name is {n} and I'm {a} years old\".format(n=name, a=age)"
   ]
  },
  {
   "cell_type": "code",
   "execution_count": 270,
   "metadata": {
    "collapsed": false
   },
   "outputs": [
    {
     "data": {
      "text/plain": [
       "'That will cost $33.33'"
      ]
     },
     "execution_count": 270,
     "metadata": {},
     "output_type": "execute_result"
    }
   ],
   "source": [
    "# number formatting :.2f\n",
    "cost = 100.00 / 3\n",
    "\"That will cost ${c:.2f}\".format(c=cost)"
   ]
  },
  {
   "cell_type": "markdown",
   "metadata": {},
   "source": [
    "More references for string formatting:\n",
    "* https://mkaz.github.io/2012/10/10/python-string-format/\n",
    "* https://pyformat.info/"
   ]
  },
  {
   "cell_type": "markdown",
   "metadata": {},
   "source": [
    "Booleans, Conditionals, Comprehensions\n",
    "====================="
   ]
  },
  {
   "cell_type": "code",
   "execution_count": 277,
   "metadata": {
    "collapsed": false
   },
   "outputs": [
    {
     "data": {
      "text/plain": [
       "[-12, -9, -6, -3, 0, 3, 6, 9, 12, 15, 18]"
      ]
     },
     "execution_count": 277,
     "metadata": {},
     "output_type": "execute_result"
    }
   ],
   "source": [
    "# -12 to 20, steps of 3\n",
    "axis = list(range(-12,20,3))\n",
    "axis"
   ]
  },
  {
   "cell_type": "code",
   "execution_count": 278,
   "metadata": {
    "collapsed": false
   },
   "outputs": [
    {
     "name": "stdout",
     "output_type": "stream",
     "text": [
      "even: -12\n",
      "left over: -9 81\n",
      "even: -6\n",
      "threes: -3\n",
      "even: 0\n",
      "threes: 3\n",
      "even: 6\n",
      "left over: 9 81\n",
      "even: 12\n",
      "left over: 15 225\n",
      "even: 18\n"
     ]
    }
   ],
   "source": [
    "# threes and evens\n",
    "for x in axis:\n",
    "    if abs(x) == 3:\n",
    "        print('threes:', x)\n",
    "    elif x%2 == 0: # evens\n",
    "        print('even:', x)\n",
    "    else:\n",
    "        print('left over:', x, x**2)"
   ]
  },
  {
   "cell_type": "code",
   "execution_count": 281,
   "metadata": {
    "collapsed": false
   },
   "outputs": [],
   "source": [
    "# keep short colors 'green red blue black yellow pink gold silver'\n",
    "colors = 'green red blue black yellow pink gold silver'.split()\n",
    "short = []\n",
    "for c in colors:\n",
    "    if len(c) <= 4:\n",
    "        short.append(c)"
   ]
  },
  {
   "cell_type": "code",
   "execution_count": 282,
   "metadata": {
    "collapsed": false
   },
   "outputs": [
    {
     "data": {
      "text/plain": [
       "['red', 'blue', 'pink', 'gold']"
      ]
     },
     "execution_count": 282,
     "metadata": {},
     "output_type": "execute_result"
    }
   ],
   "source": [
    "short"
   ]
  },
  {
   "cell_type": "code",
   "execution_count": 283,
   "metadata": {
    "collapsed": false
   },
   "outputs": [
    {
     "name": "stdout",
     "output_type": "stream",
     "text": [
      "found black, breaking\n"
     ]
    }
   ],
   "source": [
    "# break on black\n",
    "short = []\n",
    "for c in colors:\n",
    "    if c == 'black':\n",
    "        print('found black, breaking')\n",
    "        break\n",
    "    elif len(c) <= 4:\n",
    "        short.append(c)"
   ]
  },
  {
   "cell_type": "code",
   "execution_count": 284,
   "metadata": {
    "collapsed": false
   },
   "outputs": [
    {
     "data": {
      "text/plain": [
       "['red', 'blue']"
      ]
     },
     "execution_count": 284,
     "metadata": {},
     "output_type": "execute_result"
    }
   ],
   "source": [
    "short"
   ]
  },
  {
   "cell_type": "code",
   "execution_count": 286,
   "metadata": {
    "collapsed": false
   },
   "outputs": [
    {
     "name": "stdout",
     "output_type": "stream",
     "text": [
      "found red, skipping\n",
      "found blue, skipping\n",
      "found pink, skipping\n",
      "found gold, skipping\n"
     ]
    }
   ],
   "source": [
    "# skip short\n",
    "long = []\n",
    "for c in colors:\n",
    "    if len(c) <= 4:\n",
    "        print('found {c}, skipping'.format(c=c))\n",
    "        continue\n",
    "    long.append(c)\n",
    "        "
   ]
  },
  {
   "cell_type": "code",
   "execution_count": 287,
   "metadata": {
    "collapsed": false
   },
   "outputs": [
    {
     "data": {
      "text/plain": [
       "['green', 'black', 'yellow', 'silver']"
      ]
     },
     "execution_count": 287,
     "metadata": {},
     "output_type": "execute_result"
    }
   ],
   "source": [
    "long"
   ]
  },
  {
   "cell_type": "code",
   "execution_count": 288,
   "metadata": {
    "collapsed": false
   },
   "outputs": [
    {
     "data": {
      "text/plain": [
       "[-12, -6, 0, 6, 12, 18]"
      ]
     },
     "execution_count": 288,
     "metadata": {},
     "output_type": "execute_result"
    }
   ],
   "source": [
    "# comprehension: evens\n",
    "[x for x in axis if x%2 ==0]"
   ]
  },
  {
   "cell_type": "code",
   "execution_count": 289,
   "metadata": {
    "collapsed": false
   },
   "outputs": [
    {
     "data": {
      "text/plain": [
       "['red', 'blue', 'pink', 'gold']"
      ]
     },
     "execution_count": 289,
     "metadata": {},
     "output_type": "execute_result"
    }
   ],
   "source": [
    "# short colors\n",
    "[c for c in colors if len(c) <= 4]"
   ]
  },
  {
   "cell_type": "code",
   "execution_count": 290,
   "metadata": {
    "collapsed": false
   },
   "outputs": [
    {
     "data": {
      "text/plain": [
       "[144, 81, 36, 9, 0, 9, 36, 81, 144, 225, 324]"
      ]
     },
     "execution_count": 290,
     "metadata": {},
     "output_type": "execute_result"
    }
   ],
   "source": [
    "# squared axis\n",
    "[ x**2 for x in axis]"
   ]
  },
  {
   "cell_type": "code",
   "execution_count": 292,
   "metadata": {
    "collapsed": false
   },
   "outputs": [
    {
     "data": {
      "text/plain": [
       "['GREEN', 'RED', 'BLUE', 'BLACK', 'YELLOW', 'PINK', 'GOLD', 'SILVER']"
      ]
     },
     "execution_count": 292,
     "metadata": {},
     "output_type": "execute_result"
    }
   ],
   "source": [
    "# upper case colors\n",
    "[c.upper() for c in colors]"
   ]
  },
  {
   "cell_type": "code",
   "execution_count": 294,
   "metadata": {
    "collapsed": true
   },
   "outputs": [],
   "source": [
    "# random.randint\n",
    "import random"
   ]
  },
  {
   "cell_type": "code",
   "execution_count": 301,
   "metadata": {
    "collapsed": false
   },
   "outputs": [
    {
     "data": {
      "text/plain": [
       "-3"
      ]
     },
     "execution_count": 301,
     "metadata": {},
     "output_type": "execute_result"
    }
   ],
   "source": [
    "random.randint(-9,9)"
   ]
  },
  {
   "cell_type": "code",
   "execution_count": 303,
   "metadata": {
    "collapsed": true
   },
   "outputs": [],
   "source": [
    "# How would you create a list of 20 random integers?\n",
    "vals = [random.randint(-9, 9) for i in range(20)]"
   ]
  },
  {
   "cell_type": "code",
   "execution_count": 304,
   "metadata": {
    "collapsed": false
   },
   "outputs": [
    {
     "data": {
      "text/plain": [
       "[-8, 5, 1, 8, 7, -7, 7, -6, -7, -1, 9, -1, 4, -2, -4, 4, -8, 0, -1, -8]"
      ]
     },
     "execution_count": 304,
     "metadata": {},
     "output_type": "execute_result"
    }
   ],
   "source": [
    "vals"
   ]
  },
  {
   "cell_type": "markdown",
   "metadata": {},
   "source": [
    "Exercise 3. Comprehensions\n",
    "-------------------------\n",
    "Create list comprehensions that:\n",
    "* filter the list selecting only values greater than 3\n",
    "* create a new list containing only the odd numbers, but multiply these by 10\n",
    "    * odd numbers can be found by testing if `v%2 == 1`\n",
    "\n",
    "**Time:** 15 minutes including a break"
   ]
  },
  {
   "cell_type": "code",
   "execution_count": 310,
   "metadata": {
    "collapsed": false
   },
   "outputs": [
    {
     "data": {
      "text/plain": [
       "[5, 8, 7, 7, 9, 4, 4]"
      ]
     },
     "execution_count": 310,
     "metadata": {},
     "output_type": "execute_result"
    }
   ],
   "source": [
    "[v for v in vals if v > 3]"
   ]
  },
  {
   "cell_type": "code",
   "execution_count": 311,
   "metadata": {
    "collapsed": false
   },
   "outputs": [
    {
     "data": {
      "text/plain": [
       "[50, 10, 70, -70, 70, -70, -10, 90, -10, -10]"
      ]
     },
     "execution_count": 311,
     "metadata": {},
     "output_type": "execute_result"
    }
   ],
   "source": [
    "[v*10 for v in vals if v%2 == 1]"
   ]
  },
  {
   "cell_type": "markdown",
   "metadata": {},
   "source": [
    "Numpy and Pandas\n",
    "=========\n",
    "[Numpy](http://www.numpy.org/) (released 2006 by Travis Oliphant, founder of Continuum) provides the foundation for numerical computing in Python:\n",
    "* defines an `ndarray` that can be used for vector (and matrix) computations\n",
    "* functions and methods supporting linear algebra\n",
    "* implemented in C\n",
    "    * fast\n",
    "    * memory efficient\n",
    "    \n",
    "[Pandas](http://pandas.pydata.org) (released 2009 by Wes McKinney, maintainer is now Jeff Reback from Continuum) \n",
    "* provides R-style `DataFrame` class\n",
    "* many convenience functions\n",
    "* facilitates interaction with spreadsheets (Excel, CSV) or database tables\n",
    "* built on top of Numpy"
   ]
  },
  {
   "cell_type": "code",
   "execution_count": 343,
   "metadata": {
    "collapsed": true
   },
   "outputs": [],
   "source": [
    "import numpy as np\n",
    "import pandas as pd\n",
    "import matplotlib.pyplot as plt"
   ]
  },
  {
   "cell_type": "code",
   "execution_count": 327,
   "metadata": {
    "collapsed": false
   },
   "outputs": [],
   "source": [
    "a = np.random.randint(-9,9,20)\n",
    "b = np.random.randint(-9,9,20)"
   ]
  },
  {
   "cell_type": "code",
   "execution_count": 328,
   "metadata": {
    "collapsed": false
   },
   "outputs": [
    {
     "data": {
      "text/plain": [
       "array([-3, -1,  3, -5, -1,  6, -3, -3, -9, -1,  7,  6,  4, -4,  5, -1, -3,\n",
       "       -6,  4, -8])"
      ]
     },
     "execution_count": 328,
     "metadata": {},
     "output_type": "execute_result"
    }
   ],
   "source": [
    "a"
   ]
  },
  {
   "cell_type": "code",
   "execution_count": 330,
   "metadata": {
    "collapsed": false
   },
   "outputs": [
    {
     "data": {
      "text/plain": [
       "array([ 3,  4, -9, -6, -8,  4, -5,  1, -7,  1,  2,  3,  6, -3, -6, -3,  5,\n",
       "        6, -1,  0])"
      ]
     },
     "execution_count": 330,
     "metadata": {},
     "output_type": "execute_result"
    }
   ],
   "source": [
    "b"
   ]
  },
  {
   "cell_type": "code",
   "execution_count": 334,
   "metadata": {
    "collapsed": false
   },
   "outputs": [
    {
     "data": {
      "text/plain": [
       "array([  0,   3,  -6, -11,  -9,  10,  -8,  -2, -16,   0,   9,   9,  10,\n",
       "        -7,  -1,  -4,   2,   0,   3,  -8])"
      ]
     },
     "execution_count": 334,
     "metadata": {},
     "output_type": "execute_result"
    }
   ],
   "source": [
    "# make a prediction: what will a + b return? (at least, what dimensions will it have?)\n",
    "a + b"
   ]
  },
  {
   "cell_type": "code",
   "execution_count": 336,
   "metadata": {
    "collapsed": false
   },
   "outputs": [
    {
     "data": {
      "text/plain": [
       "array([ -9,  -4, -27,  30,   8,  24,  15,  -3,  63,  -1,  14,  18,  24,\n",
       "        12, -30,   3, -15, -36,  -4,   0])"
      ]
     },
     "execution_count": 336,
     "metadata": {},
     "output_type": "execute_result"
    }
   ],
   "source": [
    "# multiply\n",
    "a * b"
   ]
  },
  {
   "cell_type": "code",
   "execution_count": 340,
   "metadata": {
    "collapsed": false
   },
   "outputs": [
    {
     "data": {
      "text/plain": [
       "82"
      ]
     },
     "execution_count": 340,
     "metadata": {},
     "output_type": "execute_result"
    }
   ],
   "source": [
    "# dot product\n",
    "a.dot(b)"
   ]
  },
  {
   "cell_type": "code",
   "execution_count": 341,
   "metadata": {
    "collapsed": true
   },
   "outputs": [],
   "source": [
    "# -2pi to +2pi with linspace\n",
    "x = np.linspace(-2*math.pi, 2*math.pi, 100)"
   ]
  },
  {
   "cell_type": "code",
   "execution_count": 342,
   "metadata": {
    "collapsed": true
   },
   "outputs": [],
   "source": [
    "# fast vectorized sin function\n",
    "y = np.sin(x) "
   ]
  },
  {
   "cell_type": "code",
   "execution_count": 345,
   "metadata": {
    "collapsed": false
   },
   "outputs": [],
   "source": [
    "%matplotlib inline"
   ]
  },
  {
   "cell_type": "code",
   "execution_count": 356,
   "metadata": {
    "collapsed": false
   },
   "outputs": [
    {
     "data": {
      "text/plain": [
       "<matplotlib.text.Text at 0x111091da0>"
      ]
     },
     "execution_count": 356,
     "metadata": {},
     "output_type": "execute_result"
    },
    {
     "data": {
      "image/png": "[encoded data removed]",
      "text/plain": [
       "<matplotlib.figure.Figure at 0x110b3cda0>"
      ]
     },
     "metadata": {},
     "output_type": "display_data"
    }
   ],
   "source": [
    "# plot & title (with latex)\n",
    "plt.plot(x, y, 'r-')\n",
    "plt.title('sin wave from $-2\\pi$ to $2\\pi$')"
   ]
  },
  {
   "cell_type": "code",
   "execution_count": 350,
   "metadata": {
    "collapsed": true
   },
   "outputs": [],
   "source": [
    "# noise from randn\n",
    "noise = 0.1*np.random.randn(100)"
   ]
  },
  {
   "cell_type": "code",
   "execution_count": 355,
   "metadata": {
    "collapsed": false
   },
   "outputs": [
    {
     "data": {
      "text/plain": [
       "<matplotlib.legend.Legend at 0x110be7f60>"
      ]
     },
     "execution_count": 355,
     "metadata": {},
     "output_type": "execute_result"
    },
    {
     "data": {
      "image/png": "[encoded data removed]",
      "text/plain": [
       "<matplotlib.figure.Figure at 0x110965fd0>"
      ]
     },
     "metadata": {},
     "output_type": "display_data"
    }
   ],
   "source": [
    "plt.title('signal from $-2\\pi$ to $2\\pi$')\n",
    "plt.plot(x, y, 'r-')\n",
    "plt.plot(x, y+noise, 'b.')\n",
    "plt.legend(['clean', 'sampled'])"
   ]
  },
  {
   "cell_type": "code",
   "execution_count": 359,
   "metadata": {
    "collapsed": false
   },
   "outputs": [],
   "source": [
    "powers = np.array([\n",
    "        [1, 2, 3, 4, 5],\n",
    "        [1, 4, 9, 16, 25],\n",
    "        [1, 8, 27, 64, 125]])"
   ]
  },
  {
   "cell_type": "code",
   "execution_count": 362,
   "metadata": {
    "collapsed": false
   },
   "outputs": [
    {
     "data": {
      "text/plain": [
       "array([[False, False, False, False,  True],\n",
       "       [False, False,  True,  True,  True],\n",
       "       [False,  True,  True,  True,  True]], dtype=bool)"
      ]
     },
     "execution_count": 362,
     "metadata": {},
     "output_type": "execute_result"
    }
   ],
   "source": [
    "# boolean masking arrays: >= 5\n",
    "powers >= 5"
   ]
  },
  {
   "cell_type": "code",
   "execution_count": 363,
   "metadata": {
    "collapsed": false
   },
   "outputs": [
    {
     "data": {
      "text/plain": [
       "array([  5,   9,  16,  25,   8,  27,  64, 125])"
      ]
     },
     "execution_count": 363,
     "metadata": {},
     "output_type": "execute_result"
    }
   ],
   "source": [
    "# flattens ndarray based on masking array\n",
    "powers[powers >= 5]"
   ]
  },
  {
   "cell_type": "code",
   "execution_count": 366,
   "metadata": {
    "collapsed": false
   },
   "outputs": [
    {
     "data": {
      "text/plain": [
       "array([['small', 'small', 'small', 'small', 'big'],\n",
       "       ['small', 'small', 'big', 'big', 'big'],\n",
       "       ['small', 'big', 'big', 'big', 'big']], \n",
       "      dtype='<U5')"
      ]
     },
     "execution_count": 366,
     "metadata": {},
     "output_type": "execute_result"
    }
   ],
   "source": [
    "# big/small with np.where\n",
    "np.where(powers >= 5, 'big', 'small')"
   ]
  },
  {
   "cell_type": "code",
   "execution_count": 369,
   "metadata": {
    "collapsed": false
   },
   "outputs": [
    {
     "data": {
      "text/plain": [
       "array([[ 11,  22,  33,  44,  55],\n",
       "       [ 11,  24,  39,  56,  75],\n",
       "       [ 11,  28,  57, 104, 175]])"
      ]
     },
     "execution_count": 369,
     "metadata": {},
     "output_type": "execute_result"
    }
   ],
   "source": [
    "# broadcast addition\n",
    "vector = np.array([10, 20, 30, 40, 50])\n",
    "powers + vector"
   ]
  },
  {
   "cell_type": "code",
   "execution_count": 377,
   "metadata": {
    "collapsed": false
   },
   "outputs": [
    {
     "data": {
      "text/plain": [
       "array([[  1,   2,   3,   4,   5],\n",
       "       [  1,   4,   9,  16,  25],\n",
       "       [  1,   8,  27,  64, 125]])"
      ]
     },
     "execution_count": 377,
     "metadata": {},
     "output_type": "execute_result"
    }
   ],
   "source": [
    "powers"
   ]
  },
  {
   "cell_type": "code",
   "execution_count": 376,
   "metadata": {
    "collapsed": false
   },
   "outputs": [],
   "source": [
    "# max method (3 variants)"
   ]
  },
  {
   "cell_type": "code",
   "execution_count": 379,
   "metadata": {
    "collapsed": true
   },
   "outputs": [],
   "source": [
    "# sum method (3 variants)"
   ]
  },
  {
   "cell_type": "code",
   "execution_count": 380,
   "metadata": {
    "collapsed": true
   },
   "outputs": [],
   "source": [
    "# mean method (3 variants)"
   ]
  },
  {
   "cell_type": "markdown",
   "metadata": {},
   "source": [
    "Pandas DataFrame\n",
    "---------------"
   ]
  },
  {
   "cell_type": "code",
   "execution_count": 391,
   "metadata": {
    "collapsed": true
   },
   "outputs": [],
   "source": [
    "pd.read_csv?"
   ]
  },
  {
   "cell_type": "code",
   "execution_count": 406,
   "metadata": {
    "collapsed": false
   },
   "outputs": [],
   "source": [
    "aapl = pd.read_csv(mpl.cbook.get_sample_data('aapl.csv'), index_col='Date', parse_dates=True)\n",
    "msft = pd.read_csv(mpl.cbook.get_sample_data('msft.csv'), index_col='Date', parse_dates=True)"
   ]
  },
  {
   "cell_type": "code",
   "execution_count": 407,
   "metadata": {
    "collapsed": false
   },
   "outputs": [
    {
     "data": {
      "text/html": [
       "<div>\n",
       "<table border=\"1\" class=\"dataframe\">\n",
       "  <thead>\n",
       "    <tr style=\"text-align: right;\">\n",
       "      <th></th>\n",
       "      <th>Open</th>\n",
       "      <th>High</th>\n",
       "      <th>Low</th>\n",
       "      <th>Close</th>\n",
       "      <th>Volume</th>\n",
       "      <th>Adj. Close*</th>\n",
       "    </tr>\n",
       "    <tr>\n",
       "      <th>Date</th>\n",
       "      <th></th>\n",
       "      <th></th>\n",
       "      <th></th>\n",
       "      <th></th>\n",
       "      <th></th>\n",
       "      <th></th>\n",
       "    </tr>\n",
       "  </thead>\n",
       "  <tbody>\n",
       "    <tr>\n",
       "      <th>2003-09-19</th>\n",
       "      <td>29.76</td>\n",
       "      <td>29.97</td>\n",
       "      <td>29.52</td>\n",
       "      <td>29.96</td>\n",
       "      <td>92433800</td>\n",
       "      <td>29.79</td>\n",
       "    </tr>\n",
       "    <tr>\n",
       "      <th>2003-09-18</th>\n",
       "      <td>28.49</td>\n",
       "      <td>29.51</td>\n",
       "      <td>28.42</td>\n",
       "      <td>29.50</td>\n",
       "      <td>67268096</td>\n",
       "      <td>29.34</td>\n",
       "    </tr>\n",
       "    <tr>\n",
       "      <th>2003-09-17</th>\n",
       "      <td>28.76</td>\n",
       "      <td>28.95</td>\n",
       "      <td>28.47</td>\n",
       "      <td>28.50</td>\n",
       "      <td>47221600</td>\n",
       "      <td>28.34</td>\n",
       "    </tr>\n",
       "    <tr>\n",
       "      <th>2003-09-16</th>\n",
       "      <td>28.41</td>\n",
       "      <td>28.95</td>\n",
       "      <td>28.32</td>\n",
       "      <td>28.90</td>\n",
       "      <td>52060600</td>\n",
       "      <td>28.74</td>\n",
       "    </tr>\n",
       "    <tr>\n",
       "      <th>2003-09-15</th>\n",
       "      <td>28.37</td>\n",
       "      <td>28.61</td>\n",
       "      <td>28.33</td>\n",
       "      <td>28.36</td>\n",
       "      <td>41432300</td>\n",
       "      <td>28.20</td>\n",
       "    </tr>\n",
       "    <tr>\n",
       "      <th>2003-09-12</th>\n",
       "      <td>27.48</td>\n",
       "      <td>28.40</td>\n",
       "      <td>27.45</td>\n",
       "      <td>28.34</td>\n",
       "      <td>55777200</td>\n",
       "      <td>28.18</td>\n",
       "    </tr>\n",
       "    <tr>\n",
       "      <th>2003-09-11</th>\n",
       "      <td>27.66</td>\n",
       "      <td>28.11</td>\n",
       "      <td>27.59</td>\n",
       "      <td>27.84</td>\n",
       "      <td>37813300</td>\n",
       "      <td>27.68</td>\n",
       "    </tr>\n",
       "    <tr>\n",
       "      <th>2003-09-10</th>\n",
       "      <td>28.03</td>\n",
       "      <td>28.18</td>\n",
       "      <td>27.48</td>\n",
       "      <td>27.55</td>\n",
       "      <td>54763500</td>\n",
       "      <td>27.40</td>\n",
       "    </tr>\n",
       "    <tr>\n",
       "      <th>2003-09-09</th>\n",
       "      <td>28.65</td>\n",
       "      <td>28.71</td>\n",
       "      <td>28.31</td>\n",
       "      <td>28.37</td>\n",
       "      <td>44315200</td>\n",
       "      <td>28.21</td>\n",
       "    </tr>\n",
       "    <tr>\n",
       "      <th>2003-09-08</th>\n",
       "      <td>28.39</td>\n",
       "      <td>28.92</td>\n",
       "      <td>28.34</td>\n",
       "      <td>28.84</td>\n",
       "      <td>46105300</td>\n",
       "      <td>28.68</td>\n",
       "    </tr>\n",
       "    <tr>\n",
       "      <th>2003-09-05</th>\n",
       "      <td>28.23</td>\n",
       "      <td>28.75</td>\n",
       "      <td>28.17</td>\n",
       "      <td>28.38</td>\n",
       "      <td>64024500</td>\n",
       "      <td>28.22</td>\n",
       "    </tr>\n",
       "    <tr>\n",
       "      <th>2003-09-04</th>\n",
       "      <td>28.10</td>\n",
       "      <td>28.47</td>\n",
       "      <td>27.99</td>\n",
       "      <td>28.43</td>\n",
       "      <td>59840800</td>\n",
       "      <td>28.27</td>\n",
       "    </tr>\n",
       "    <tr>\n",
       "      <th>2003-09-03</th>\n",
       "      <td>27.42</td>\n",
       "      <td>28.40</td>\n",
       "      <td>27.38</td>\n",
       "      <td>28.30</td>\n",
       "      <td>109437800</td>\n",
       "      <td>28.14</td>\n",
       "    </tr>\n",
       "    <tr>\n",
       "      <th>2003-09-02</th>\n",
       "      <td>26.70</td>\n",
       "      <td>27.30</td>\n",
       "      <td>26.47</td>\n",
       "      <td>27.26</td>\n",
       "      <td>74168896</td>\n",
       "      <td>27.11</td>\n",
       "    </tr>\n",
       "    <tr>\n",
       "      <th>2003-08-29</th>\n",
       "      <td>26.46</td>\n",
       "      <td>26.55</td>\n",
       "      <td>26.35</td>\n",
       "      <td>26.52</td>\n",
       "      <td>34503000</td>\n",
       "      <td>26.37</td>\n",
       "    </tr>\n",
       "    <tr>\n",
       "      <th>2003-08-28</th>\n",
       "      <td>26.50</td>\n",
       "      <td>26.58</td>\n",
       "      <td>26.24</td>\n",
       "      <td>26.51</td>\n",
       "      <td>46211200</td>\n",
       "      <td>26.36</td>\n",
       "    </tr>\n",
       "    <tr>\n",
       "      <th>2003-08-27</th>\n",
       "      <td>26.51</td>\n",
       "      <td>26.58</td>\n",
       "      <td>26.30</td>\n",
       "      <td>26.42</td>\n",
       "      <td>30633900</td>\n",
       "      <td>26.27</td>\n",
       "    </tr>\n",
       "    <tr>\n",
       "      <th>2003-08-26</th>\n",
       "      <td>26.31</td>\n",
       "      <td>26.67</td>\n",
       "      <td>25.96</td>\n",
       "      <td>26.57</td>\n",
       "      <td>47546000</td>\n",
       "      <td>26.42</td>\n",
       "    </tr>\n",
       "    <tr>\n",
       "      <th>2003-08-25</th>\n",
       "      <td>26.31</td>\n",
       "      <td>26.54</td>\n",
       "      <td>26.23</td>\n",
       "      <td>26.50</td>\n",
       "      <td>36132900</td>\n",
       "      <td>26.35</td>\n",
       "    </tr>\n",
       "    <tr>\n",
       "      <th>2003-08-22</th>\n",
       "      <td>26.78</td>\n",
       "      <td>26.95</td>\n",
       "      <td>26.21</td>\n",
       "      <td>26.22</td>\n",
       "      <td>65846300</td>\n",
       "      <td>26.07</td>\n",
       "    </tr>\n",
       "    <tr>\n",
       "      <th>2003-08-21</th>\n",
       "      <td>26.65</td>\n",
       "      <td>26.73</td>\n",
       "      <td>26.13</td>\n",
       "      <td>26.24</td>\n",
       "      <td>63802700</td>\n",
       "      <td>26.09</td>\n",
       "    </tr>\n",
       "    <tr>\n",
       "      <th>2003-08-20</th>\n",
       "      <td>26.30</td>\n",
       "      <td>26.53</td>\n",
       "      <td>26.00</td>\n",
       "      <td>26.45</td>\n",
       "      <td>56739300</td>\n",
       "      <td>26.30</td>\n",
       "    </tr>\n",
       "    <tr>\n",
       "      <th>2003-08-19</th>\n",
       "      <td>25.85</td>\n",
       "      <td>26.65</td>\n",
       "      <td>25.77</td>\n",
       "      <td>26.62</td>\n",
       "      <td>72952896</td>\n",
       "      <td>26.47</td>\n",
       "    </tr>\n",
       "    <tr>\n",
       "      <th>2003-08-18</th>\n",
       "      <td>25.56</td>\n",
       "      <td>25.83</td>\n",
       "      <td>25.46</td>\n",
       "      <td>25.70</td>\n",
       "      <td>45817400</td>\n",
       "      <td>25.56</td>\n",
       "    </tr>\n",
       "    <tr>\n",
       "      <th>2003-08-15</th>\n",
       "      <td>25.61</td>\n",
       "      <td>25.66</td>\n",
       "      <td>25.43</td>\n",
       "      <td>25.54</td>\n",
       "      <td>27607900</td>\n",
       "      <td>25.40</td>\n",
       "    </tr>\n",
       "    <tr>\n",
       "      <th>2003-08-14</th>\n",
       "      <td>25.66</td>\n",
       "      <td>25.71</td>\n",
       "      <td>25.52</td>\n",
       "      <td>25.63</td>\n",
       "      <td>37338300</td>\n",
       "      <td>25.49</td>\n",
       "    </tr>\n",
       "    <tr>\n",
       "      <th>2003-08-13</th>\n",
       "      <td>25.79</td>\n",
       "      <td>25.89</td>\n",
       "      <td>25.50</td>\n",
       "      <td>25.60</td>\n",
       "      <td>39636900</td>\n",
       "      <td>25.46</td>\n",
       "    </tr>\n",
       "    <tr>\n",
       "      <th>2003-08-12</th>\n",
       "      <td>25.71</td>\n",
       "      <td>25.77</td>\n",
       "      <td>25.45</td>\n",
       "      <td>25.73</td>\n",
       "      <td>38208400</td>\n",
       "      <td>25.59</td>\n",
       "    </tr>\n",
       "    <tr>\n",
       "      <th>2003-08-11</th>\n",
       "      <td>25.61</td>\n",
       "      <td>25.99</td>\n",
       "      <td>25.54</td>\n",
       "      <td>25.61</td>\n",
       "      <td>36433900</td>\n",
       "      <td>25.47</td>\n",
       "    </tr>\n",
       "    <tr>\n",
       "      <th>2003-08-08</th>\n",
       "      <td>25.88</td>\n",
       "      <td>25.98</td>\n",
       "      <td>25.50</td>\n",
       "      <td>25.58</td>\n",
       "      <td>33241400</td>\n",
       "      <td>25.44</td>\n",
       "    </tr>\n",
       "    <tr>\n",
       "      <th>...</th>\n",
       "      <td>...</td>\n",
       "      <td>...</td>\n",
       "      <td>...</td>\n",
       "      <td>...</td>\n",
       "      <td>...</td>\n",
       "      <td>...</td>\n",
       "    </tr>\n",
       "    <tr>\n",
       "      <th>2003-07-31</th>\n",
       "      <td>26.60</td>\n",
       "      <td>26.99</td>\n",
       "      <td>26.31</td>\n",
       "      <td>26.41</td>\n",
       "      <td>64504800</td>\n",
       "      <td>26.26</td>\n",
       "    </tr>\n",
       "    <tr>\n",
       "      <th>2003-07-30</th>\n",
       "      <td>26.46</td>\n",
       "      <td>26.57</td>\n",
       "      <td>26.17</td>\n",
       "      <td>26.23</td>\n",
       "      <td>41240300</td>\n",
       "      <td>26.08</td>\n",
       "    </tr>\n",
       "    <tr>\n",
       "      <th>2003-07-29</th>\n",
       "      <td>26.88</td>\n",
       "      <td>26.90</td>\n",
       "      <td>26.24</td>\n",
       "      <td>26.47</td>\n",
       "      <td>62391100</td>\n",
       "      <td>26.32</td>\n",
       "    </tr>\n",
       "    <tr>\n",
       "      <th>2003-07-28</th>\n",
       "      <td>26.94</td>\n",
       "      <td>27.00</td>\n",
       "      <td>26.49</td>\n",
       "      <td>26.61</td>\n",
       "      <td>52658300</td>\n",
       "      <td>26.46</td>\n",
       "    </tr>\n",
       "    <tr>\n",
       "      <th>2003-07-25</th>\n",
       "      <td>26.28</td>\n",
       "      <td>26.95</td>\n",
       "      <td>26.07</td>\n",
       "      <td>26.89</td>\n",
       "      <td>54173000</td>\n",
       "      <td>26.74</td>\n",
       "    </tr>\n",
       "    <tr>\n",
       "      <th>2003-07-24</th>\n",
       "      <td>26.78</td>\n",
       "      <td>26.92</td>\n",
       "      <td>25.98</td>\n",
       "      <td>26.00</td>\n",
       "      <td>53556600</td>\n",
       "      <td>25.85</td>\n",
       "    </tr>\n",
       "    <tr>\n",
       "      <th>2003-07-23</th>\n",
       "      <td>26.42</td>\n",
       "      <td>26.65</td>\n",
       "      <td>26.14</td>\n",
       "      <td>26.45</td>\n",
       "      <td>49828200</td>\n",
       "      <td>26.30</td>\n",
       "    </tr>\n",
       "    <tr>\n",
       "      <th>2003-07-22</th>\n",
       "      <td>26.28</td>\n",
       "      <td>26.56</td>\n",
       "      <td>26.13</td>\n",
       "      <td>26.38</td>\n",
       "      <td>51791000</td>\n",
       "      <td>26.23</td>\n",
       "    </tr>\n",
       "    <tr>\n",
       "      <th>2003-07-21</th>\n",
       "      <td>26.87</td>\n",
       "      <td>26.91</td>\n",
       "      <td>26.00</td>\n",
       "      <td>26.04</td>\n",
       "      <td>48480800</td>\n",
       "      <td>25.89</td>\n",
       "    </tr>\n",
       "    <tr>\n",
       "      <th>2003-07-18</th>\n",
       "      <td>27.11</td>\n",
       "      <td>27.23</td>\n",
       "      <td>26.75</td>\n",
       "      <td>26.89</td>\n",
       "      <td>63388400</td>\n",
       "      <td>26.74</td>\n",
       "    </tr>\n",
       "    <tr>\n",
       "      <th>2003-07-17</th>\n",
       "      <td>27.14</td>\n",
       "      <td>27.27</td>\n",
       "      <td>26.54</td>\n",
       "      <td>26.69</td>\n",
       "      <td>72805000</td>\n",
       "      <td>26.54</td>\n",
       "    </tr>\n",
       "    <tr>\n",
       "      <th>2003-07-16</th>\n",
       "      <td>27.56</td>\n",
       "      <td>27.62</td>\n",
       "      <td>27.20</td>\n",
       "      <td>27.52</td>\n",
       "      <td>49838900</td>\n",
       "      <td>27.37</td>\n",
       "    </tr>\n",
       "    <tr>\n",
       "      <th>2003-07-15</th>\n",
       "      <td>27.47</td>\n",
       "      <td>27.53</td>\n",
       "      <td>27.10</td>\n",
       "      <td>27.27</td>\n",
       "      <td>53567600</td>\n",
       "      <td>27.12</td>\n",
       "    </tr>\n",
       "    <tr>\n",
       "      <th>2003-07-14</th>\n",
       "      <td>27.63</td>\n",
       "      <td>27.81</td>\n",
       "      <td>27.05</td>\n",
       "      <td>27.40</td>\n",
       "      <td>60464400</td>\n",
       "      <td>27.25</td>\n",
       "    </tr>\n",
       "    <tr>\n",
       "      <th>2003-07-11</th>\n",
       "      <td>26.95</td>\n",
       "      <td>27.45</td>\n",
       "      <td>26.89</td>\n",
       "      <td>27.31</td>\n",
       "      <td>50377300</td>\n",
       "      <td>27.16</td>\n",
       "    </tr>\n",
       "    <tr>\n",
       "      <th>2003-07-10</th>\n",
       "      <td>27.25</td>\n",
       "      <td>27.42</td>\n",
       "      <td>26.59</td>\n",
       "      <td>26.91</td>\n",
       "      <td>55350800</td>\n",
       "      <td>26.76</td>\n",
       "    </tr>\n",
       "    <tr>\n",
       "      <th>2003-07-09</th>\n",
       "      <td>27.56</td>\n",
       "      <td>27.70</td>\n",
       "      <td>27.25</td>\n",
       "      <td>27.47</td>\n",
       "      <td>62300700</td>\n",
       "      <td>27.32</td>\n",
       "    </tr>\n",
       "    <tr>\n",
       "      <th>2003-07-08</th>\n",
       "      <td>27.26</td>\n",
       "      <td>27.80</td>\n",
       "      <td>27.25</td>\n",
       "      <td>27.70</td>\n",
       "      <td>61896800</td>\n",
       "      <td>27.55</td>\n",
       "    </tr>\n",
       "    <tr>\n",
       "      <th>2003-07-07</th>\n",
       "      <td>27.02</td>\n",
       "      <td>27.55</td>\n",
       "      <td>26.95</td>\n",
       "      <td>27.42</td>\n",
       "      <td>88960800</td>\n",
       "      <td>27.27</td>\n",
       "    </tr>\n",
       "    <tr>\n",
       "      <th>2003-07-03</th>\n",
       "      <td>26.69</td>\n",
       "      <td>26.95</td>\n",
       "      <td>26.41</td>\n",
       "      <td>26.50</td>\n",
       "      <td>39440900</td>\n",
       "      <td>26.35</td>\n",
       "    </tr>\n",
       "    <tr>\n",
       "      <th>2003-07-02</th>\n",
       "      <td>26.50</td>\n",
       "      <td>26.93</td>\n",
       "      <td>26.45</td>\n",
       "      <td>26.88</td>\n",
       "      <td>94069296</td>\n",
       "      <td>26.73</td>\n",
       "    </tr>\n",
       "    <tr>\n",
       "      <th>2003-07-01</th>\n",
       "      <td>25.59</td>\n",
       "      <td>26.20</td>\n",
       "      <td>25.39</td>\n",
       "      <td>26.15</td>\n",
       "      <td>60926000</td>\n",
       "      <td>26.00</td>\n",
       "    </tr>\n",
       "    <tr>\n",
       "      <th>2003-06-30</th>\n",
       "      <td>25.94</td>\n",
       "      <td>26.12</td>\n",
       "      <td>25.50</td>\n",
       "      <td>25.64</td>\n",
       "      <td>48073100</td>\n",
       "      <td>25.50</td>\n",
       "    </tr>\n",
       "    <tr>\n",
       "      <th>2003-06-27</th>\n",
       "      <td>25.95</td>\n",
       "      <td>26.34</td>\n",
       "      <td>25.53</td>\n",
       "      <td>25.63</td>\n",
       "      <td>76040304</td>\n",
       "      <td>25.49</td>\n",
       "    </tr>\n",
       "    <tr>\n",
       "      <th>2003-06-26</th>\n",
       "      <td>25.39</td>\n",
       "      <td>26.51</td>\n",
       "      <td>25.21</td>\n",
       "      <td>25.75</td>\n",
       "      <td>51758100</td>\n",
       "      <td>25.61</td>\n",
       "    </tr>\n",
       "    <tr>\n",
       "      <th>2003-06-25</th>\n",
       "      <td>25.64</td>\n",
       "      <td>25.99</td>\n",
       "      <td>25.14</td>\n",
       "      <td>25.26</td>\n",
       "      <td>60483500</td>\n",
       "      <td>25.12</td>\n",
       "    </tr>\n",
       "    <tr>\n",
       "      <th>2003-06-24</th>\n",
       "      <td>25.65</td>\n",
       "      <td>26.04</td>\n",
       "      <td>25.52</td>\n",
       "      <td>25.70</td>\n",
       "      <td>51820300</td>\n",
       "      <td>25.56</td>\n",
       "    </tr>\n",
       "    <tr>\n",
       "      <th>2003-06-23</th>\n",
       "      <td>26.14</td>\n",
       "      <td>26.24</td>\n",
       "      <td>25.49</td>\n",
       "      <td>25.78</td>\n",
       "      <td>52584500</td>\n",
       "      <td>25.64</td>\n",
       "    </tr>\n",
       "    <tr>\n",
       "      <th>2003-06-20</th>\n",
       "      <td>26.34</td>\n",
       "      <td>26.38</td>\n",
       "      <td>26.01</td>\n",
       "      <td>26.33</td>\n",
       "      <td>86048896</td>\n",
       "      <td>26.18</td>\n",
       "    </tr>\n",
       "    <tr>\n",
       "      <th>2003-06-19</th>\n",
       "      <td>26.09</td>\n",
       "      <td>26.39</td>\n",
       "      <td>26.01</td>\n",
       "      <td>26.07</td>\n",
       "      <td>63626900</td>\n",
       "      <td>25.92</td>\n",
       "    </tr>\n",
       "  </tbody>\n",
       "</table>\n",
       "<p>65 rows × 6 columns</p>\n",
       "</div>"
      ],
      "text/plain": [
       "             Open   High    Low  Close     Volume  Adj. Close*\n",
       "Date                                                          \n",
       "2003-09-19  29.76  29.97  29.52  29.96   92433800        29.79\n",
       "2003-09-18  28.49  29.51  28.42  29.50   67268096        29.34\n",
       "2003-09-17  28.76  28.95  28.47  28.50   47221600        28.34\n",
       "2003-09-16  28.41  28.95  28.32  28.90   52060600        28.74\n",
       "2003-09-15  28.37  28.61  28.33  28.36   41432300        28.20\n",
       "2003-09-12  27.48  28.40  27.45  28.34   55777200        28.18\n",
       "2003-09-11  27.66  28.11  27.59  27.84   37813300        27.68\n",
       "2003-09-10  28.03  28.18  27.48  27.55   54763500        27.40\n",
       "2003-09-09  28.65  28.71  28.31  28.37   44315200        28.21\n",
       "2003-09-08  28.39  28.92  28.34  28.84   46105300        28.68\n",
       "2003-09-05  28.23  28.75  28.17  28.38   64024500        28.22\n",
       "2003-09-04  28.10  28.47  27.99  28.43   59840800        28.27\n",
       "2003-09-03  27.42  28.40  27.38  28.30  109437800        28.14\n",
       "2003-09-02  26.70  27.30  26.47  27.26   74168896        27.11\n",
       "2003-08-29  26.46  26.55  26.35  26.52   34503000        26.37\n",
       "2003-08-28  26.50  26.58  26.24  26.51   46211200        26.36\n",
       "2003-08-27  26.51  26.58  26.30  26.42   30633900        26.27\n",
       "2003-08-26  26.31  26.67  25.96  26.57   47546000        26.42\n",
       "2003-08-25  26.31  26.54  26.23  26.50   36132900        26.35\n",
       "2003-08-22  26.78  26.95  26.21  26.22   65846300        26.07\n",
       "2003-08-21  26.65  26.73  26.13  26.24   63802700        26.09\n",
       "2003-08-20  26.30  26.53  26.00  26.45   56739300        26.30\n",
       "2003-08-19  25.85  26.65  25.77  26.62   72952896        26.47\n",
       "2003-08-18  25.56  25.83  25.46  25.70   45817400        25.56\n",
       "2003-08-15  25.61  25.66  25.43  25.54   27607900        25.40\n",
       "2003-08-14  25.66  25.71  25.52  25.63   37338300        25.49\n",
       "2003-08-13  25.79  25.89  25.50  25.60   39636900        25.46\n",
       "2003-08-12  25.71  25.77  25.45  25.73   38208400        25.59\n",
       "2003-08-11  25.61  25.99  25.54  25.61   36433900        25.47\n",
       "2003-08-08  25.88  25.98  25.50  25.58   33241400        25.44\n",
       "...           ...    ...    ...    ...        ...          ...\n",
       "2003-07-31  26.60  26.99  26.31  26.41   64504800        26.26\n",
       "2003-07-30  26.46  26.57  26.17  26.23   41240300        26.08\n",
       "2003-07-29  26.88  26.90  26.24  26.47   62391100        26.32\n",
       "2003-07-28  26.94  27.00  26.49  26.61   52658300        26.46\n",
       "2003-07-25  26.28  26.95  26.07  26.89   54173000        26.74\n",
       "2003-07-24  26.78  26.92  25.98  26.00   53556600        25.85\n",
       "2003-07-23  26.42  26.65  26.14  26.45   49828200        26.30\n",
       "2003-07-22  26.28  26.56  26.13  26.38   51791000        26.23\n",
       "2003-07-21  26.87  26.91  26.00  26.04   48480800        25.89\n",
       "2003-07-18  27.11  27.23  26.75  26.89   63388400        26.74\n",
       "2003-07-17  27.14  27.27  26.54  26.69   72805000        26.54\n",
       "2003-07-16  27.56  27.62  27.20  27.52   49838900        27.37\n",
       "2003-07-15  27.47  27.53  27.10  27.27   53567600        27.12\n",
       "2003-07-14  27.63  27.81  27.05  27.40   60464400        27.25\n",
       "2003-07-11  26.95  27.45  26.89  27.31   50377300        27.16\n",
       "2003-07-10  27.25  27.42  26.59  26.91   55350800        26.76\n",
       "2003-07-09  27.56  27.70  27.25  27.47   62300700        27.32\n",
       "2003-07-08  27.26  27.80  27.25  27.70   61896800        27.55\n",
       "2003-07-07  27.02  27.55  26.95  27.42   88960800        27.27\n",
       "2003-07-03  26.69  26.95  26.41  26.50   39440900        26.35\n",
       "2003-07-02  26.50  26.93  26.45  26.88   94069296        26.73\n",
       "2003-07-01  25.59  26.20  25.39  26.15   60926000        26.00\n",
       "2003-06-30  25.94  26.12  25.50  25.64   48073100        25.50\n",
       "2003-06-27  25.95  26.34  25.53  25.63   76040304        25.49\n",
       "2003-06-26  25.39  26.51  25.21  25.75   51758100        25.61\n",
       "2003-06-25  25.64  25.99  25.14  25.26   60483500        25.12\n",
       "2003-06-24  25.65  26.04  25.52  25.70   51820300        25.56\n",
       "2003-06-23  26.14  26.24  25.49  25.78   52584500        25.64\n",
       "2003-06-20  26.34  26.38  26.01  26.33   86048896        26.18\n",
       "2003-06-19  26.09  26.39  26.01  26.07   63626900        25.92\n",
       "\n",
       "[65 rows x 6 columns]"
      ]
     },
     "execution_count": 407,
     "metadata": {},
     "output_type": "execute_result"
    }
   ],
   "source": [
    "msft"
   ]
  },
  {
   "cell_type": "code",
   "execution_count": 398,
   "metadata": {
    "collapsed": true
   },
   "outputs": [],
   "source": [
    "# DataFrame repr"
   ]
  },
  {
   "cell_type": "code",
   "execution_count": 399,
   "metadata": {
    "collapsed": true
   },
   "outputs": [],
   "source": [
    "# plot close"
   ]
  },
  {
   "cell_type": "markdown",
   "metadata": {},
   "source": [
    "Bokeh\n",
    "====="
   ]
  },
  {
   "cell_type": "code",
   "execution_count": 420,
   "metadata": {
    "collapsed": true
   },
   "outputs": [],
   "source": [
    "from collections import OrderedDict\n",
    "\n",
    "from bokeh.plotting import figure, show, output_notebook, ColumnDataSource\n",
    "from bokeh.models import HoverTool\n",
    "\n",
    "mids = (msft.Open + msft.Close)/2\n",
    "spans = abs(msft.Close - msft.Open)\n",
    "\n",
    "inc = msft.Close > msft.Open # days with higher closing price (increase)\n",
    "dec = msft.Open > msft.Close # days with lower closing price (decrease)\n",
    "w = 12*60*60*1000 # half day in ms\n",
    "\n",
    "source = ColumnDataSource(\n",
    "    data=dict(low=msft.Low, high=msft.High, close=msft.Close, vol=msft.Volume)\n",
    "    )"
   ]
  },
  {
   "cell_type": "code",
   "execution_count": 424,
   "metadata": {
    "collapsed": false
   },
   "outputs": [
    {
     "data": {
      "text/html": [
       "\n",
       "\n",
       "    <script type=\"text/javascript\">\n",
       "      \n",
       "      (function(global) {\n",
       "        function now() {\n",
       "          return new Date();\n",
       "        }\n",
       "      \n",
       "        if (typeof (window._bokeh_onload_callbacks) === \"undefined\") {\n",
       "          window._bokeh_onload_callbacks = [];\n",
       "        }\n",
       "      \n",
       "        function run_callbacks() {\n",
       "          window._bokeh_onload_callbacks.forEach(function(callback) { callback() });\n",
       "          delete window._bokeh_onload_callbacks\n",
       "          console.info(\"Bokeh: all callbacks have finished\");\n",
       "        }\n",
       "      \n",
       "        function load_libs(js_urls, callback) {\n",
       "          window._bokeh_onload_callbacks.push(callback);\n",
       "          if (window._bokeh_is_loading > 0) {\n",
       "            console.log(\"Bokeh: BokehJS is being loaded, scheduling callback at\", now());\n",
       "            return null;\n",
       "          }\n",
       "          if (js_urls == null || js_urls.length === 0) {\n",
       "            run_callbacks();\n",
       "            return null;\n",
       "          }\n",
       "          console.log(\"Bokeh: BokehJS not loaded, scheduling load and callback at\", now());\n",
       "          window._bokeh_is_loading = js_urls.length;\n",
       "          for (var i = 0; i < js_urls.length; i++) {\n",
       "            var url = js_urls[i];\n",
       "            var s = document.createElement('script');\n",
       "            s.src = url;\n",
       "            s.async = false;\n",
       "            s.onreadystatechange = s.onload = function() {\n",
       "              window._bokeh_is_loading--;\n",
       "              if (window._bokeh_is_loading === 0) {\n",
       "                console.log(\"Bokeh: all BokehJS libraries loaded\");\n",
       "                run_callbacks()\n",
       "              }\n",
       "            };\n",
       "            s.onerror = function() {\n",
       "              console.warn(\"failed to load library \" + url);\n",
       "            };\n",
       "            console.log(\"Bokeh: injecting script tag for BokehJS library: \", url);\n",
       "            document.getElementsByTagName(\"head\")[0].appendChild(s);\n",
       "          }\n",
       "        };var js_urls = ['https://cdn.pydata.org/bokeh/release/bokeh-0.11.0.min.js', 'https://cdn.pydata.org/bokeh/release/bokeh-widgets-0.11.0.min.js', 'https://cdn.pydata.org/bokeh/release/bokeh-compiler-0.11.0.min.js'];\n",
       "      \n",
       "        var inline_js = [\n",
       "          function(Bokeh) {\n",
       "            Bokeh.set_log_level(\"info\");\n",
       "          },\n",
       "          function(Bokeh) {\n",
       "            console.log(\"Bokeh: injecting CSS: https://cdn.pydata.org/bokeh/release/bokeh-0.11.0.min.css\");\n",
       "            Bokeh.embed.inject_css(\"https://cdn.pydata.org/bokeh/release/bokeh-0.11.0.min.css\");\n",
       "            console.log(\"Bokeh: injecting CSS: https://cdn.pydata.org/bokeh/release/bokeh-widgets-0.11.0.min.css\");\n",
       "            Bokeh.embed.inject_css(\"https://cdn.pydata.org/bokeh/release/bokeh-widgets-0.11.0.min.css\");\n",
       "          }\n",
       "        ];\n",
       "      \n",
       "        function run_inline_js() {\n",
       "          for (var i = 0; i < inline_js.length; i++) {\n",
       "            inline_js[i](window.Bokeh);\n",
       "          }\n",
       "        }\n",
       "      \n",
       "        if (window._bokeh_is_loading === 0) {\n",
       "          console.log(\"Bokeh: BokehJS loaded, going straight to plotting\");\n",
       "          run_inline_js();\n",
       "        } else {\n",
       "          load_libs(js_urls, function() {\n",
       "            console.log(\"Bokeh: BokehJS plotting callback run at\", now());\n",
       "            run_inline_js();\n",
       "          });\n",
       "        }\n",
       "      }(this));\n",
       "    </script>\n",
       "    <div>\n",
       "        <a href=\"http://bokeh.pydata.org\" target=\"_blank\" class=\"bk-logo bk-logo-small bk-logo-notebook\"></a>\n",
       "        <span>BokehJS successfully loaded.</span>\n",
       "    </div>"
      ]
     },
     "metadata": {},
     "output_type": "display_data"
    }
   ],
   "source": [
    "output_notebook()\n",
    "\n",
    "TOOLS = \"pan,box_zoom,reset,save\"\n",
    "\n",
    "p = figure(x_axis_type=\"datetime\", tools=TOOLS, plot_width=1000, toolbar_location=\"left\")\n",
    "\n",
    "p.segment(msft.index, msft.High, msft.index, msft.Low, color=\"black\")\n",
    "\n",
    "# plot increases grey\n",
    "p.rect(msft.index[inc], mids[inc], w, spans[inc], # source=source,\n",
    "       fill_color=\"#D5E1DD\", line_color=\"black\")\n",
    "\n",
    "# plot decreases red\n",
    "p.rect(msft.index[dec], mids[dec], w, spans[dec], # source=source, \n",
    "       fill_color=\"#F2583E\", line_color=\"black\")\n",
    "\n",
    "p.title = \"MSFT Candlestick\"\n",
    "p.xaxis.major_label_orientation = math.pi/4\n",
    "p.grid.grid_line_alpha=0.3\n",
    "\n",
    "hover = p.select(dict(type=HoverTool))\n",
    "hover.tooltips = OrderedDict([\n",
    "    ('close', '@close'),\n",
    "    ('low:high', '@low:@high'),\n",
    "    ('volume', '@vol'),\n",
    "])\n"
   ]
  },
  {
   "cell_type": "code",
   "execution_count": 426,
   "metadata": {
    "collapsed": false,
    "scrolled": true
   },
   "outputs": [
    {
     "data": {
      "text/html": [
       "\n",
       "\n",
       "    <div class=\"plotdiv\" id=\"7d2f372b-47f5-4e79-9542-62bcf9be6372\"></div>\n",
       "<script type=\"text/javascript\">\n",
       "  \n",
       "  (function(global) {\n",
       "    function now() {\n",
       "      return new Date();\n",
       "    }\n",
       "  \n",
       "    if (typeof (window._bokeh_onload_callbacks) === \"undefined\") {\n",
       "      window._bokeh_onload_callbacks = [];\n",
       "    }\n",
       "  \n",
       "    function run_callbacks() {\n",
       "      window._bokeh_onload_callbacks.forEach(function(callback) { callback() });\n",
       "      delete window._bokeh_onload_callbacks\n",
       "      console.info(\"Bokeh: all callbacks have finished\");\n",
       "    }\n",
       "  \n",
       "    function load_libs(js_urls, callback) {\n",
       "      window._bokeh_onload_callbacks.push(callback);\n",
       "      if (window._bokeh_is_loading > 0) {\n",
       "        console.log(\"Bokeh: BokehJS is being loaded, scheduling callback at\", now());\n",
       "        return null;\n",
       "      }\n",
       "      if (js_urls == null || js_urls.length === 0) {\n",
       "        run_callbacks();\n",
       "        return null;\n",
       "      }\n",
       "      console.log(\"Bokeh: BokehJS not loaded, scheduling load and callback at\", now());\n",
       "      window._bokeh_is_loading = js_urls.length;\n",
       "      for (var i = 0; i < js_urls.length; i++) {\n",
       "        var url = js_urls[i];\n",
       "        var s = document.createElement('script');\n",
       "        s.src = url;\n",
       "        s.async = false;\n",
       "        s.onreadystatechange = s.onload = function() {\n",
       "          window._bokeh_is_loading--;\n",
       "          if (window._bokeh_is_loading === 0) {\n",
       "            console.log(\"Bokeh: all BokehJS libraries loaded\");\n",
       "            run_callbacks()\n",
       "          }\n",
       "        };\n",
       "        s.onerror = function() {\n",
       "          console.warn(\"failed to load library \" + url);\n",
       "        };\n",
       "        console.log(\"Bokeh: injecting script tag for BokehJS library: \", url);\n",
       "        document.getElementsByTagName(\"head\")[0].appendChild(s);\n",
       "      }\n",
       "    };var element = document.getElementById(\"7d2f372b-47f5-4e79-9542-62bcf9be6372\");\n",
       "    if (element == null) {\n",
       "      console.log(\"Bokeh: ERROR: autoload.js configured with elementid '7d2f372b-47f5-4e79-9542-62bcf9be6372' but no matching script tag was found. \")\n",
       "      return false;\n",
       "    }var js_urls = [];\n",
       "  \n",
       "    var inline_js = [\n",
       "      function(Bokeh) {\n",
       "        Bokeh.$(function() {\n",
       "            var docs_json = {\"9de2e381-deaf-448d-9069-d00d1cae6f55\": {\"version\": \"0.11.0\", \"roots\": {\"root_ids\": [\"d19c44ac-b43d-43e9-9e09-0dc58bed79a6\", \"22026226-acfd-41b1-9d0f-3ae52b707c1d\", \"93122f00-b578-4206-9cc8-299e6f4a481f\", \"97b67995-4f24-42d8-af08-e1e7be0adba0\", \"8337ddbc-4875-46c8-b3e9-e0412e93f292\", \"f399d7ee-8671-49d9-b780-b9d1542a6df5\", \"ed71a381-b8b7-45bf-8867-49ae283c013b\"], \"references\": [{\"type\": \"DatetimeTicker\", \"id\": \"c9d623ea-48d5-4c55-9c63-8a28af47f0a5\", \"attributes\": {\"num_minor_ticks\": 5}}, {\"type\": \"Grid\", \"id\": \"557255e7-5af3-45fc-a02e-d8a0a54bfcec\", \"attributes\": {\"plot\": {\"type\": \"Plot\", \"subtype\": \"Figure\", \"id\": \"97b67995-4f24-42d8-af08-e1e7be0adba0\"}, \"ticker\": {\"type\": \"DatetimeTicker\", \"id\": \"327f0eb9-3681-43a8-b127-2fca4070d5d4\"}, \"grid_line_alpha\": {\"value\": 0.3}}}, {\"type\": \"DaysTicker\", \"id\": \"6cdc5f9c-09d6-4242-8723-cdbe7f6b35fd\", \"attributes\": {\"days\": [1, 4, 7, 10, 13, 16, 19, 22, 25, 28]}}, {\"type\": \"DaysTicker\", \"id\": \"d897f651-cc0a-4878-92ec-24fadaf7806d\", \"attributes\": {\"days\": [1, 15]}}, {\"type\": \"AdaptiveTicker\", \"id\": \"bc9704a2-1b39-4676-ba0c-ddcf0eaee66f\", \"attributes\": {\"min_interval\": 3600000.0, \"num_minor_ticks\": 0, \"max_interval\": 43200000.0, \"base\": 24, \"mantissas\": [1, 2, 4, 6, 8, 12]}}, {\"type\": \"MonthsTicker\", \"id\": \"398789c4-6a64-4cd2-988b-3c485ab4b12b\", \"attributes\": {\"months\": [0, 2, 4, 6, 8, 10]}}, {\"type\": \"BasicTickFormatter\", \"id\": \"1bc7a3dc-4d75-4297-af1e-01d073a2eb43\", \"attributes\": {}}, {\"type\": \"ColumnDataSource\", \"id\": \"49a72d79-c641-474d-a905-73e3923a35a0\", \"attributes\": {\"column_names\": [\"x\", \"height\", \"y\"], \"callback\": null, \"data\": {\"x\": [1063756800000.0, 1063584000000.0, 1063152000000.0, 1063065600000.0, 1061942400000.0, 1061510400000.0, 1061424000000.0, 1060905600000.0, 1060819200000.0, 1060732800000.0, 1060300800000.0, 1060214400000.0, 1060041600000.0, 1059696000000.0, 1059609600000.0, 1059523200000.0, 1059436800000.0, 1059350400000.0, 1059004800000.0, 1058745600000.0, 1058486400000.0, 1058400000000.0, 1058313600000.0, 1058227200000.0, 1058140800000.0, 1057795200000.0, 1057708800000.0, 1057190400000.0, 1056931200000.0, 1056672000000.0, 1056499200000.0, 1056326400000.0, 1056067200000.0, 1055980800000.0], \"height\": [0.26000000000000156, 0.010000000000001563, 0.4800000000000004, 0.2799999999999976, 0.08999999999999986, 0.5600000000000023, 0.41000000000000014, 0.07000000000000028, 0.030000000000001137, 0.18999999999999773, 0.3000000000000007, 0.00999999999999801, 0.6499999999999986, 0.1599999999999966, 0.19000000000000128, 0.23000000000000043, 0.41000000000000014, 0.33000000000000185, 0.7800000000000011, 0.8300000000000018, 0.21999999999999886, 0.4499999999999993, 0.03999999999999915, 0.1999999999999993, 0.23000000000000043, 0.33999999999999986, 0.08999999999999986, 0.19000000000000128, 0.3000000000000007, 0.3200000000000003, 0.379999999999999, 0.35999999999999943, 0.010000000000001563, 0.019999999999999574], \"y\": [28.630000000000003, 28.365000000000002, 27.79, 28.509999999999998, 26.465000000000003, 26.5, 26.445, 25.575, 25.645, 25.695, 25.729999999999997, 25.715, 25.985, 26.25, 26.505000000000003, 26.345, 26.674999999999997, 26.775, 26.39, 26.455, 27.0, 26.915, 27.54, 27.369999999999997, 27.515, 27.08, 27.515, 26.595, 25.79, 25.79, 25.450000000000003, 25.96, 26.335, 26.08]}}}, {\"type\": \"Plot\", \"subtype\": \"Figure\", \"id\": \"93122f00-b578-4206-9cc8-299e6f4a481f\", \"attributes\": {\"tools\": [{\"type\": \"PanTool\", \"id\": \"fa02a73f-87ae-4785-b6ef-2e91c7fe1000\"}, {\"type\": \"BoxZoomTool\", \"id\": \"1206eaf1-5265-4154-aa3d-51eff47ed17c\"}, {\"type\": \"ResetTool\", \"id\": \"842c0504-642e-4c5b-9b73-d2bd5f107385\"}, {\"type\": \"PreviewSaveTool\", \"id\": \"d3c19b79-c673-4f7c-a378-3a69f7d437ee\"}], \"renderers\": [{\"type\": \"DatetimeAxis\", \"id\": \"b74a8d85-c318-4dee-ac3d-af84dbf63f65\"}, {\"type\": \"Grid\", \"id\": \"d2d40f11-7188-4604-8d73-d23b4707698e\"}, {\"type\": \"LinearAxis\", \"id\": \"40209b31-ddad-4feb-904b-368084d55a17\"}, {\"type\": \"Grid\", \"id\": \"0ed4e01b-fc72-4c55-9eb8-813a296ae6ca\"}, {\"type\": \"BoxAnnotation\", \"id\": \"3edd4cb3-fe5e-407a-a6b0-2c15365d00a0\"}, {\"type\": \"GlyphRenderer\", \"id\": \"ce5af60a-90a2-4d8c-81c4-582fb024d1d9\"}, {\"type\": \"GlyphRenderer\", \"id\": \"a9119566-3171-4371-891d-e04171f479ea\"}, {\"type\": \"GlyphRenderer\", \"id\": \"bc7fbe5c-9e01-4b7c-8c6d-81d69b82ae4d\"}], \"x_range\": {\"type\": \"DataRange1d\", \"id\": \"b409421a-58ff-4a69-937d-9928df3620c2\"}, \"tool_events\": {\"type\": \"ToolEvents\", \"id\": \"72e0d719-bda7-47e2-9e6e-d9a937b9a03a\"}, \"left\": [{\"type\": \"LinearAxis\", \"id\": \"40209b31-ddad-4feb-904b-368084d55a17\"}], \"y_range\": {\"type\": \"DataRange1d\", \"id\": \"dd4e1b0d-7717-4d5f-80b7-d2d19da8c4c4\"}, \"title\": \"MSFT Candlestick\", \"below\": [{\"type\": \"DatetimeAxis\", \"id\": \"b74a8d85-c318-4dee-ac3d-af84dbf63f65\"}], \"toolbar_location\": \"left\", \"plot_width\": 1000}}, {\"type\": \"GlyphRenderer\", \"id\": \"3a771132-f804-4e3e-8572-e0ee4503d930\", \"attributes\": {\"data_source\": {\"type\": \"ColumnDataSource\", \"id\": \"21d52c56-f86e-43d1-a8e6-36ee100a52f7\"}, \"hover_glyph\": null, \"nonselection_glyph\": {\"type\": \"Segment\", \"id\": \"7a3858bd-33f5-4980-993a-6b9f4dd2795e\"}, \"selection_glyph\": null, \"glyph\": {\"type\": \"Segment\", \"id\": \"541b1858-3006-42e1-82ce-78d2fe825b26\"}}}, {\"type\": \"AdaptiveTicker\", \"id\": \"1bce213f-5e40-4b01-8686-1d59b48f5855\", \"attributes\": {\"min_interval\": 3600000.0, \"num_minor_ticks\": 0, \"max_interval\": 43200000.0, \"base\": 24, \"mantissas\": [1, 2, 4, 6, 8, 12]}}, {\"type\": \"BoxAnnotation\", \"id\": \"20099790-fb61-4600-8fc8-89b4ddd6c79a\", \"attributes\": {\"plot\": null, \"level\": \"overlay\", \"left_units\": \"screen\", \"line_dash\": [4, 4], \"bottom_units\": \"screen\", \"fill_alpha\": {\"value\": 0.5}, \"line_width\": {\"value\": 2}, \"render_mode\": \"css\", \"right_units\": \"screen\", \"line_alpha\": {\"value\": 1.0}, \"top_units\": \"screen\", \"fill_color\": {\"value\": \"lightgrey\"}, \"line_color\": {\"value\": \"black\"}}}, {\"type\": \"ColumnDataSource\", \"id\": \"7fa49e26-7297-4fa7-a5d9-924709d4bc13\", \"attributes\": {\"column_names\": [\"close\", \"vol\", \"high\", \"low\", \"x\", \"height\", \"y\", \"x\", \"height\", \"y\"], \"callback\": null, \"data\": {\"x\": [1063756800000.0, 1063584000000.0, 1063152000000.0, 1063065600000.0, 1061942400000.0, 1061510400000.0, 1061424000000.0, 1060905600000.0, 1060819200000.0, 1060732800000.0, 1060300800000.0, 1060214400000.0, 1060041600000.0, 1059696000000.0, 1059609600000.0, 1059523200000.0, 1059436800000.0, 1059350400000.0, 1059004800000.0, 1058745600000.0, 1058486400000.0, 1058400000000.0, 1058313600000.0, 1058227200000.0, 1058140800000.0, 1057795200000.0, 1057708800000.0, 1057190400000.0, 1056931200000.0, 1056672000000.0, 1056499200000.0, 1056326400000.0, 1056067200000.0, 1055980800000.0], \"low\": [29.52, 28.42, 28.47, 28.32, 28.33, 27.45, 27.59, 27.48, 28.31, 28.34, 28.17, 27.99, 27.38, 26.47, 26.35, 26.24, 26.3, 25.96, 26.23, 26.21, 26.13, 26.0, 25.77, 25.46, 25.43, 25.52, 25.5, 25.45, 25.54, 25.5, 25.45, 25.43, 25.6, 25.75, 26.12, 26.31, 26.17, 26.24, 26.49, 26.07, 25.98, 26.14, 26.13, 26.0, 26.75, 26.54, 27.2, 27.1, 27.05, 26.89, 26.59, 27.25, 27.25, 26.95, 26.41, 26.45, 25.39, 25.5, 25.53, 25.21, 25.14, 25.52, 25.49, 26.01, 26.01], \"close\": [29.96, 29.5, 28.5, 28.9, 28.36, 28.34, 27.84, 27.55, 28.37, 28.84, 28.38, 28.43, 28.3, 27.26, 26.52, 26.51, 26.42, 26.57, 26.5, 26.22, 26.24, 26.45, 26.62, 25.7, 25.54, 25.63, 25.6, 25.73, 25.61, 25.58, 25.71, 25.65, 25.66, 26.18, 26.17, 26.41, 26.23, 26.47, 26.61, 26.89, 26.0, 26.45, 26.38, 26.04, 26.89, 26.69, 27.52, 27.27, 27.4, 27.31, 26.91, 27.47, 27.7, 27.42, 26.5, 26.88, 26.15, 25.64, 25.63, 25.75, 25.26, 25.7, 25.78, 26.33, 26.07], \"vol\": [92433800, 67268096, 47221600, 52060600, 41432300, 55777200, 37813300, 54763500, 44315200, 46105300, 64024500, 59840800, 109437800, 74168896, 34503000, 46211200, 30633900, 47546000, 36132900, 65846300, 63802700, 56739300, 72952896, 45817400, 27607900, 37338300, 39636900, 38208400, 36433900, 33241400, 44258500, 56294900, 58825800, 51825600, 42649700, 64504800, 41240300, 62391100, 52658300, 54173000, 53556600, 49828200, 51791000, 48480800, 63388400, 72805000, 49838900, 53567600, 60464400, 50377300, 55350800, 62300700, 61896800, 88960800, 39440900, 94069296, 60926000, 48073100, 76040304, 51758100, 60483500, 51820300, 52584500, 86048896, 63626900], \"height\": [0.26000000000000156, 0.010000000000001563, 0.4800000000000004, 0.2799999999999976, 0.08999999999999986, 0.5600000000000023, 0.41000000000000014, 0.07000000000000028, 0.030000000000001137, 0.18999999999999773, 0.3000000000000007, 0.00999999999999801, 0.6499999999999986, 0.1599999999999966, 0.19000000000000128, 0.23000000000000043, 0.41000000000000014, 0.33000000000000185, 0.7800000000000011, 0.8300000000000018, 0.21999999999999886, 0.4499999999999993, 0.03999999999999915, 0.1999999999999993, 0.23000000000000043, 0.33999999999999986, 0.08999999999999986, 0.19000000000000128, 0.3000000000000007, 0.3200000000000003, 0.379999999999999, 0.35999999999999943, 0.010000000000001563, 0.019999999999999574], \"high\": [29.97, 29.51, 28.95, 28.95, 28.61, 28.4, 28.11, 28.18, 28.71, 28.92, 28.75, 28.47, 28.4, 27.3, 26.55, 26.58, 26.58, 26.67, 26.54, 26.95, 26.73, 26.53, 26.65, 25.83, 25.66, 25.71, 25.89, 25.77, 25.99, 25.98, 25.81, 26.19, 26.54, 26.41, 26.51, 26.99, 26.57, 26.9, 27.0, 26.95, 26.92, 26.65, 26.56, 26.91, 27.23, 27.27, 27.62, 27.53, 27.81, 27.45, 27.42, 27.7, 27.8, 27.55, 26.95, 26.93, 26.2, 26.12, 26.34, 26.51, 25.99, 26.04, 26.24, 26.38, 26.39], \"y\": [28.630000000000003, 28.365000000000002, 27.79, 28.509999999999998, 26.465000000000003, 26.5, 26.445, 25.575, 25.645, 25.695, 25.729999999999997, 25.715, 25.985, 26.25, 26.505000000000003, 26.345, 26.674999999999997, 26.775, 26.39, 26.455, 27.0, 26.915, 27.54, 27.369999999999997, 27.515, 27.08, 27.515, 26.595, 25.79, 25.79, 25.450000000000003, 25.96, 26.335, 26.08]}}}, {\"type\": \"AdaptiveTicker\", \"id\": \"5d23171b-0a70-4d13-be9a-b70401f4d5bb\", \"attributes\": {\"min_interval\": 1000.0, \"num_minor_ticks\": 0, \"max_interval\": 1800000.0, \"base\": 60, \"mantissas\": [1, 2, 5, 10, 15, 20, 30]}}, {\"type\": \"ColumnDataSource\", \"id\": \"9c7f1368-a617-431f-9f64-52cc8c24e3c9\", \"attributes\": {\"column_names\": [\"x\", \"height\", \"y\"], \"callback\": null, \"data\": {\"x\": [1063756800000.0, 1063584000000.0, 1063152000000.0, 1063065600000.0, 1061942400000.0, 1061510400000.0, 1061424000000.0, 1060905600000.0, 1060819200000.0, 1060732800000.0, 1060300800000.0, 1060214400000.0, 1060041600000.0, 1059696000000.0, 1059609600000.0, 1059523200000.0, 1059436800000.0, 1059350400000.0, 1059004800000.0, 1058745600000.0, 1058486400000.0, 1058400000000.0, 1058313600000.0, 1058227200000.0, 1058140800000.0, 1057795200000.0, 1057708800000.0, 1057190400000.0, 1056931200000.0, 1056672000000.0, 1056499200000.0, 1056326400000.0, 1056067200000.0, 1055980800000.0], \"height\": [0.26000000000000156, 0.010000000000001563, 0.4800000000000004, 0.2799999999999976, 0.08999999999999986, 0.5600000000000023, 0.41000000000000014, 0.07000000000000028, 0.030000000000001137, 0.18999999999999773, 0.3000000000000007, 0.00999999999999801, 0.6499999999999986, 0.1599999999999966, 0.19000000000000128, 0.23000000000000043, 0.41000000000000014, 0.33000000000000185, 0.7800000000000011, 0.8300000000000018, 0.21999999999999886, 0.4499999999999993, 0.03999999999999915, 0.1999999999999993, 0.23000000000000043, 0.33999999999999986, 0.08999999999999986, 0.19000000000000128, 0.3000000000000007, 0.3200000000000003, 0.379999999999999, 0.35999999999999943, 0.010000000000001563, 0.019999999999999574], \"y\": [28.630000000000003, 28.365000000000002, 27.79, 28.509999999999998, 26.465000000000003, 26.5, 26.445, 25.575, 25.645, 25.695, 25.729999999999997, 25.715, 25.985, 26.25, 26.505000000000003, 26.345, 26.674999999999997, 26.775, 26.39, 26.455, 27.0, 26.915, 27.54, 27.369999999999997, 27.515, 27.08, 27.515, 26.595, 25.79, 25.79, 25.450000000000003, 25.96, 26.335, 26.08]}}}, {\"type\": \"Segment\", \"id\": \"56679dd2-ae0e-4f65-b9ff-f3b11a0bdf29\", \"attributes\": {\"y0\": {\"field\": \"y0\"}, \"y1\": {\"field\": \"y1\"}, \"x1\": {\"field\": \"x1\"}, \"x0\": {\"field\": \"x0\"}}}, {\"type\": \"PreviewSaveTool\", \"id\": \"d3c19b79-c673-4f7c-a378-3a69f7d437ee\", \"attributes\": {\"plot\": {\"type\": \"Plot\", \"subtype\": \"Figure\", \"id\": \"93122f00-b578-4206-9cc8-299e6f4a481f\"}}}, {\"type\": \"DaysTicker\", \"id\": \"26483858-1fca-4a67-bf80-220e7d3d1999\", \"attributes\": {\"days\": [1, 4, 7, 10, 13, 16, 19, 22, 25, 28]}}, {\"type\": \"ResetTool\", \"id\": \"f1e40a49-a1e3-4bb7-9065-2c41573f6214\", \"attributes\": {\"plot\": {\"type\": \"Plot\", \"subtype\": \"Figure\", \"id\": \"d19c44ac-b43d-43e9-9e09-0dc58bed79a6\"}}}, {\"type\": \"Segment\", \"id\": \"05f7f6ad-aac7-442f-8cc5-14aebe76b4ce\", \"attributes\": {\"y0\": {\"field\": \"y0\"}, \"y1\": {\"field\": \"y1\"}, \"x1\": {\"field\": \"x1\"}, \"x0\": {\"field\": \"x0\"}}}, {\"type\": \"DaysTicker\", \"id\": \"d988301e-0d5a-41be-a3ed-b7232e6e3c93\", \"attributes\": {\"days\": [1, 2, 3, 4, 5, 6, 7, 8, 9, 10, 11, 12, 13, 14, 15, 16, 17, 18, 19, 20, 21, 22, 23, 24, 25, 26, 27, 28, 29, 30, 31]}}, {\"type\": \"GlyphRenderer\", \"id\": \"5adc11f8-8bbd-4293-860c-95953675213a\", \"attributes\": {\"data_source\": {\"type\": \"ColumnDataSource\", \"id\": \"7fa49e26-7297-4fa7-a5d9-924709d4bc13\"}, \"hover_glyph\": null, \"nonselection_glyph\": {\"type\": \"Rect\", \"id\": \"7d3b4f44-b51e-4a11-87ae-1b9e8a5bd34f\"}, \"selection_glyph\": null, \"glyph\": {\"type\": \"Rect\", \"id\": \"afbcaa5f-ce3b-413b-a84f-f287bae831af\"}}}, {\"type\": \"AdaptiveTicker\", \"id\": \"4a6c2e63-c376-448c-ac88-2c271bde78cc\", \"attributes\": {\"max_interval\": 500.0, \"num_minor_ticks\": 0}}, {\"type\": \"BasicTicker\", \"id\": \"cc0cadc2-1437-4661-9ab0-f642fa1e2e50\", \"attributes\": {}}, {\"type\": \"AdaptiveTicker\", \"id\": \"f854842c-f018-4600-9683-b95df7788440\", \"attributes\": {\"min_interval\": 1000.0, \"num_minor_ticks\": 0, \"max_interval\": 1800000.0, \"base\": 60, \"mantissas\": [1, 2, 5, 10, 15, 20, 30]}}, {\"type\": \"BasicTicker\", \"id\": \"7559f4ba-9a0b-423e-8927-3700887554f9\", \"attributes\": {}}, {\"type\": \"Rect\", \"id\": \"11a2f3a2-ca57-42ae-a8dd-fa4d3d60a60a\", \"attributes\": {\"y\": {\"field\": \"y\"}, \"line_color\": {\"value\": \"#1f77b4\"}, \"line_alpha\": {\"value\": 0.1}, \"x\": {\"field\": \"x\"}, \"height\": {\"field\": \"height\", \"units\": \"data\"}, \"fill_alpha\": {\"value\": 0.1}, \"fill_color\": {\"value\": \"#1f77b4\"}, \"width\": {\"value\": 43200000, \"units\": \"data\"}}}, {\"type\": \"ToolEvents\", \"id\": \"825a8667-e044-486e-99e4-79658c169e1b\", \"attributes\": {}}, {\"type\": \"DataRange1d\", \"id\": \"60607bcf-024a-44dc-9683-fb11c828007f\", \"attributes\": {\"callback\": null}}, {\"type\": \"MonthsTicker\", \"id\": \"32d9e1d6-e847-4b62-9a3d-f7decbf1ff62\", \"attributes\": {\"months\": [0, 2, 4, 6, 8, 10]}}, {\"type\": \"PreviewSaveTool\", \"id\": \"90069c12-cc84-413c-94b5-279a610b4523\", \"attributes\": {\"plot\": {\"type\": \"Plot\", \"subtype\": \"Figure\", \"id\": \"f399d7ee-8671-49d9-b780-b9d1542a6df5\"}}}, {\"type\": \"GlyphRenderer\", \"id\": \"d0405060-cbdf-4393-acfa-5c833de4ce06\", \"attributes\": {\"data_source\": {\"type\": \"ColumnDataSource\", \"id\": \"187cf5f4-2f95-4d0d-bf44-7a215721e3f8\"}, \"hover_glyph\": null, \"nonselection_glyph\": {\"type\": \"Rect\", \"id\": \"a11e6b6d-b324-47ea-91f8-a93664f273aa\"}, \"selection_glyph\": null, \"glyph\": {\"type\": \"Rect\", \"id\": \"64f3a11e-8e9f-4058-8c3f-2d173f989d37\"}}}, {\"type\": \"DaysTicker\", \"id\": \"2f54bd9c-d210-4579-aef0-90ca4d9dd1aa\", \"attributes\": {\"days\": [1, 8, 15, 22]}}, {\"type\": \"PanTool\", \"id\": \"5054f554-d530-4723-ae1c-8b5a0496fad9\", \"attributes\": {\"plot\": {\"type\": \"Plot\", \"subtype\": \"Figure\", \"id\": \"22026226-acfd-41b1-9d0f-3ae52b707c1d\"}}}, {\"type\": \"DaysTicker\", \"id\": \"116dd1a6-b6d6-4a9a-b3de-893196fcb4a0\", \"attributes\": {\"days\": [1, 2, 3, 4, 5, 6, 7, 8, 9, 10, 11, 12, 13, 14, 15, 16, 17, 18, 19, 20, 21, 22, 23, 24, 25, 26, 27, 28, 29, 30, 31]}}, {\"type\": \"ColumnDataSource\", \"id\": \"5835b32e-b38b-44ef-9335-c7381cfd3b43\", \"attributes\": {\"column_names\": [\"x\", \"height\", \"y\"], \"callback\": null, \"data\": {\"x\": [1063929600000.0, 1063843200000.0, 1063670400000.0, 1063324800000.0, 1063238400000.0, 1062979200000.0, 1062720000000.0, 1062633600000.0, 1062547200000.0, 1062460800000.0, 1062115200000.0, 1062028800000.0, 1061856000000.0, 1061769600000.0, 1061337600000.0, 1061251200000.0, 1061164800000.0, 1060646400000.0, 1060128000000.0, 1059955200000.0, 1059091200000.0, 1058918400000.0, 1058832000000.0, 1057881600000.0, 1057622400000.0, 1057536000000.0, 1057104000000.0, 1057017600000.0, 1056585600000.0, 1056412800000.0], \"height\": [0.1999999999999993, 1.0100000000000016, 0.48999999999999844, 0.8599999999999994, 0.17999999999999972, 0.4499999999999993, 0.14999999999999858, 0.3299999999999983, 0.879999999999999, 0.5600000000000023, 0.05999999999999872, 0.010000000000001563, 0.26000000000000156, 0.19000000000000128, 0.14999999999999858, 0.7699999999999996, 0.14000000000000057, 0.019999999999999574, 0.10999999999999943, 0.030000000000001137, 0.6099999999999994, 0.029999999999997584, 0.09999999999999787, 0.35999999999999943, 0.4399999999999977, 0.40000000000000213, 0.379999999999999, 0.5599999999999987, 0.35999999999999943, 0.05000000000000071], \"y\": [29.86, 28.994999999999997, 28.655, 27.91, 27.75, 28.615000000000002, 28.305, 28.265, 27.86, 26.98, 26.490000000000002, 26.505000000000003, 26.439999999999998, 26.405, 26.375, 26.235, 25.63, 25.72, 25.595, 26.165, 26.585, 26.435000000000002, 26.33, 27.13, 27.48, 27.22, 26.689999999999998, 25.869999999999997, 25.57, 25.674999999999997]}}}, {\"type\": \"BoxAnnotation\", \"id\": \"9b5764cc-d7d1-4437-80af-64247a07f923\", \"attributes\": {\"plot\": null, \"level\": \"overlay\", \"left_units\": \"screen\", \"line_dash\": [4, 4], \"bottom_units\": \"screen\", \"fill_alpha\": {\"value\": 0.5}, \"line_width\": {\"value\": 2}, \"render_mode\": \"css\", \"right_units\": \"screen\", \"line_alpha\": {\"value\": 1.0}, \"top_units\": \"screen\", \"fill_color\": {\"value\": \"lightgrey\"}, \"line_color\": {\"value\": \"black\"}}}, {\"type\": \"MonthsTicker\", \"id\": \"f32aa83a-24fd-4739-b8a2-7f23916179b5\", \"attributes\": {\"months\": [0, 4, 8]}}, {\"type\": \"DataRange1d\", \"id\": \"427db3d3-068a-471c-bdb7-8cc029f4a914\", \"attributes\": {\"callback\": null}}, {\"type\": \"DaysTicker\", \"id\": \"48a012fe-8d22-4bf5-945a-cefb25379529\", \"attributes\": {\"days\": [1, 8, 15, 22]}}, {\"type\": \"AdaptiveTicker\", \"id\": \"1564c95b-081d-4cf3-9e35-7ad2bba8abd7\", \"attributes\": {\"min_interval\": 1000.0, \"num_minor_ticks\": 0, \"max_interval\": 1800000.0, \"base\": 60, \"mantissas\": [1, 2, 5, 10, 15, 20, 30]}}, {\"type\": \"Grid\", \"id\": \"d2d40f11-7188-4604-8d73-d23b4707698e\", \"attributes\": {\"plot\": {\"type\": \"Plot\", \"subtype\": \"Figure\", \"id\": \"93122f00-b578-4206-9cc8-299e6f4a481f\"}, \"ticker\": {\"type\": \"DatetimeTicker\", \"id\": \"c9d623ea-48d5-4c55-9c63-8a28af47f0a5\"}}}, {\"type\": \"DaysTicker\", \"id\": \"85398b8b-a8e6-4e71-8d6a-8b621c69e4d8\", \"attributes\": {\"days\": [1, 15]}}, {\"type\": \"DataRange1d\", \"id\": \"e9ffcf52-c9b7-4ba8-abd5-463f3a5a63e2\", \"attributes\": {\"callback\": null}}, {\"type\": \"Rect\", \"id\": \"f2c49a63-327e-448b-96de-24b578c78269\", \"attributes\": {\"x\": {\"field\": \"x\"}, \"height\": {\"field\": \"height\", \"units\": \"data\"}, \"y\": {\"field\": \"y\"}, \"width\": {\"value\": 43200000, \"units\": \"data\"}, \"fill_color\": {\"value\": \"#D5E1DD\"}}}, {\"type\": \"Grid\", \"id\": \"765f52dd-7e8a-44e6-816a-7fb67efc49d2\", \"attributes\": {\"plot\": {\"type\": \"Plot\", \"subtype\": \"Figure\", \"id\": \"97b67995-4f24-42d8-af08-e1e7be0adba0\"}, \"dimension\": 1, \"ticker\": {\"type\": \"BasicTicker\", \"id\": \"7ccc4d70-3107-47c5-938a-10f73eefa2a8\"}, \"grid_line_alpha\": {\"value\": 0.3}}}, {\"type\": \"AdaptiveTicker\", \"id\": \"42b32c00-308c-4341-bfdf-9ad1b3f0cb4f\", \"attributes\": {\"min_interval\": 1000.0, \"num_minor_ticks\": 0, \"max_interval\": 1800000.0, \"base\": 60, \"mantissas\": [1, 2, 5, 10, 15, 20, 30]}}, {\"type\": \"Plot\", \"subtype\": \"Figure\", \"id\": \"22026226-acfd-41b1-9d0f-3ae52b707c1d\", \"attributes\": {\"tools\": [{\"type\": \"PanTool\", \"id\": \"5054f554-d530-4723-ae1c-8b5a0496fad9\"}, {\"type\": \"BoxZoomTool\", \"id\": \"99262a57-49ae-4fc4-ad6e-4e5552203fcb\"}, {\"type\": \"ResetTool\", \"id\": \"003516a9-5f6c-4faa-b7a0-234e608815c5\"}, {\"type\": \"PreviewSaveTool\", \"id\": \"928df40a-b4d5-4347-baab-d516c13389ca\"}], \"renderers\": [{\"type\": \"DatetimeAxis\", \"id\": \"e488fad4-d442-450e-b1b4-1275da75496d\"}, {\"type\": \"Grid\", \"id\": \"b535ba6d-e8d7-4c96-aa4e-2ba4a2fe0131\"}, {\"type\": \"LinearAxis\", \"id\": \"9eb25746-1461-48ae-b0c9-b07efc9d9bc7\"}, {\"type\": \"Grid\", \"id\": \"4c62d28b-0de8-4868-92f4-cea4fbba53d6\"}, {\"type\": \"BoxAnnotation\", \"id\": \"9b5764cc-d7d1-4437-80af-64247a07f923\"}], \"x_range\": {\"type\": \"DataRange1d\", \"id\": \"61cfa640-4e48-4dfe-8f93-7da23277ae60\"}, \"tool_events\": {\"type\": \"ToolEvents\", \"id\": \"1ec562d1-fd31-4a15-90a7-de3a48ae9dc5\"}, \"left\": [{\"type\": \"LinearAxis\", \"id\": \"9eb25746-1461-48ae-b0c9-b07efc9d9bc7\"}], \"y_range\": {\"type\": \"DataRange1d\", \"id\": \"a400c6a8-1904-4ece-86e8-6d21b750cfaa\"}, \"below\": [{\"type\": \"DatetimeAxis\", \"id\": \"e488fad4-d442-450e-b1b4-1275da75496d\"}], \"toolbar_location\": \"left\", \"plot_width\": 1000}}, {\"type\": \"BoxZoomTool\", \"id\": \"aab8af7e-bbf2-4940-8c5f-9afc192bdacb\", \"attributes\": {\"plot\": {\"type\": \"Plot\", \"subtype\": \"Figure\", \"id\": \"97b67995-4f24-42d8-af08-e1e7be0adba0\"}, \"overlay\": {\"type\": \"BoxAnnotation\", \"id\": \"bfc797e3-3f49-43e3-96c2-ed8834ce99eb\"}}}, {\"type\": \"BoxZoomTool\", \"id\": \"99262a57-49ae-4fc4-ad6e-4e5552203fcb\", \"attributes\": {\"plot\": {\"type\": \"Plot\", \"subtype\": \"Figure\", \"id\": \"22026226-acfd-41b1-9d0f-3ae52b707c1d\"}, \"overlay\": {\"type\": \"BoxAnnotation\", \"id\": \"9b5764cc-d7d1-4437-80af-64247a07f923\"}}}, {\"type\": \"BoxAnnotation\", \"id\": \"e7180a45-535e-4679-bebc-f20e0778bd0f\", \"attributes\": {\"plot\": null, \"level\": \"overlay\", \"left_units\": \"screen\", \"line_dash\": [4, 4], \"bottom_units\": \"screen\", \"fill_alpha\": {\"value\": 0.5}, \"line_width\": {\"value\": 2}, \"render_mode\": \"css\", \"right_units\": \"screen\", \"line_alpha\": {\"value\": 1.0}, \"top_units\": \"screen\", \"fill_color\": {\"value\": \"lightgrey\"}, \"line_color\": {\"value\": \"black\"}}}, {\"type\": \"PanTool\", \"id\": \"031bae7e-54ea-4067-abcb-b4fdf048e4ec\", \"attributes\": {\"plot\": {\"type\": \"Plot\", \"subtype\": \"Figure\", \"id\": \"ed71a381-b8b7-45bf-8867-49ae283c013b\"}}}, {\"type\": \"YearsTicker\", \"id\": \"f4c790fd-4abb-466b-bc8d-9b6604af94e6\", \"attributes\": {}}, {\"type\": \"BasicTickFormatter\", \"id\": \"74f4a68f-499a-4883-a9b2-89c66ab09ba0\", \"attributes\": {}}, {\"type\": \"BasicTickFormatter\", \"id\": \"04823426-aa98-47df-b48a-2d16fb1e521c\", \"attributes\": {}}, {\"type\": \"MonthsTicker\", \"id\": \"33cd5725-6dca-400a-b7fb-4d7e38f451ea\", \"attributes\": {\"months\": [0, 2, 4, 6, 8, 10]}}, {\"type\": \"ColumnDataSource\", \"id\": \"dd14e1bc-0e7f-4c1e-9f5f-3f2017d623e3\", \"attributes\": {\"column_names\": [\"y0\", \"x1\", \"y1\", \"x0\"], \"callback\": null, \"data\": {\"y0\": [29.97, 29.51, 28.95, 28.95, 28.61, 28.4, 28.11, 28.18, 28.71, 28.92, 28.75, 28.47, 28.4, 27.3, 26.55, 26.58, 26.58, 26.67, 26.54, 26.95, 26.73, 26.53, 26.65, 25.83, 25.66, 25.71, 25.89, 25.77, 25.99, 25.98, 25.81, 26.19, 26.54, 26.41, 26.51, 26.99, 26.57, 26.9, 27.0, 26.95, 26.92, 26.65, 26.56, 26.91, 27.23, 27.27, 27.62, 27.53, 27.81, 27.45, 27.42, 27.7, 27.8, 27.55, 26.95, 26.93, 26.2, 26.12, 26.34, 26.51, 25.99, 26.04, 26.24, 26.38, 26.39], \"y1\": [29.52, 28.42, 28.47, 28.32, 28.33, 27.45, 27.59, 27.48, 28.31, 28.34, 28.17, 27.99, 27.38, 26.47, 26.35, 26.24, 26.3, 25.96, 26.23, 26.21, 26.13, 26.0, 25.77, 25.46, 25.43, 25.52, 25.5, 25.45, 25.54, 25.5, 25.45, 25.43, 25.6, 25.75, 26.12, 26.31, 26.17, 26.24, 26.49, 26.07, 25.98, 26.14, 26.13, 26.0, 26.75, 26.54, 27.2, 27.1, 27.05, 26.89, 26.59, 27.25, 27.25, 26.95, 26.41, 26.45, 25.39, 25.5, 25.53, 25.21, 25.14, 25.52, 25.49, 26.01, 26.01], \"x1\": [1063929600000.0, 1063843200000.0, 1063756800000.0, 1063670400000.0, 1063584000000.0, 1063324800000.0, 1063238400000.0, 1063152000000.0, 1063065600000.0, 1062979200000.0, 1062720000000.0, 1062633600000.0, 1062547200000.0, 1062460800000.0, 1062115200000.0, 1062028800000.0, 1061942400000.0, 1061856000000.0, 1061769600000.0, 1061510400000.0, 1061424000000.0, 1061337600000.0, 1061251200000.0, 1061164800000.0, 1060905600000.0, 1060819200000.0, 1060732800000.0, 1060646400000.0, 1060560000000.0, 1060300800000.0, 1060214400000.0, 1060128000000.0, 1060041600000.0, 1059955200000.0, 1059696000000.0, 1059609600000.0, 1059523200000.0, 1059436800000.0, 1059350400000.0, 1059091200000.0, 1059004800000.0, 1058918400000.0, 1058832000000.0, 1058745600000.0, 1058486400000.0, 1058400000000.0, 1058313600000.0, 1058227200000.0, 1058140800000.0, 1057881600000.0, 1057795200000.0, 1057708800000.0, 1057622400000.0, 1057536000000.0, 1057190400000.0, 1057104000000.0, 1057017600000.0, 1056931200000.0, 1056672000000.0, 1056585600000.0, 1056499200000.0, 1056412800000.0, 1056326400000.0, 1056067200000.0, 1055980800000.0], \"x0\": [1063929600000.0, 1063843200000.0, 1063756800000.0, 1063670400000.0, 1063584000000.0, 1063324800000.0, 1063238400000.0, 1063152000000.0, 1063065600000.0, 1062979200000.0, 1062720000000.0, 1062633600000.0, 1062547200000.0, 1062460800000.0, 1062115200000.0, 1062028800000.0, 1061942400000.0, 1061856000000.0, 1061769600000.0, 1061510400000.0, 1061424000000.0, 1061337600000.0, 1061251200000.0, 1061164800000.0, 1060905600000.0, 1060819200000.0, 1060732800000.0, 1060646400000.0, 1060560000000.0, 1060300800000.0, 1060214400000.0, 1060128000000.0, 1060041600000.0, 1059955200000.0, 1059696000000.0, 1059609600000.0, 1059523200000.0, 1059436800000.0, 1059350400000.0, 1059091200000.0, 1059004800000.0, 1058918400000.0, 1058832000000.0, 1058745600000.0, 1058486400000.0, 1058400000000.0, 1058313600000.0, 1058227200000.0, 1058140800000.0, 1057881600000.0, 1057795200000.0, 1057708800000.0, 1057622400000.0, 1057536000000.0, 1057190400000.0, 1057104000000.0, 1057017600000.0, 1056931200000.0, 1056672000000.0, 1056585600000.0, 1056499200000.0, 1056412800000.0, 1056326400000.0, 1056067200000.0, 1055980800000.0]}}}, {\"type\": \"Rect\", \"id\": \"f5298fb2-31cf-4faa-9e88-8700ee9a694f\", \"attributes\": {\"x\": {\"field\": \"x\"}, \"height\": {\"field\": \"height\", \"units\": \"data\"}, \"y\": {\"field\": \"y\"}, \"width\": {\"value\": 43200000, \"units\": \"data\"}, \"fill_color\": {\"value\": \"#F2583E\"}}}, {\"type\": \"DataRange1d\", \"id\": \"81abb8b8-3972-4aa9-8686-7553106d67b3\", \"attributes\": {\"callback\": null}}, {\"type\": \"Grid\", \"id\": \"4c62d28b-0de8-4868-92f4-cea4fbba53d6\", \"attributes\": {\"plot\": {\"type\": \"Plot\", \"subtype\": \"Figure\", \"id\": \"22026226-acfd-41b1-9d0f-3ae52b707c1d\"}, \"dimension\": 1, \"ticker\": {\"type\": \"BasicTicker\", \"id\": \"10de7814-17ec-4352-9308-bfa62ada8776\"}}}, {\"type\": \"MonthsTicker\", \"id\": \"de72d6c4-74d9-457b-a414-9671109733dc\", \"attributes\": {\"months\": [0, 2, 4, 6, 8, 10]}}, {\"type\": \"Plot\", \"subtype\": \"Figure\", \"id\": \"ed71a381-b8b7-45bf-8867-49ae283c013b\", \"attributes\": {\"tools\": [{\"type\": \"PanTool\", \"id\": \"031bae7e-54ea-4067-abcb-b4fdf048e4ec\"}, {\"type\": \"BoxZoomTool\", \"id\": \"a8bb8378-de83-4b95-8270-3f03355de0fd\"}, {\"type\": \"ResetTool\", \"id\": \"36180e15-79e8-4c31-8d94-29d354224058\"}, {\"type\": \"PreviewSaveTool\", \"id\": \"7f3829dc-cb6f-4528-913c-b2199699796b\"}], \"renderers\": [{\"type\": \"DatetimeAxis\", \"id\": \"6246c2fe-e821-46c3-a984-a77785b0428f\"}, {\"type\": \"Grid\", \"id\": \"ec854371-8c48-4d10-bd7c-fd4b946f7eeb\"}, {\"type\": \"LinearAxis\", \"id\": \"0068f62b-4648-4384-a880-d9890e9d4b18\"}, {\"type\": \"Grid\", \"id\": \"67380823-c0d0-4786-9d8d-5061809f432a\"}, {\"type\": \"BoxAnnotation\", \"id\": \"e7180a45-535e-4679-bebc-f20e0778bd0f\"}, {\"type\": \"GlyphRenderer\", \"id\": \"f186bdb3-320f-4b80-bb53-21175ff0fc2f\"}, {\"type\": \"GlyphRenderer\", \"id\": \"907c2e71-4eaf-4f57-b40b-5207ab869924\"}, {\"type\": \"GlyphRenderer\", \"id\": \"d0405060-cbdf-4393-acfa-5c833de4ce06\"}], \"x_range\": {\"type\": \"DataRange1d\", \"id\": \"d641be2a-f624-4eb0-8af8-bad02ac5caba\"}, \"tool_events\": {\"type\": \"ToolEvents\", \"id\": \"825a8667-e044-486e-99e4-79658c169e1b\"}, \"left\": [{\"type\": \"LinearAxis\", \"id\": \"0068f62b-4648-4384-a880-d9890e9d4b18\"}], \"y_range\": {\"type\": \"DataRange1d\", \"id\": \"55622f92-a35a-4b09-947b-124085fed0e6\"}, \"title\": \"MSFT Candlestick\", \"below\": [{\"type\": \"DatetimeAxis\", \"id\": \"6246c2fe-e821-46c3-a984-a77785b0428f\"}], \"toolbar_location\": \"left\", \"plot_width\": 1000}}, {\"type\": \"ResetTool\", \"id\": \"36180e15-79e8-4c31-8d94-29d354224058\", \"attributes\": {\"plot\": {\"type\": \"Plot\", \"subtype\": \"Figure\", \"id\": \"ed71a381-b8b7-45bf-8867-49ae283c013b\"}}}, {\"type\": \"ResetTool\", \"id\": \"135d0c3b-a926-423a-ac02-fa98cf6d90a7\", \"attributes\": {\"plot\": {\"type\": \"Plot\", \"subtype\": \"Figure\", \"id\": \"f399d7ee-8671-49d9-b780-b9d1542a6df5\"}}}, {\"type\": \"YearsTicker\", \"id\": \"9d8da104-8a19-4e1e-a652-704ad1e3fe81\", \"attributes\": {}}, {\"type\": \"DaysTicker\", \"id\": \"9bb9ab90-1ab2-48d2-92d3-e237e30226c7\", \"attributes\": {\"days\": [1, 15]}}, {\"type\": \"DaysTicker\", \"id\": \"73559a55-fd79-44df-a568-ba0dcff5a379\", \"attributes\": {\"days\": [1, 2, 3, 4, 5, 6, 7, 8, 9, 10, 11, 12, 13, 14, 15, 16, 17, 18, 19, 20, 21, 22, 23, 24, 25, 26, 27, 28, 29, 30, 31]}}, {\"type\": \"DaysTicker\", \"id\": \"3be84d82-3c5f-43bf-8d2a-559fc371e314\", \"attributes\": {\"days\": [1, 4, 7, 10, 13, 16, 19, 22, 25, 28]}}, {\"type\": \"DaysTicker\", \"id\": \"dd06569a-b2e0-4bbd-a4e3-e36ff815cc70\", \"attributes\": {\"days\": [1, 8, 15, 22]}}, {\"type\": \"GlyphRenderer\", \"id\": \"4e15d161-a51b-4c4f-b35b-7e7b23d02061\", \"attributes\": {\"data_source\": {\"type\": \"ColumnDataSource\", \"id\": \"530c8ca3-9455-4c91-8002-eec5e02f2be6\"}, \"hover_glyph\": null, \"nonselection_glyph\": {\"type\": \"Rect\", \"id\": \"76fa9a65-bad0-4762-ab02-ad22fbd3de92\"}, \"selection_glyph\": null, \"glyph\": {\"type\": \"Rect\", \"id\": \"f5298fb2-31cf-4faa-9e88-8700ee9a694f\"}}}, {\"type\": \"DataRange1d\", \"id\": \"1eae8f2d-2667-4aee-b874-9030c50c2207\", \"attributes\": {\"callback\": null}}, {\"type\": \"LinearAxis\", \"id\": \"3a01064a-08b0-44f7-b590-efeacdd4601c\", \"attributes\": {\"plot\": {\"type\": \"Plot\", \"subtype\": \"Figure\", \"id\": \"f399d7ee-8671-49d9-b780-b9d1542a6df5\"}, \"formatter\": {\"type\": \"BasicTickFormatter\", \"id\": \"74f4a68f-499a-4883-a9b2-89c66ab09ba0\"}, \"ticker\": {\"type\": \"BasicTicker\", \"id\": \"86774ea0-4d73-4e12-9578-c41d5698f32a\"}}}, {\"type\": \"AdaptiveTicker\", \"id\": \"723cb72c-a615-4f02-9162-e95d66ca5cbc\", \"attributes\": {\"max_interval\": 500.0, \"num_minor_ticks\": 0}}, {\"type\": \"PreviewSaveTool\", \"id\": \"7f3829dc-cb6f-4528-913c-b2199699796b\", \"attributes\": {\"plot\": {\"type\": \"Plot\", \"subtype\": \"Figure\", \"id\": \"ed71a381-b8b7-45bf-8867-49ae283c013b\"}}}, {\"type\": \"DaysTicker\", \"id\": \"ddd22452-ab42-459a-aa80-21972dd9996c\", \"attributes\": {\"days\": [1, 4, 7, 10, 13, 16, 19, 22, 25, 28]}}, {\"type\": \"PreviewSaveTool\", \"id\": \"e8f4f1fd-8c31-48b7-8c81-d8cb24e1319d\", \"attributes\": {\"plot\": {\"type\": \"Plot\", \"subtype\": \"Figure\", \"id\": \"97b67995-4f24-42d8-af08-e1e7be0adba0\"}}}, {\"type\": \"LinearAxis\", \"id\": \"80114f52-c78d-4942-b5a6-21f0abacc36e\", \"attributes\": {\"plot\": {\"type\": \"Plot\", \"subtype\": \"Figure\", \"id\": \"97b67995-4f24-42d8-af08-e1e7be0adba0\"}, \"formatter\": {\"type\": \"BasicTickFormatter\", \"id\": \"04823426-aa98-47df-b48a-2d16fb1e521c\"}, \"ticker\": {\"type\": \"BasicTicker\", \"id\": \"7ccc4d70-3107-47c5-938a-10f73eefa2a8\"}}}, {\"type\": \"Rect\", \"id\": \"b12f12bc-23c9-4773-bfb8-b14962cdf834\", \"attributes\": {\"x\": {\"field\": \"x\"}, \"height\": {\"field\": \"height\", \"units\": \"data\"}, \"y\": {\"field\": \"y\"}, \"width\": {\"value\": 43200000, \"units\": \"data\"}, \"fill_color\": {\"value\": \"#D5E1DD\"}}}, {\"type\": \"ColumnDataSource\", \"id\": \"1d0dac97-de18-489a-a291-c39dff9ea830\", \"attributes\": {\"column_names\": [\"y0\", \"x1\", \"y1\", \"x0\"], \"callback\": null, \"data\": {\"y0\": [29.97, 29.51, 28.95, 28.95, 28.61, 28.4, 28.11, 28.18, 28.71, 28.92, 28.75, 28.47, 28.4, 27.3, 26.55, 26.58, 26.58, 26.67, 26.54, 26.95, 26.73, 26.53, 26.65, 25.83, 25.66, 25.71, 25.89, 25.77, 25.99, 25.98, 25.81, 26.19, 26.54, 26.41, 26.51, 26.99, 26.57, 26.9, 27.0, 26.95, 26.92, 26.65, 26.56, 26.91, 27.23, 27.27, 27.62, 27.53, 27.81, 27.45, 27.42, 27.7, 27.8, 27.55, 26.95, 26.93, 26.2, 26.12, 26.34, 26.51, 25.99, 26.04, 26.24, 26.38, 26.39], \"y1\": [29.52, 28.42, 28.47, 28.32, 28.33, 27.45, 27.59, 27.48, 28.31, 28.34, 28.17, 27.99, 27.38, 26.47, 26.35, 26.24, 26.3, 25.96, 26.23, 26.21, 26.13, 26.0, 25.77, 25.46, 25.43, 25.52, 25.5, 25.45, 25.54, 25.5, 25.45, 25.43, 25.6, 25.75, 26.12, 26.31, 26.17, 26.24, 26.49, 26.07, 25.98, 26.14, 26.13, 26.0, 26.75, 26.54, 27.2, 27.1, 27.05, 26.89, 26.59, 27.25, 27.25, 26.95, 26.41, 26.45, 25.39, 25.5, 25.53, 25.21, 25.14, 25.52, 25.49, 26.01, 26.01], \"x1\": [1063929600000.0, 1063843200000.0, 1063756800000.0, 1063670400000.0, 1063584000000.0, 1063324800000.0, 1063238400000.0, 1063152000000.0, 1063065600000.0, 1062979200000.0, 1062720000000.0, 1062633600000.0, 1062547200000.0, 1062460800000.0, 1062115200000.0, 1062028800000.0, 1061942400000.0, 1061856000000.0, 1061769600000.0, 1061510400000.0, 1061424000000.0, 1061337600000.0, 1061251200000.0, 1061164800000.0, 1060905600000.0, 1060819200000.0, 1060732800000.0, 1060646400000.0, 1060560000000.0, 1060300800000.0, 1060214400000.0, 1060128000000.0, 1060041600000.0, 1059955200000.0, 1059696000000.0, 1059609600000.0, 1059523200000.0, 1059436800000.0, 1059350400000.0, 1059091200000.0, 1059004800000.0, 1058918400000.0, 1058832000000.0, 1058745600000.0, 1058486400000.0, 1058400000000.0, 1058313600000.0, 1058227200000.0, 1058140800000.0, 1057881600000.0, 1057795200000.0, 1057708800000.0, 1057622400000.0, 1057536000000.0, 1057190400000.0, 1057104000000.0, 1057017600000.0, 1056931200000.0, 1056672000000.0, 1056585600000.0, 1056499200000.0, 1056412800000.0, 1056326400000.0, 1056067200000.0, 1055980800000.0], \"x0\": [1063929600000.0, 1063843200000.0, 1063756800000.0, 1063670400000.0, 1063584000000.0, 1063324800000.0, 1063238400000.0, 1063152000000.0, 1063065600000.0, 1062979200000.0, 1062720000000.0, 1062633600000.0, 1062547200000.0, 1062460800000.0, 1062115200000.0, 1062028800000.0, 1061942400000.0, 1061856000000.0, 1061769600000.0, 1061510400000.0, 1061424000000.0, 1061337600000.0, 1061251200000.0, 1061164800000.0, 1060905600000.0, 1060819200000.0, 1060732800000.0, 1060646400000.0, 1060560000000.0, 1060300800000.0, 1060214400000.0, 1060128000000.0, 1060041600000.0, 1059955200000.0, 1059696000000.0, 1059609600000.0, 1059523200000.0, 1059436800000.0, 1059350400000.0, 1059091200000.0, 1059004800000.0, 1058918400000.0, 1058832000000.0, 1058745600000.0, 1058486400000.0, 1058400000000.0, 1058313600000.0, 1058227200000.0, 1058140800000.0, 1057881600000.0, 1057795200000.0, 1057708800000.0, 1057622400000.0, 1057536000000.0, 1057190400000.0, 1057104000000.0, 1057017600000.0, 1056931200000.0, 1056672000000.0, 1056585600000.0, 1056499200000.0, 1056412800000.0, 1056326400000.0, 1056067200000.0, 1055980800000.0]}}}, {\"type\": \"BasicTickFormatter\", \"id\": \"4de81325-ff9b-4eff-bb10-8e4ab6882ee7\", \"attributes\": {}}, {\"type\": \"DaysTicker\", \"id\": \"c74d2c72-8eba-4728-a03f-21537983671f\", \"attributes\": {\"days\": [1, 2, 3, 4, 5, 6, 7, 8, 9, 10, 11, 12, 13, 14, 15, 16, 17, 18, 19, 20, 21, 22, 23, 24, 25, 26, 27, 28, 29, 30, 31]}}, {\"type\": \"AdaptiveTicker\", \"id\": \"360fce4b-0de2-4768-bf69-e78f1e01683d\", \"attributes\": {\"max_interval\": 500.0, \"num_minor_ticks\": 0}}, {\"type\": \"DatetimeTickFormatter\", \"id\": \"e038e2fc-36ef-4c0d-95a9-898e0f0be177\", \"attributes\": {}}, {\"type\": \"MonthsTicker\", \"id\": \"40ccb680-83b9-42fa-8140-6a2b14fcbb8d\", \"attributes\": {\"months\": [0, 4, 8]}}, {\"type\": \"ToolEvents\", \"id\": \"27acbd88-5583-4d79-b1de-e8cd6d805cef\", \"attributes\": {}}, {\"type\": \"YearsTicker\", \"id\": \"b5cadc0a-571c-43a9-b92d-72a72eed6ea2\", \"attributes\": {}}, {\"type\": \"DaysTicker\", \"id\": \"4eebe5a8-7267-48b2-9599-4478cd31582e\", \"attributes\": {\"days\": [1, 8, 15, 22]}}, {\"type\": \"Grid\", \"id\": \"dc463b8c-980a-4337-b771-bc34f03ff3ab\", \"attributes\": {\"plot\": {\"type\": \"Plot\", \"subtype\": \"Figure\", \"id\": \"8337ddbc-4875-46c8-b3e9-e0412e93f292\"}, \"dimension\": 1, \"ticker\": {\"type\": \"BasicTicker\", \"id\": \"1677d3ff-caf4-476f-b5a0-b8ecba808be4\"}, \"grid_line_alpha\": {\"value\": 0.3}}}, {\"type\": \"LinearAxis\", \"id\": \"0068f62b-4648-4384-a880-d9890e9d4b18\", \"attributes\": {\"plot\": {\"type\": \"Plot\", \"subtype\": \"Figure\", \"id\": \"ed71a381-b8b7-45bf-8867-49ae283c013b\"}, \"formatter\": {\"type\": \"BasicTickFormatter\", \"id\": \"b44418a8-955c-4abf-9e43-e1910a3254b2\"}, \"ticker\": {\"type\": \"BasicTicker\", \"id\": \"cc0cadc2-1437-4661-9ab0-f642fa1e2e50\"}}}, {\"type\": \"DaysTicker\", \"id\": \"fb4d769f-8df1-473d-91cd-83d9fe505747\", \"attributes\": {\"days\": [1, 4, 7, 10, 13, 16, 19, 22, 25, 28]}}, {\"type\": \"GlyphRenderer\", \"id\": \"1c7f6721-aadb-4d03-b843-412a95ceb50b\", \"attributes\": {\"data_source\": {\"type\": \"ColumnDataSource\", \"id\": \"589b40f6-beef-45f0-93ea-c008da41210b\"}, \"hover_glyph\": null, \"nonselection_glyph\": {\"type\": \"Segment\", \"id\": \"88d534b5-a2c0-4462-9f4b-2166230c7628\"}, \"selection_glyph\": null, \"glyph\": {\"type\": \"Segment\", \"id\": \"89b38e39-6919-4926-89a0-4efe5874a20c\"}}}, {\"type\": \"AdaptiveTicker\", \"id\": \"7881969b-0d96-4af6-a92f-58241048512c\", \"attributes\": {\"min_interval\": 3600000.0, \"num_minor_ticks\": 0, \"max_interval\": 43200000.0, \"base\": 24, \"mantissas\": [1, 2, 4, 6, 8, 12]}}, {\"type\": \"AdaptiveTicker\", \"id\": \"077668b6-50fd-4367-a34b-5f74f0db7bb6\", \"attributes\": {\"max_interval\": 500.0, \"num_minor_ticks\": 0}}, {\"type\": \"DataRange1d\", \"id\": \"55622f92-a35a-4b09-947b-124085fed0e6\", \"attributes\": {\"callback\": null}}, {\"type\": \"BoxZoomTool\", \"id\": \"4a247663-a1ff-49a5-8a81-80a2fa353588\", \"attributes\": {\"plot\": {\"type\": \"Plot\", \"subtype\": \"Figure\", \"id\": \"f399d7ee-8671-49d9-b780-b9d1542a6df5\"}, \"overlay\": {\"type\": \"BoxAnnotation\", \"id\": \"eabfc8c7-9a7c-48c7-92b6-9b81affd8a3c\"}}}, {\"type\": \"ColumnDataSource\", \"id\": \"530c8ca3-9455-4c91-8002-eec5e02f2be6\", \"attributes\": {\"column_names\": [\"close\", \"vol\", \"high\", \"low\", \"x\", \"height\", \"y\", \"x\", \"height\", \"y\"], \"callback\": null, \"data\": {\"x\": [1063756800000.0, 1063584000000.0, 1063152000000.0, 1063065600000.0, 1061942400000.0, 1061510400000.0, 1061424000000.0, 1060905600000.0, 1060819200000.0, 1060732800000.0, 1060300800000.0, 1060214400000.0, 1060041600000.0, 1059696000000.0, 1059609600000.0, 1059523200000.0, 1059436800000.0, 1059350400000.0, 1059004800000.0, 1058745600000.0, 1058486400000.0, 1058400000000.0, 1058313600000.0, 1058227200000.0, 1058140800000.0, 1057795200000.0, 1057708800000.0, 1057190400000.0, 1056931200000.0, 1056672000000.0, 1056499200000.0, 1056326400000.0, 1056067200000.0, 1055980800000.0], \"low\": [29.52, 28.42, 28.47, 28.32, 28.33, 27.45, 27.59, 27.48, 28.31, 28.34, 28.17, 27.99, 27.38, 26.47, 26.35, 26.24, 26.3, 25.96, 26.23, 26.21, 26.13, 26.0, 25.77, 25.46, 25.43, 25.52, 25.5, 25.45, 25.54, 25.5, 25.45, 25.43, 25.6, 25.75, 26.12, 26.31, 26.17, 26.24, 26.49, 26.07, 25.98, 26.14, 26.13, 26.0, 26.75, 26.54, 27.2, 27.1, 27.05, 26.89, 26.59, 27.25, 27.25, 26.95, 26.41, 26.45, 25.39, 25.5, 25.53, 25.21, 25.14, 25.52, 25.49, 26.01, 26.01], \"close\": [29.96, 29.5, 28.5, 28.9, 28.36, 28.34, 27.84, 27.55, 28.37, 28.84, 28.38, 28.43, 28.3, 27.26, 26.52, 26.51, 26.42, 26.57, 26.5, 26.22, 26.24, 26.45, 26.62, 25.7, 25.54, 25.63, 25.6, 25.73, 25.61, 25.58, 25.71, 25.65, 25.66, 26.18, 26.17, 26.41, 26.23, 26.47, 26.61, 26.89, 26.0, 26.45, 26.38, 26.04, 26.89, 26.69, 27.52, 27.27, 27.4, 27.31, 26.91, 27.47, 27.7, 27.42, 26.5, 26.88, 26.15, 25.64, 25.63, 25.75, 25.26, 25.7, 25.78, 26.33, 26.07], \"vol\": [92433800, 67268096, 47221600, 52060600, 41432300, 55777200, 37813300, 54763500, 44315200, 46105300, 64024500, 59840800, 109437800, 74168896, 34503000, 46211200, 30633900, 47546000, 36132900, 65846300, 63802700, 56739300, 72952896, 45817400, 27607900, 37338300, 39636900, 38208400, 36433900, 33241400, 44258500, 56294900, 58825800, 51825600, 42649700, 64504800, 41240300, 62391100, 52658300, 54173000, 53556600, 49828200, 51791000, 48480800, 63388400, 72805000, 49838900, 53567600, 60464400, 50377300, 55350800, 62300700, 61896800, 88960800, 39440900, 94069296, 60926000, 48073100, 76040304, 51758100, 60483500, 51820300, 52584500, 86048896, 63626900], \"height\": [0.26000000000000156, 0.010000000000001563, 0.4800000000000004, 0.2799999999999976, 0.08999999999999986, 0.5600000000000023, 0.41000000000000014, 0.07000000000000028, 0.030000000000001137, 0.18999999999999773, 0.3000000000000007, 0.00999999999999801, 0.6499999999999986, 0.1599999999999966, 0.19000000000000128, 0.23000000000000043, 0.41000000000000014, 0.33000000000000185, 0.7800000000000011, 0.8300000000000018, 0.21999999999999886, 0.4499999999999993, 0.03999999999999915, 0.1999999999999993, 0.23000000000000043, 0.33999999999999986, 0.08999999999999986, 0.19000000000000128, 0.3000000000000007, 0.3200000000000003, 0.379999999999999, 0.35999999999999943, 0.010000000000001563, 0.019999999999999574], \"high\": [29.97, 29.51, 28.95, 28.95, 28.61, 28.4, 28.11, 28.18, 28.71, 28.92, 28.75, 28.47, 28.4, 27.3, 26.55, 26.58, 26.58, 26.67, 26.54, 26.95, 26.73, 26.53, 26.65, 25.83, 25.66, 25.71, 25.89, 25.77, 25.99, 25.98, 25.81, 26.19, 26.54, 26.41, 26.51, 26.99, 26.57, 26.9, 27.0, 26.95, 26.92, 26.65, 26.56, 26.91, 27.23, 27.27, 27.62, 27.53, 27.81, 27.45, 27.42, 27.7, 27.8, 27.55, 26.95, 26.93, 26.2, 26.12, 26.34, 26.51, 25.99, 26.04, 26.24, 26.38, 26.39], \"y\": [28.630000000000003, 28.365000000000002, 27.79, 28.509999999999998, 26.465000000000003, 26.5, 26.445, 25.575, 25.645, 25.695, 25.729999999999997, 25.715, 25.985, 26.25, 26.505000000000003, 26.345, 26.674999999999997, 26.775, 26.39, 26.455, 27.0, 26.915, 27.54, 27.369999999999997, 27.515, 27.08, 27.515, 26.595, 25.79, 25.79, 25.450000000000003, 25.96, 26.335, 26.08]}}}, {\"type\": \"DatetimeTickFormatter\", \"id\": \"c87d581a-a8bd-40a9-920d-612b6e0dbd46\", \"attributes\": {}}, {\"type\": \"MonthsTicker\", \"id\": \"155e4b30-21f4-41c7-a0b2-0ce07a087363\", \"attributes\": {\"months\": [0, 6]}}, {\"type\": \"BoxZoomTool\", \"id\": \"a8bb8378-de83-4b95-8270-3f03355de0fd\", \"attributes\": {\"plot\": {\"type\": \"Plot\", \"subtype\": \"Figure\", \"id\": \"ed71a381-b8b7-45bf-8867-49ae283c013b\"}, \"overlay\": {\"type\": \"BoxAnnotation\", \"id\": \"e7180a45-535e-4679-bebc-f20e0778bd0f\"}}}, {\"type\": \"DatetimeTicker\", \"id\": \"2f2ea11e-f48f-4440-8869-58a5602951bc\", \"attributes\": {\"num_minor_ticks\": 5}}, {\"type\": \"BoxAnnotation\", \"id\": \"be42f829-89f3-4bc9-aeb9-2f2dee70d96a\", \"attributes\": {\"plot\": null, \"level\": \"overlay\", \"left_units\": \"screen\", \"line_dash\": [4, 4], \"bottom_units\": \"screen\", \"fill_alpha\": {\"value\": 0.5}, \"line_width\": {\"value\": 2}, \"render_mode\": \"css\", \"right_units\": \"screen\", \"line_alpha\": {\"value\": 1.0}, \"top_units\": \"screen\", \"fill_color\": {\"value\": \"lightgrey\"}, \"line_color\": {\"value\": \"black\"}}}, {\"type\": \"GlyphRenderer\", \"id\": \"c566b0d4-b23d-492c-87a9-d96d9cab4ec2\", \"attributes\": {\"data_source\": {\"type\": \"ColumnDataSource\", \"id\": \"74bfb172-b749-4869-b694-00614a32a291\"}, \"hover_glyph\": null, \"nonselection_glyph\": {\"type\": \"Segment\", \"id\": \"c02133a9-1abc-4758-9581-431c751c2a1b\"}, \"selection_glyph\": null, \"glyph\": {\"type\": \"Segment\", \"id\": \"56679dd2-ae0e-4f65-b9ff-f3b11a0bdf29\"}}}, {\"type\": \"BoxAnnotation\", \"id\": \"3edd4cb3-fe5e-407a-a6b0-2c15365d00a0\", \"attributes\": {\"plot\": null, \"level\": \"overlay\", \"left_units\": \"screen\", \"line_dash\": [4, 4], \"bottom_units\": \"screen\", \"fill_alpha\": {\"value\": 0.5}, \"line_width\": {\"value\": 2}, \"render_mode\": \"css\", \"right_units\": \"screen\", \"line_alpha\": {\"value\": 1.0}, \"top_units\": \"screen\", \"fill_color\": {\"value\": \"lightgrey\"}, \"line_color\": {\"value\": \"black\"}}}, {\"type\": \"Rect\", \"id\": \"effa9def-c619-4524-9c36-2c4108eb1c25\", \"attributes\": {\"x\": {\"field\": \"x\"}, \"height\": {\"field\": \"height\", \"units\": \"data\"}, \"y\": {\"field\": \"y\"}, \"width\": {\"value\": 43200000, \"units\": \"data\"}, \"fill_color\": {\"value\": \"#F2583E\"}}}, {\"type\": \"MonthsTicker\", \"id\": \"48de5a6f-79f7-4c79-9458-0f89edae5639\", \"attributes\": {\"months\": [0, 1, 2, 3, 4, 5, 6, 7, 8, 9, 10, 11]}}, {\"type\": \"DataRange1d\", \"id\": \"b409421a-58ff-4a69-937d-9928df3620c2\", \"attributes\": {\"callback\": null}}, {\"type\": \"AdaptiveTicker\", \"id\": \"4bd61907-c621-4f59-b14a-0ae3796c2d82\", \"attributes\": {\"min_interval\": 1000.0, \"num_minor_ticks\": 0, \"max_interval\": 1800000.0, \"base\": 60, \"mantissas\": [1, 2, 5, 10, 15, 20, 30]}}, {\"type\": \"Plot\", \"subtype\": \"Figure\", \"id\": \"8337ddbc-4875-46c8-b3e9-e0412e93f292\", \"attributes\": {\"tools\": [{\"type\": \"PanTool\", \"id\": \"be750b91-9d3b-41ef-a839-ff05405e7d52\"}, {\"type\": \"BoxZoomTool\", \"id\": \"a277f15d-ca87-47ee-9d88-bf16375fcc02\"}, {\"type\": \"ResetTool\", \"id\": \"26540929-68ca-41c8-83de-b4918f45be5d\"}, {\"type\": \"PreviewSaveTool\", \"id\": \"152872a8-0a56-4590-bb4f-3c4b4a7aa833\"}], \"renderers\": [{\"type\": \"DatetimeAxis\", \"id\": \"6be4f52c-9aed-425e-9d63-b1f2587088a3\"}, {\"type\": \"Grid\", \"id\": \"b4018c47-11fc-49a0-b9d1-7b19b13a3968\"}, {\"type\": \"LinearAxis\", \"id\": \"f1e95fe4-06db-413e-a178-168c396295b8\"}, {\"type\": \"Grid\", \"id\": \"dc463b8c-980a-4337-b771-bc34f03ff3ab\"}, {\"type\": \"BoxAnnotation\", \"id\": \"20099790-fb61-4600-8fc8-89b4ddd6c79a\"}, {\"type\": \"GlyphRenderer\", \"id\": \"3a771132-f804-4e3e-8572-e0ee4503d930\"}, {\"type\": \"GlyphRenderer\", \"id\": \"813f8fa4-f02d-4dba-ba7d-e76490ea6a9d\"}, {\"type\": \"GlyphRenderer\", \"id\": \"4e15d161-a51b-4c4f-b35b-7e7b23d02061\"}], \"x_range\": {\"type\": \"DataRange1d\", \"id\": \"51b4c8d7-a359-490b-a9f2-d0467439fb16\"}, \"tool_events\": {\"type\": \"ToolEvents\", \"id\": \"b5787fad-fbe5-408e-8255-57a42aec6550\"}, \"left\": [{\"type\": \"LinearAxis\", \"id\": \"f1e95fe4-06db-413e-a178-168c396295b8\"}], \"y_range\": {\"type\": \"DataRange1d\", \"id\": \"1eae8f2d-2667-4aee-b874-9030c50c2207\"}, \"title\": \"MSFT Candlestick\", \"below\": [{\"type\": \"DatetimeAxis\", \"id\": \"6be4f52c-9aed-425e-9d63-b1f2587088a3\"}], \"toolbar_location\": \"left\", \"plot_width\": 1000}}, {\"type\": \"ColumnDataSource\", \"id\": \"74bfb172-b749-4869-b694-00614a32a291\", \"attributes\": {\"column_names\": [\"y0\", \"x1\", \"y1\", \"x0\"], \"callback\": null, \"data\": {\"y0\": [29.97, 29.51, 28.95, 28.95, 28.61, 28.4, 28.11, 28.18, 28.71, 28.92, 28.75, 28.47, 28.4, 27.3, 26.55, 26.58, 26.58, 26.67, 26.54, 26.95, 26.73, 26.53, 26.65, 25.83, 25.66, 25.71, 25.89, 25.77, 25.99, 25.98, 25.81, 26.19, 26.54, 26.41, 26.51, 26.99, 26.57, 26.9, 27.0, 26.95, 26.92, 26.65, 26.56, 26.91, 27.23, 27.27, 27.62, 27.53, 27.81, 27.45, 27.42, 27.7, 27.8, 27.55, 26.95, 26.93, 26.2, 26.12, 26.34, 26.51, 25.99, 26.04, 26.24, 26.38, 26.39], \"y1\": [29.52, 28.42, 28.47, 28.32, 28.33, 27.45, 27.59, 27.48, 28.31, 28.34, 28.17, 27.99, 27.38, 26.47, 26.35, 26.24, 26.3, 25.96, 26.23, 26.21, 26.13, 26.0, 25.77, 25.46, 25.43, 25.52, 25.5, 25.45, 25.54, 25.5, 25.45, 25.43, 25.6, 25.75, 26.12, 26.31, 26.17, 26.24, 26.49, 26.07, 25.98, 26.14, 26.13, 26.0, 26.75, 26.54, 27.2, 27.1, 27.05, 26.89, 26.59, 27.25, 27.25, 26.95, 26.41, 26.45, 25.39, 25.5, 25.53, 25.21, 25.14, 25.52, 25.49, 26.01, 26.01], \"x1\": [1063929600000.0, 1063843200000.0, 1063756800000.0, 1063670400000.0, 1063584000000.0, 1063324800000.0, 1063238400000.0, 1063152000000.0, 1063065600000.0, 1062979200000.0, 1062720000000.0, 1062633600000.0, 1062547200000.0, 1062460800000.0, 1062115200000.0, 1062028800000.0, 1061942400000.0, 1061856000000.0, 1061769600000.0, 1061510400000.0, 1061424000000.0, 1061337600000.0, 1061251200000.0, 1061164800000.0, 1060905600000.0, 1060819200000.0, 1060732800000.0, 1060646400000.0, 1060560000000.0, 1060300800000.0, 1060214400000.0, 1060128000000.0, 1060041600000.0, 1059955200000.0, 1059696000000.0, 1059609600000.0, 1059523200000.0, 1059436800000.0, 1059350400000.0, 1059091200000.0, 1059004800000.0, 1058918400000.0, 1058832000000.0, 1058745600000.0, 1058486400000.0, 1058400000000.0, 1058313600000.0, 1058227200000.0, 1058140800000.0, 1057881600000.0, 1057795200000.0, 1057708800000.0, 1057622400000.0, 1057536000000.0, 1057190400000.0, 1057104000000.0, 1057017600000.0, 1056931200000.0, 1056672000000.0, 1056585600000.0, 1056499200000.0, 1056412800000.0, 1056326400000.0, 1056067200000.0, 1055980800000.0], \"x0\": [1063929600000.0, 1063843200000.0, 1063756800000.0, 1063670400000.0, 1063584000000.0, 1063324800000.0, 1063238400000.0, 1063152000000.0, 1063065600000.0, 1062979200000.0, 1062720000000.0, 1062633600000.0, 1062547200000.0, 1062460800000.0, 1062115200000.0, 1062028800000.0, 1061942400000.0, 1061856000000.0, 1061769600000.0, 1061510400000.0, 1061424000000.0, 1061337600000.0, 1061251200000.0, 1061164800000.0, 1060905600000.0, 1060819200000.0, 1060732800000.0, 1060646400000.0, 1060560000000.0, 1060300800000.0, 1060214400000.0, 1060128000000.0, 1060041600000.0, 1059955200000.0, 1059696000000.0, 1059609600000.0, 1059523200000.0, 1059436800000.0, 1059350400000.0, 1059091200000.0, 1059004800000.0, 1058918400000.0, 1058832000000.0, 1058745600000.0, 1058486400000.0, 1058400000000.0, 1058313600000.0, 1058227200000.0, 1058140800000.0, 1057881600000.0, 1057795200000.0, 1057708800000.0, 1057622400000.0, 1057536000000.0, 1057190400000.0, 1057104000000.0, 1057017600000.0, 1056931200000.0, 1056672000000.0, 1056585600000.0, 1056499200000.0, 1056412800000.0, 1056326400000.0, 1056067200000.0, 1055980800000.0]}}}, {\"type\": \"PanTool\", \"id\": \"fa02a73f-87ae-4785-b6ef-2e91c7fe1000\", \"attributes\": {\"plot\": {\"type\": \"Plot\", \"subtype\": \"Figure\", \"id\": \"93122f00-b578-4206-9cc8-299e6f4a481f\"}}}, {\"type\": \"DatetimeTickFormatter\", \"id\": \"651073fc-574b-4eb4-9458-16653401ba76\", \"attributes\": {}}, {\"type\": \"MonthsTicker\", \"id\": \"936d6323-8778-403a-8f0f-adeb34ecf1ee\", \"attributes\": {\"months\": [0, 1, 2, 3, 4, 5, 6, 7, 8, 9, 10, 11]}}, {\"type\": \"Rect\", \"id\": \"afbcaa5f-ce3b-413b-a84f-f287bae831af\", \"attributes\": {\"x\": {\"field\": \"x\"}, \"height\": {\"field\": \"height\", \"units\": \"data\"}, \"y\": {\"field\": \"y\"}, \"width\": {\"value\": 43200000, \"units\": \"data\"}, \"fill_color\": {\"value\": \"#F2583E\"}}}, {\"type\": \"AdaptiveTicker\", \"id\": \"b893625d-2307-49ad-8615-d7132f480098\", \"attributes\": {\"max_interval\": 500.0, \"num_minor_ticks\": 0}}, {\"type\": \"PanTool\", \"id\": \"6b9d30e0-8baf-43ae-9b81-681f47b020d0\", \"attributes\": {\"plot\": {\"type\": \"Plot\", \"subtype\": \"Figure\", \"id\": \"d19c44ac-b43d-43e9-9e09-0dc58bed79a6\"}}}, {\"type\": \"YearsTicker\", \"id\": \"68124c7d-947e-4aaa-9a10-8d95b6cbc50d\", \"attributes\": {}}, {\"type\": \"LinearAxis\", \"id\": \"40209b31-ddad-4feb-904b-368084d55a17\", \"attributes\": {\"plot\": {\"type\": \"Plot\", \"subtype\": \"Figure\", \"id\": \"93122f00-b578-4206-9cc8-299e6f4a481f\"}, \"formatter\": {\"type\": \"BasicTickFormatter\", \"id\": \"942c9e96-680f-4e55-a463-e02c28a815f5\"}, \"ticker\": {\"type\": \"BasicTicker\", \"id\": \"7559f4ba-9a0b-423e-8927-3700887554f9\"}}}, {\"type\": \"GlyphRenderer\", \"id\": \"be7697db-de1d-4135-b277-9277801520f1\", \"attributes\": {\"data_source\": {\"type\": \"ColumnDataSource\", \"id\": \"49a72d79-c641-474d-a905-73e3923a35a0\"}, \"hover_glyph\": null, \"nonselection_glyph\": {\"type\": \"Rect\", \"id\": \"3bbb1e29-d499-4501-8290-04a5e8a15593\"}, \"selection_glyph\": null, \"glyph\": {\"type\": \"Rect\", \"id\": \"effa9def-c619-4524-9c36-2c4108eb1c25\"}}}, {\"type\": \"MonthsTicker\", \"id\": \"6f0d7c84-8f26-4ddd-add5-877c038e7a74\", \"attributes\": {\"months\": [0, 2, 4, 6, 8, 10]}}, {\"type\": \"MonthsTicker\", \"id\": \"d2b1a643-50ad-4193-8a34-ce38a02f616c\", \"attributes\": {\"months\": [0, 6]}}, {\"type\": \"AdaptiveTicker\", \"id\": \"0dac61c4-4f46-41a5-b2af-9d132475a099\", \"attributes\": {\"min_interval\": 3600000.0, \"num_minor_ticks\": 0, \"max_interval\": 43200000.0, \"base\": 24, \"mantissas\": [1, 2, 4, 6, 8, 12]}}, {\"type\": \"ColumnDataSource\", \"id\": \"187cf5f4-2f95-4d0d-bf44-7a215721e3f8\", \"attributes\": {\"column_names\": [\"x\", \"height\", \"y\"], \"callback\": null, \"data\": {\"x\": [1063756800000.0, 1063584000000.0, 1063152000000.0, 1063065600000.0, 1061942400000.0, 1061510400000.0, 1061424000000.0, 1060905600000.0, 1060819200000.0, 1060732800000.0, 1060300800000.0, 1060214400000.0, 1060041600000.0, 1059696000000.0, 1059609600000.0, 1059523200000.0, 1059436800000.0, 1059350400000.0, 1059004800000.0, 1058745600000.0, 1058486400000.0, 1058400000000.0, 1058313600000.0, 1058227200000.0, 1058140800000.0, 1057795200000.0, 1057708800000.0, 1057190400000.0, 1056931200000.0, 1056672000000.0, 1056499200000.0, 1056326400000.0, 1056067200000.0, 1055980800000.0], \"height\": [0.26000000000000156, 0.010000000000001563, 0.4800000000000004, 0.2799999999999976, 0.08999999999999986, 0.5600000000000023, 0.41000000000000014, 0.07000000000000028, 0.030000000000001137, 0.18999999999999773, 0.3000000000000007, 0.00999999999999801, 0.6499999999999986, 0.1599999999999966, 0.19000000000000128, 0.23000000000000043, 0.41000000000000014, 0.33000000000000185, 0.7800000000000011, 0.8300000000000018, 0.21999999999999886, 0.4499999999999993, 0.03999999999999915, 0.1999999999999993, 0.23000000000000043, 0.33999999999999986, 0.08999999999999986, 0.19000000000000128, 0.3000000000000007, 0.3200000000000003, 0.379999999999999, 0.35999999999999943, 0.010000000000001563, 0.019999999999999574], \"y\": [28.630000000000003, 28.365000000000002, 27.79, 28.509999999999998, 26.465000000000003, 26.5, 26.445, 25.575, 25.645, 25.695, 25.729999999999997, 25.715, 25.985, 26.25, 26.505000000000003, 26.345, 26.674999999999997, 26.775, 26.39, 26.455, 27.0, 26.915, 27.54, 27.369999999999997, 27.515, 27.08, 27.515, 26.595, 25.79, 25.79, 25.450000000000003, 25.96, 26.335, 26.08]}}}, {\"type\": \"DaysTicker\", \"id\": \"7ca31288-5e60-4951-867d-18c9083b8d56\", \"attributes\": {\"days\": [1, 8, 15, 22]}}, {\"type\": \"DatetimeTicker\", \"id\": \"ee83543e-b0c3-4151-88cd-7e2360876fbe\", \"attributes\": {\"num_minor_ticks\": 5}}, {\"type\": \"MonthsTicker\", \"id\": \"401cee32-ef2d-4051-8ece-4c7c14175519\", \"attributes\": {\"months\": [0, 1, 2, 3, 4, 5, 6, 7, 8, 9, 10, 11]}}, {\"type\": \"LinearAxis\", \"id\": \"9eb25746-1461-48ae-b0c9-b07efc9d9bc7\", \"attributes\": {\"plot\": {\"type\": \"Plot\", \"subtype\": \"Figure\", \"id\": \"22026226-acfd-41b1-9d0f-3ae52b707c1d\"}, \"formatter\": {\"type\": \"BasicTickFormatter\", \"id\": \"4de81325-ff9b-4eff-bb10-8e4ab6882ee7\"}, \"ticker\": {\"type\": \"BasicTicker\", \"id\": \"10de7814-17ec-4352-9308-bfa62ada8776\"}}}, {\"type\": \"ToolEvents\", \"id\": \"72e0d719-bda7-47e2-9e6e-d9a937b9a03a\", \"attributes\": {}}, {\"type\": \"Segment\", \"id\": \"78c03154-3151-4198-be3e-5a7feddca2ef\", \"attributes\": {\"y0\": {\"field\": \"y0\"}, \"y1\": {\"field\": \"y1\"}, \"x1\": {\"field\": \"x1\"}, \"x0\": {\"field\": \"x0\"}}}, {\"type\": \"Rect\", \"id\": \"0a933289-6d3a-4a31-ba14-517e162c763e\", \"attributes\": {\"x\": {\"field\": \"x\"}, \"height\": {\"field\": \"height\", \"units\": \"data\"}, \"y\": {\"field\": \"y\"}, \"width\": {\"value\": 43200000, \"units\": \"data\"}, \"fill_color\": {\"value\": \"#D5E1DD\"}}}, {\"type\": \"ToolEvents\", \"id\": \"97756f4a-2ccf-4acc-b8bb-49f6c230574f\", \"attributes\": {}}, {\"type\": \"BasicTicker\", \"id\": \"10de7814-17ec-4352-9308-bfa62ada8776\", \"attributes\": {}}, {\"type\": \"Grid\", \"id\": \"0ed4e01b-fc72-4c55-9eb8-813a296ae6ca\", \"attributes\": {\"plot\": {\"type\": \"Plot\", \"subtype\": \"Figure\", \"id\": \"93122f00-b578-4206-9cc8-299e6f4a481f\"}, \"dimension\": 1, \"ticker\": {\"type\": \"BasicTicker\", \"id\": \"7559f4ba-9a0b-423e-8927-3700887554f9\"}}}, {\"type\": \"MonthsTicker\", \"id\": \"e13e0b8c-8949-4cfc-bfc1-5ae47445ea67\", \"attributes\": {\"months\": [0, 6]}}, {\"type\": \"MonthsTicker\", \"id\": \"cc3cb3c6-e402-4366-a397-eeb3193156e7\", \"attributes\": {\"months\": [0, 6]}}, {\"type\": \"LinearAxis\", \"id\": \"e6037c9a-34e8-4ec2-a41c-860c076f5f1f\", \"attributes\": {\"plot\": {\"type\": \"Plot\", \"subtype\": \"Figure\", \"id\": \"d19c44ac-b43d-43e9-9e09-0dc58bed79a6\"}, \"formatter\": {\"type\": \"BasicTickFormatter\", \"id\": \"94b686e3-0e48-4b34-b436-c4cfcab353aa\"}, \"ticker\": {\"type\": \"BasicTicker\", \"id\": \"6a25da13-e0fd-488f-bd12-45e2714efa98\"}}}, {\"type\": \"PreviewSaveTool\", \"id\": \"152872a8-0a56-4590-bb4f-3c4b4a7aa833\", \"attributes\": {\"plot\": {\"type\": \"Plot\", \"subtype\": \"Figure\", \"id\": \"8337ddbc-4875-46c8-b3e9-e0412e93f292\"}}}, {\"type\": \"GlyphRenderer\", \"id\": \"bc7fbe5c-9e01-4b7c-8c6d-81d69b82ae4d\", \"attributes\": {\"data_source\": {\"type\": \"ColumnDataSource\", \"id\": \"9c7f1368-a617-431f-9f64-52cc8c24e3c9\"}, \"hover_glyph\": null, \"nonselection_glyph\": {\"type\": \"Rect\", \"id\": \"0742a8d7-6b7e-43b9-bcca-f439769811f3\"}, \"selection_glyph\": null, \"glyph\": {\"type\": \"Rect\", \"id\": \"6af3e6cd-05c9-433a-8be1-6538754d0ce5\"}}}, {\"type\": \"PanTool\", \"id\": \"24615c76-ba61-4d3b-b587-728d85d56538\", \"attributes\": {\"plot\": {\"type\": \"Plot\", \"subtype\": \"Figure\", \"id\": \"97b67995-4f24-42d8-af08-e1e7be0adba0\"}}}, {\"type\": \"ResetTool\", \"id\": \"26540929-68ca-41c8-83de-b4918f45be5d\", \"attributes\": {\"plot\": {\"type\": \"Plot\", \"subtype\": \"Figure\", \"id\": \"8337ddbc-4875-46c8-b3e9-e0412e93f292\"}}}, {\"type\": \"GlyphRenderer\", \"id\": \"f186bdb3-320f-4b80-bb53-21175ff0fc2f\", \"attributes\": {\"data_source\": {\"type\": \"ColumnDataSource\", \"id\": \"1d0dac97-de18-489a-a291-c39dff9ea830\"}, \"hover_glyph\": null, \"nonselection_glyph\": {\"type\": \"Segment\", \"id\": \"c3ed5491-dd2f-4966-95ac-647a40ed7bec\"}, \"selection_glyph\": null, \"glyph\": {\"type\": \"Segment\", \"id\": \"78c03154-3151-4198-be3e-5a7feddca2ef\"}}}, {\"type\": \"GlyphRenderer\", \"id\": \"ce5af60a-90a2-4d8c-81c4-582fb024d1d9\", \"attributes\": {\"data_source\": {\"type\": \"ColumnDataSource\", \"id\": \"dd14e1bc-0e7f-4c1e-9f5f-3f2017d623e3\"}, \"hover_glyph\": null, \"nonselection_glyph\": {\"type\": \"Segment\", \"id\": \"2a737691-a086-4c90-ab2a-39b22acf25cf\"}, \"selection_glyph\": null, \"glyph\": {\"type\": \"Segment\", \"id\": \"05f7f6ad-aac7-442f-8cc5-14aebe76b4ce\"}}}, {\"type\": \"ColumnDataSource\", \"id\": \"772dd823-50dd-46d0-b516-f2ffc49dd54f\", \"attributes\": {\"column_names\": [\"x\", \"height\", \"y\"], \"callback\": null, \"data\": {\"x\": [1063929600000.0, 1063843200000.0, 1063670400000.0, 1063324800000.0, 1063238400000.0, 1062979200000.0, 1062720000000.0, 1062633600000.0, 1062547200000.0, 1062460800000.0, 1062115200000.0, 1062028800000.0, 1061856000000.0, 1061769600000.0, 1061337600000.0, 1061251200000.0, 1061164800000.0, 1060646400000.0, 1060128000000.0, 1059955200000.0, 1059091200000.0, 1058918400000.0, 1058832000000.0, 1057881600000.0, 1057622400000.0, 1057536000000.0, 1057104000000.0, 1057017600000.0, 1056585600000.0, 1056412800000.0], \"height\": [0.1999999999999993, 1.0100000000000016, 0.48999999999999844, 0.8599999999999994, 0.17999999999999972, 0.4499999999999993, 0.14999999999999858, 0.3299999999999983, 0.879999999999999, 0.5600000000000023, 0.05999999999999872, 0.010000000000001563, 0.26000000000000156, 0.19000000000000128, 0.14999999999999858, 0.7699999999999996, 0.14000000000000057, 0.019999999999999574, 0.10999999999999943, 0.030000000000001137, 0.6099999999999994, 0.029999999999997584, 0.09999999999999787, 0.35999999999999943, 0.4399999999999977, 0.40000000000000213, 0.379999999999999, 0.5599999999999987, 0.35999999999999943, 0.05000000000000071], \"y\": [29.86, 28.994999999999997, 28.655, 27.91, 27.75, 28.615000000000002, 28.305, 28.265, 27.86, 26.98, 26.490000000000002, 26.505000000000003, 26.439999999999998, 26.405, 26.375, 26.235, 25.63, 25.72, 25.595, 26.165, 26.585, 26.435000000000002, 26.33, 27.13, 27.48, 27.22, 26.689999999999998, 25.869999999999997, 25.57, 25.674999999999997]}}}, {\"type\": \"GlyphRenderer\", \"id\": \"a9119566-3171-4371-891d-e04171f479ea\", \"attributes\": {\"data_source\": {\"type\": \"ColumnDataSource\", \"id\": \"772dd823-50dd-46d0-b516-f2ffc49dd54f\"}, \"hover_glyph\": null, \"nonselection_glyph\": {\"type\": \"Rect\", \"id\": \"f54dc9de-3b2a-424b-a811-595c836f7c72\"}, \"selection_glyph\": null, \"glyph\": {\"type\": \"Rect\", \"id\": \"f2c49a63-327e-448b-96de-24b578c78269\"}}}, {\"type\": \"Grid\", \"id\": \"b4018c47-11fc-49a0-b9d1-7b19b13a3968\", \"attributes\": {\"plot\": {\"type\": \"Plot\", \"subtype\": \"Figure\", \"id\": \"8337ddbc-4875-46c8-b3e9-e0412e93f292\"}, \"ticker\": {\"type\": \"DatetimeTicker\", \"id\": \"e99f76d0-f86d-47c8-9630-f0ce3714907b\"}, \"grid_line_alpha\": {\"value\": 0.3}}}, {\"type\": \"PreviewSaveTool\", \"id\": \"c2ea7836-be58-4c53-920f-32e1e19439a9\", \"attributes\": {\"plot\": {\"type\": \"Plot\", \"subtype\": \"Figure\", \"id\": \"d19c44ac-b43d-43e9-9e09-0dc58bed79a6\"}}}, {\"type\": \"Rect\", \"id\": \"156b6629-c736-4492-b560-f4e797e5883f\", \"attributes\": {\"y\": {\"field\": \"y\"}, \"line_color\": {\"value\": \"#1f77b4\"}, \"line_alpha\": {\"value\": 0.1}, \"x\": {\"field\": \"x\"}, \"height\": {\"field\": \"height\", \"units\": \"data\"}, \"fill_alpha\": {\"value\": 0.1}, \"fill_color\": {\"value\": \"#1f77b4\"}, \"width\": {\"value\": 43200000, \"units\": \"data\"}}}, {\"type\": \"DatetimeAxis\", \"id\": \"2b137892-76d7-4c10-bcde-ddf741d68964\", \"attributes\": {\"major_label_orientation\": 0.7853981633974483, \"plot\": {\"type\": \"Plot\", \"subtype\": \"Figure\", \"id\": \"97b67995-4f24-42d8-af08-e1e7be0adba0\"}, \"formatter\": {\"type\": \"DatetimeTickFormatter\", \"id\": \"23ac1a6d-afb5-408f-8759-92c9e6e9585c\"}, \"ticker\": {\"type\": \"DatetimeTicker\", \"id\": \"327f0eb9-3681-43a8-b127-2fca4070d5d4\"}}}, {\"type\": \"Rect\", \"id\": \"76fa9a65-bad0-4762-ab02-ad22fbd3de92\", \"attributes\": {\"y\": {\"field\": \"y\"}, \"line_color\": {\"value\": \"#1f77b4\"}, \"line_alpha\": {\"value\": 0.1}, \"x\": {\"field\": \"x\"}, \"height\": {\"field\": \"height\", \"units\": \"data\"}, \"fill_alpha\": {\"value\": 0.1}, \"fill_color\": {\"value\": \"#1f77b4\"}, \"width\": {\"value\": 43200000, \"units\": \"data\"}}}, {\"type\": \"MonthsTicker\", \"id\": \"004f4d6d-aca1-45a1-ac34-af7293c1d875\", \"attributes\": {\"months\": [0, 1, 2, 3, 4, 5, 6, 7, 8, 9, 10, 11]}}, {\"type\": \"Grid\", \"id\": \"eb73e8ca-4232-4dd4-8c3b-8bfaff2367a2\", \"attributes\": {\"plot\": {\"type\": \"Plot\", \"subtype\": \"Figure\", \"id\": \"f399d7ee-8671-49d9-b780-b9d1542a6df5\"}, \"ticker\": {\"type\": \"DatetimeTicker\", \"id\": \"df56c664-61ee-4209-98e9-e9a5ae374c7c\"}, \"grid_line_alpha\": {\"value\": 0.3}}}, {\"type\": \"DatetimeTickFormatter\", \"id\": \"25b28c8c-c076-493d-9ca8-f3384da622f2\", \"attributes\": {}}, {\"type\": \"DaysTicker\", \"id\": \"a5c92726-76c6-4d51-8204-fb413f51418c\", \"attributes\": {\"days\": [1, 4, 7, 10, 13, 16, 19, 22, 25, 28]}}, {\"type\": \"DatetimeTicker\", \"id\": \"608af3d6-c86c-408e-8651-5bd17074e5df\", \"attributes\": {\"num_minor_ticks\": 5}}, {\"type\": \"BoxZoomTool\", \"id\": \"a277f15d-ca87-47ee-9d88-bf16375fcc02\", \"attributes\": {\"plot\": {\"type\": \"Plot\", \"subtype\": \"Figure\", \"id\": \"8337ddbc-4875-46c8-b3e9-e0412e93f292\"}, \"overlay\": {\"type\": \"BoxAnnotation\", \"id\": \"20099790-fb61-4600-8fc8-89b4ddd6c79a\"}}}, {\"type\": \"MonthsTicker\", \"id\": \"62a70a8b-0af2-487c-847e-ca23a675da60\", \"attributes\": {\"months\": [0, 1, 2, 3, 4, 5, 6, 7, 8, 9, 10, 11]}}, {\"type\": \"DatetimeAxis\", \"id\": \"6be4f52c-9aed-425e-9d63-b1f2587088a3\", \"attributes\": {\"major_label_orientation\": 0.7853981633974483, \"plot\": {\"type\": \"Plot\", \"subtype\": \"Figure\", \"id\": \"8337ddbc-4875-46c8-b3e9-e0412e93f292\"}, \"formatter\": {\"type\": \"DatetimeTickFormatter\", \"id\": \"cbc7a2be-8613-432b-a120-7863c2fdc7be\"}, \"ticker\": {\"type\": \"DatetimeTicker\", \"id\": \"e99f76d0-f86d-47c8-9630-f0ce3714907b\"}}}, {\"type\": \"MonthsTicker\", \"id\": \"8278f579-fbb0-4db6-b47b-66880264008d\", \"attributes\": {\"months\": [0, 2, 4, 6, 8, 10]}}, {\"type\": \"MonthsTicker\", \"id\": \"2a17d627-d9be-4737-b5dd-dd2683c8b344\", \"attributes\": {\"months\": [0, 6]}}, {\"type\": \"DatetimeAxis\", \"id\": \"e767f004-b4f2-4712-b31f-dcb70d801928\", \"attributes\": {\"major_label_orientation\": 0.7853981633974483, \"plot\": {\"type\": \"Plot\", \"subtype\": \"Figure\", \"id\": \"f399d7ee-8671-49d9-b780-b9d1542a6df5\"}, \"formatter\": {\"type\": \"DatetimeTickFormatter\", \"id\": \"651073fc-574b-4eb4-9458-16653401ba76\"}, \"ticker\": {\"type\": \"DatetimeTicker\", \"id\": \"df56c664-61ee-4209-98e9-e9a5ae374c7c\"}}}, {\"type\": \"ColumnDataSource\", \"id\": \"589b40f6-beef-45f0-93ea-c008da41210b\", \"attributes\": {\"column_names\": [\"y0\", \"x1\", \"y1\", \"x0\"], \"callback\": null, \"data\": {\"y0\": [29.97, 29.51, 28.95, 28.95, 28.61, 28.4, 28.11, 28.18, 28.71, 28.92, 28.75, 28.47, 28.4, 27.3, 26.55, 26.58, 26.58, 26.67, 26.54, 26.95, 26.73, 26.53, 26.65, 25.83, 25.66, 25.71, 25.89, 25.77, 25.99, 25.98, 25.81, 26.19, 26.54, 26.41, 26.51, 26.99, 26.57, 26.9, 27.0, 26.95, 26.92, 26.65, 26.56, 26.91, 27.23, 27.27, 27.62, 27.53, 27.81, 27.45, 27.42, 27.7, 27.8, 27.55, 26.95, 26.93, 26.2, 26.12, 26.34, 26.51, 25.99, 26.04, 26.24, 26.38, 26.39], \"y1\": [29.52, 28.42, 28.47, 28.32, 28.33, 27.45, 27.59, 27.48, 28.31, 28.34, 28.17, 27.99, 27.38, 26.47, 26.35, 26.24, 26.3, 25.96, 26.23, 26.21, 26.13, 26.0, 25.77, 25.46, 25.43, 25.52, 25.5, 25.45, 25.54, 25.5, 25.45, 25.43, 25.6, 25.75, 26.12, 26.31, 26.17, 26.24, 26.49, 26.07, 25.98, 26.14, 26.13, 26.0, 26.75, 26.54, 27.2, 27.1, 27.05, 26.89, 26.59, 27.25, 27.25, 26.95, 26.41, 26.45, 25.39, 25.5, 25.53, 25.21, 25.14, 25.52, 25.49, 26.01, 26.01], \"x1\": [1063929600000.0, 1063843200000.0, 1063756800000.0, 1063670400000.0, 1063584000000.0, 1063324800000.0, 1063238400000.0, 1063152000000.0, 1063065600000.0, 1062979200000.0, 1062720000000.0, 1062633600000.0, 1062547200000.0, 1062460800000.0, 1062115200000.0, 1062028800000.0, 1061942400000.0, 1061856000000.0, 1061769600000.0, 1061510400000.0, 1061424000000.0, 1061337600000.0, 1061251200000.0, 1061164800000.0, 1060905600000.0, 1060819200000.0, 1060732800000.0, 1060646400000.0, 1060560000000.0, 1060300800000.0, 1060214400000.0, 1060128000000.0, 1060041600000.0, 1059955200000.0, 1059696000000.0, 1059609600000.0, 1059523200000.0, 1059436800000.0, 1059350400000.0, 1059091200000.0, 1059004800000.0, 1058918400000.0, 1058832000000.0, 1058745600000.0, 1058486400000.0, 1058400000000.0, 1058313600000.0, 1058227200000.0, 1058140800000.0, 1057881600000.0, 1057795200000.0, 1057708800000.0, 1057622400000.0, 1057536000000.0, 1057190400000.0, 1057104000000.0, 1057017600000.0, 1056931200000.0, 1056672000000.0, 1056585600000.0, 1056499200000.0, 1056412800000.0, 1056326400000.0, 1056067200000.0, 1055980800000.0], \"x0\": [1063929600000.0, 1063843200000.0, 1063756800000.0, 1063670400000.0, 1063584000000.0, 1063324800000.0, 1063238400000.0, 1063152000000.0, 1063065600000.0, 1062979200000.0, 1062720000000.0, 1062633600000.0, 1062547200000.0, 1062460800000.0, 1062115200000.0, 1062028800000.0, 1061942400000.0, 1061856000000.0, 1061769600000.0, 1061510400000.0, 1061424000000.0, 1061337600000.0, 1061251200000.0, 1061164800000.0, 1060905600000.0, 1060819200000.0, 1060732800000.0, 1060646400000.0, 1060560000000.0, 1060300800000.0, 1060214400000.0, 1060128000000.0, 1060041600000.0, 1059955200000.0, 1059696000000.0, 1059609600000.0, 1059523200000.0, 1059436800000.0, 1059350400000.0, 1059091200000.0, 1059004800000.0, 1058918400000.0, 1058832000000.0, 1058745600000.0, 1058486400000.0, 1058400000000.0, 1058313600000.0, 1058227200000.0, 1058140800000.0, 1057881600000.0, 1057795200000.0, 1057708800000.0, 1057622400000.0, 1057536000000.0, 1057190400000.0, 1057104000000.0, 1057017600000.0, 1056931200000.0, 1056672000000.0, 1056585600000.0, 1056499200000.0, 1056412800000.0, 1056326400000.0, 1056067200000.0, 1055980800000.0]}}}, {\"type\": \"ToolEvents\", \"id\": \"b5787fad-fbe5-408e-8255-57a42aec6550\", \"attributes\": {}}, {\"type\": \"Grid\", \"id\": \"ec854371-8c48-4d10-bd7c-fd4b946f7eeb\", \"attributes\": {\"plot\": {\"type\": \"Plot\", \"subtype\": \"Figure\", \"id\": \"ed71a381-b8b7-45bf-8867-49ae283c013b\"}, \"ticker\": {\"type\": \"DatetimeTicker\", \"id\": \"ee83543e-b0c3-4151-88cd-7e2360876fbe\"}, \"grid_line_alpha\": {\"value\": 0.3}}}, {\"type\": \"MonthsTicker\", \"id\": \"b2dfc30b-0617-4836-b9be-720ed7a57780\", \"attributes\": {\"months\": [0, 2, 4, 6, 8, 10]}}, {\"type\": \"DaysTicker\", \"id\": \"848f0fc4-d528-4526-959d-5e2abd4212a9\", \"attributes\": {\"days\": [1, 2, 3, 4, 5, 6, 7, 8, 9, 10, 11, 12, 13, 14, 15, 16, 17, 18, 19, 20, 21, 22, 23, 24, 25, 26, 27, 28, 29, 30, 31]}}, {\"type\": \"Segment\", \"id\": \"c3ed5491-dd2f-4966-95ac-647a40ed7bec\", \"attributes\": {\"line_color\": {\"value\": \"#1f77b4\"}, \"x0\": {\"field\": \"x0\"}, \"line_alpha\": {\"value\": 0.1}, \"y0\": {\"field\": \"y0\"}, \"x1\": {\"field\": \"x1\"}, \"y1\": {\"field\": \"y1\"}}}, {\"type\": \"GlyphRenderer\", \"id\": \"813f8fa4-f02d-4dba-ba7d-e76490ea6a9d\", \"attributes\": {\"data_source\": {\"type\": \"ColumnDataSource\", \"id\": \"530c8ca3-9455-4c91-8002-eec5e02f2be6\"}, \"hover_glyph\": null, \"nonselection_glyph\": {\"type\": \"Rect\", \"id\": \"7b86e6f6-68d1-4cc0-92a8-5703d8a43eeb\"}, \"selection_glyph\": null, \"glyph\": {\"type\": \"Rect\", \"id\": \"6e46c9f1-9650-4d41-bdae-174aabc8a0d3\"}}}, {\"type\": \"BasicTickFormatter\", \"id\": \"942c9e96-680f-4e55-a463-e02c28a815f5\", \"attributes\": {}}, {\"type\": \"ToolEvents\", \"id\": \"1ec562d1-fd31-4a15-90a7-de3a48ae9dc5\", \"attributes\": {}}, {\"type\": \"Rect\", \"id\": \"6af3e6cd-05c9-433a-8be1-6538754d0ce5\", \"attributes\": {\"x\": {\"field\": \"x\"}, \"height\": {\"field\": \"height\", \"units\": \"data\"}, \"y\": {\"field\": \"y\"}, \"width\": {\"value\": 43200000, \"units\": \"data\"}, \"fill_color\": {\"value\": \"#F2583E\"}}}, {\"type\": \"DatetimeAxis\", \"id\": \"e488fad4-d442-450e-b1b4-1275da75496d\", \"attributes\": {\"plot\": {\"type\": \"Plot\", \"subtype\": \"Figure\", \"id\": \"22026226-acfd-41b1-9d0f-3ae52b707c1d\"}, \"formatter\": {\"type\": \"DatetimeTickFormatter\", \"id\": \"e038e2fc-36ef-4c0d-95a9-898e0f0be177\"}, \"ticker\": {\"type\": \"DatetimeTicker\", \"id\": \"2f2ea11e-f48f-4440-8869-58a5602951bc\"}}}, {\"type\": \"MonthsTicker\", \"id\": \"c7b917ae-1612-423b-b2b6-2d5ea0e596db\", \"attributes\": {\"months\": [0, 6]}}, {\"type\": \"DatetimeTicker\", \"id\": \"327f0eb9-3681-43a8-b127-2fca4070d5d4\", \"attributes\": {\"num_minor_ticks\": 5}}, {\"type\": \"AdaptiveTicker\", \"id\": \"02c82613-5599-4473-8176-ab905e13f14c\", \"attributes\": {\"min_interval\": 3600000.0, \"num_minor_ticks\": 0, \"max_interval\": 43200000.0, \"base\": 24, \"mantissas\": [1, 2, 4, 6, 8, 12]}}, {\"type\": \"Grid\", \"id\": \"e1d8f15a-8a02-49c0-a615-ff3c4e3235e0\", \"attributes\": {\"plot\": {\"type\": \"Plot\", \"subtype\": \"Figure\", \"id\": \"d19c44ac-b43d-43e9-9e09-0dc58bed79a6\"}, \"ticker\": {\"type\": \"DatetimeTicker\", \"id\": \"608af3d6-c86c-408e-8651-5bd17074e5df\"}}}, {\"type\": \"Plot\", \"subtype\": \"Figure\", \"id\": \"d19c44ac-b43d-43e9-9e09-0dc58bed79a6\", \"attributes\": {\"tools\": [{\"type\": \"PanTool\", \"id\": \"6b9d30e0-8baf-43ae-9b81-681f47b020d0\"}, {\"type\": \"BoxZoomTool\", \"id\": \"e0083e7f-0d17-486c-9f7f-f240bf544e21\"}, {\"type\": \"ResetTool\", \"id\": \"f1e40a49-a1e3-4bb7-9065-2c41573f6214\"}, {\"type\": \"PreviewSaveTool\", \"id\": \"c2ea7836-be58-4c53-920f-32e1e19439a9\"}], \"renderers\": [{\"type\": \"DatetimeAxis\", \"id\": \"9b829f3d-393a-4e76-9ff7-ae4c5fd4bb42\"}, {\"type\": \"Grid\", \"id\": \"e1d8f15a-8a02-49c0-a615-ff3c4e3235e0\"}, {\"type\": \"LinearAxis\", \"id\": \"e6037c9a-34e8-4ec2-a41c-860c076f5f1f\"}, {\"type\": \"Grid\", \"id\": \"b5b39235-f5a5-4172-87f0-a4088938ec54\"}, {\"type\": \"BoxAnnotation\", \"id\": \"be42f829-89f3-4bc9-aeb9-2f2dee70d96a\"}], \"x_range\": {\"type\": \"DataRange1d\", \"id\": \"60607bcf-024a-44dc-9683-fb11c828007f\"}, \"tool_events\": {\"type\": \"ToolEvents\", \"id\": \"97756f4a-2ccf-4acc-b8bb-49f6c230574f\"}, \"left\": [{\"type\": \"LinearAxis\", \"id\": \"e6037c9a-34e8-4ec2-a41c-860c076f5f1f\"}], \"y_range\": {\"type\": \"DataRange1d\", \"id\": \"427db3d3-068a-471c-bdb7-8cc029f4a914\"}, \"below\": [{\"type\": \"DatetimeAxis\", \"id\": \"9b829f3d-393a-4e76-9ff7-ae4c5fd4bb42\"}], \"toolbar_location\": \"left\", \"plot_width\": 1000}}, {\"type\": \"DatetimeTicker\", \"id\": \"e99f76d0-f86d-47c8-9630-f0ce3714907b\", \"attributes\": {\"num_minor_ticks\": 5}}, {\"type\": \"GlyphRenderer\", \"id\": \"e7a6e06b-5f72-48d9-a246-40e3b6ab6762\", \"attributes\": {\"data_source\": {\"type\": \"ColumnDataSource\", \"id\": \"7fa49e26-7297-4fa7-a5d9-924709d4bc13\"}, \"hover_glyph\": null, \"nonselection_glyph\": {\"type\": \"Rect\", \"id\": \"11a2f3a2-ca57-42ae-a8dd-fa4d3d60a60a\"}, \"selection_glyph\": null, \"glyph\": {\"type\": \"Rect\", \"id\": \"0a933289-6d3a-4a31-ba14-517e162c763e\"}}}, {\"type\": \"DataRange1d\", \"id\": \"a400c6a8-1904-4ece-86e8-6d21b750cfaa\", \"attributes\": {\"callback\": null}}, {\"type\": \"DatetimeAxis\", \"id\": \"6246c2fe-e821-46c3-a984-a77785b0428f\", \"attributes\": {\"major_label_orientation\": 0.7853981633974483, \"plot\": {\"type\": \"Plot\", \"subtype\": \"Figure\", \"id\": \"ed71a381-b8b7-45bf-8867-49ae283c013b\"}, \"formatter\": {\"type\": \"DatetimeTickFormatter\", \"id\": \"ead79bc0-a13b-4862-a27c-1d4d34d8ca5d\"}, \"ticker\": {\"type\": \"DatetimeTicker\", \"id\": \"ee83543e-b0c3-4151-88cd-7e2360876fbe\"}}}, {\"type\": \"DaysTicker\", \"id\": \"5d0ba843-01bd-46f0-956f-be00f8330079\", \"attributes\": {\"days\": [1, 8, 15, 22]}}, {\"type\": \"MonthsTicker\", \"id\": \"f011a70a-7041-4877-9768-6c2bf12602dd\", \"attributes\": {\"months\": [0, 4, 8]}}, {\"type\": \"ColumnDataSource\", \"id\": \"21d52c56-f86e-43d1-a8e6-36ee100a52f7\", \"attributes\": {\"column_names\": [\"y0\", \"x1\", \"y1\", \"x0\"], \"callback\": null, \"data\": {\"y0\": [29.97, 29.51, 28.95, 28.95, 28.61, 28.4, 28.11, 28.18, 28.71, 28.92, 28.75, 28.47, 28.4, 27.3, 26.55, 26.58, 26.58, 26.67, 26.54, 26.95, 26.73, 26.53, 26.65, 25.83, 25.66, 25.71, 25.89, 25.77, 25.99, 25.98, 25.81, 26.19, 26.54, 26.41, 26.51, 26.99, 26.57, 26.9, 27.0, 26.95, 26.92, 26.65, 26.56, 26.91, 27.23, 27.27, 27.62, 27.53, 27.81, 27.45, 27.42, 27.7, 27.8, 27.55, 26.95, 26.93, 26.2, 26.12, 26.34, 26.51, 25.99, 26.04, 26.24, 26.38, 26.39], \"y1\": [29.52, 28.42, 28.47, 28.32, 28.33, 27.45, 27.59, 27.48, 28.31, 28.34, 28.17, 27.99, 27.38, 26.47, 26.35, 26.24, 26.3, 25.96, 26.23, 26.21, 26.13, 26.0, 25.77, 25.46, 25.43, 25.52, 25.5, 25.45, 25.54, 25.5, 25.45, 25.43, 25.6, 25.75, 26.12, 26.31, 26.17, 26.24, 26.49, 26.07, 25.98, 26.14, 26.13, 26.0, 26.75, 26.54, 27.2, 27.1, 27.05, 26.89, 26.59, 27.25, 27.25, 26.95, 26.41, 26.45, 25.39, 25.5, 25.53, 25.21, 25.14, 25.52, 25.49, 26.01, 26.01], \"x1\": [1063929600000.0, 1063843200000.0, 1063756800000.0, 1063670400000.0, 1063584000000.0, 1063324800000.0, 1063238400000.0, 1063152000000.0, 1063065600000.0, 1062979200000.0, 1062720000000.0, 1062633600000.0, 1062547200000.0, 1062460800000.0, 1062115200000.0, 1062028800000.0, 1061942400000.0, 1061856000000.0, 1061769600000.0, 1061510400000.0, 1061424000000.0, 1061337600000.0, 1061251200000.0, 1061164800000.0, 1060905600000.0, 1060819200000.0, 1060732800000.0, 1060646400000.0, 1060560000000.0, 1060300800000.0, 1060214400000.0, 1060128000000.0, 1060041600000.0, 1059955200000.0, 1059696000000.0, 1059609600000.0, 1059523200000.0, 1059436800000.0, 1059350400000.0, 1059091200000.0, 1059004800000.0, 1058918400000.0, 1058832000000.0, 1058745600000.0, 1058486400000.0, 1058400000000.0, 1058313600000.0, 1058227200000.0, 1058140800000.0, 1057881600000.0, 1057795200000.0, 1057708800000.0, 1057622400000.0, 1057536000000.0, 1057190400000.0, 1057104000000.0, 1057017600000.0, 1056931200000.0, 1056672000000.0, 1056585600000.0, 1056499200000.0, 1056412800000.0, 1056326400000.0, 1056067200000.0, 1055980800000.0], \"x0\": [1063929600000.0, 1063843200000.0, 1063756800000.0, 1063670400000.0, 1063584000000.0, 1063324800000.0, 1063238400000.0, 1063152000000.0, 1063065600000.0, 1062979200000.0, 1062720000000.0, 1062633600000.0, 1062547200000.0, 1062460800000.0, 1062115200000.0, 1062028800000.0, 1061942400000.0, 1061856000000.0, 1061769600000.0, 1061510400000.0, 1061424000000.0, 1061337600000.0, 1061251200000.0, 1061164800000.0, 1060905600000.0, 1060819200000.0, 1060732800000.0, 1060646400000.0, 1060560000000.0, 1060300800000.0, 1060214400000.0, 1060128000000.0, 1060041600000.0, 1059955200000.0, 1059696000000.0, 1059609600000.0, 1059523200000.0, 1059436800000.0, 1059350400000.0, 1059091200000.0, 1059004800000.0, 1058918400000.0, 1058832000000.0, 1058745600000.0, 1058486400000.0, 1058400000000.0, 1058313600000.0, 1058227200000.0, 1058140800000.0, 1057881600000.0, 1057795200000.0, 1057708800000.0, 1057622400000.0, 1057536000000.0, 1057190400000.0, 1057104000000.0, 1057017600000.0, 1056931200000.0, 1056672000000.0, 1056585600000.0, 1056499200000.0, 1056412800000.0, 1056326400000.0, 1056067200000.0, 1055980800000.0]}}}, {\"type\": \"DatetimeTicker\", \"id\": \"df56c664-61ee-4209-98e9-e9a5ae374c7c\", \"attributes\": {\"num_minor_ticks\": 5}}, {\"type\": \"DaysTicker\", \"id\": \"cfccfcc1-8738-41bd-8a1f-7418ebe4805b\", \"attributes\": {\"days\": [1, 4, 7, 10, 13, 16, 19, 22, 25, 28]}}, {\"type\": \"GlyphRenderer\", \"id\": \"907c2e71-4eaf-4f57-b40b-5207ab869924\", \"attributes\": {\"data_source\": {\"type\": \"ColumnDataSource\", \"id\": \"5835b32e-b38b-44ef-9335-c7381cfd3b43\"}, \"hover_glyph\": null, \"nonselection_glyph\": {\"type\": \"Rect\", \"id\": \"156b6629-c736-4492-b560-f4e797e5883f\"}, \"selection_glyph\": null, \"glyph\": {\"type\": \"Rect\", \"id\": \"b12f12bc-23c9-4773-bfb8-b14962cdf834\"}}}, {\"type\": \"BoxZoomTool\", \"id\": \"1206eaf1-5265-4154-aa3d-51eff47ed17c\", \"attributes\": {\"plot\": {\"type\": \"Plot\", \"subtype\": \"Figure\", \"id\": \"93122f00-b578-4206-9cc8-299e6f4a481f\"}, \"overlay\": {\"type\": \"BoxAnnotation\", \"id\": \"3edd4cb3-fe5e-407a-a6b0-2c15365d00a0\"}}}, {\"type\": \"BasicTickFormatter\", \"id\": \"b44418a8-955c-4abf-9e43-e1910a3254b2\", \"attributes\": {}}, {\"type\": \"YearsTicker\", \"id\": \"8048707b-4dd4-4465-82cb-d7139fd5b995\", \"attributes\": {}}, {\"type\": \"DatetimeAxis\", \"id\": \"b74a8d85-c318-4dee-ac3d-af84dbf63f65\", \"attributes\": {\"plot\": {\"type\": \"Plot\", \"subtype\": \"Figure\", \"id\": \"93122f00-b578-4206-9cc8-299e6f4a481f\"}, \"formatter\": {\"type\": \"DatetimeTickFormatter\", \"id\": \"c87d581a-a8bd-40a9-920d-612b6e0dbd46\"}, \"ticker\": {\"type\": \"DatetimeTicker\", \"id\": \"c9d623ea-48d5-4c55-9c63-8a28af47f0a5\"}}}, {\"type\": \"AdaptiveTicker\", \"id\": \"cd4ebdd1-d2d0-4fe9-bcff-010e88560aaf\", \"attributes\": {\"max_interval\": 500.0, \"num_minor_ticks\": 0}}, {\"type\": \"Rect\", \"id\": \"3bbb1e29-d499-4501-8290-04a5e8a15593\", \"attributes\": {\"y\": {\"field\": \"y\"}, \"line_color\": {\"value\": \"#1f77b4\"}, \"line_alpha\": {\"value\": 0.1}, \"x\": {\"field\": \"x\"}, \"height\": {\"field\": \"height\", \"units\": \"data\"}, \"fill_alpha\": {\"value\": 0.1}, \"fill_color\": {\"value\": \"#1f77b4\"}, \"width\": {\"value\": 43200000, \"units\": \"data\"}}}, {\"type\": \"MonthsTicker\", \"id\": \"9efc0d7c-13f3-44a0-9472-9880049494e3\", \"attributes\": {\"months\": [0, 1, 2, 3, 4, 5, 6, 7, 8, 9, 10, 11]}}, {\"type\": \"MonthsTicker\", \"id\": \"cc128691-5a48-48fb-878d-4e4c2cd92a26\", \"attributes\": {\"months\": [0, 4, 8]}}, {\"type\": \"DataRange1d\", \"id\": \"61cfa640-4e48-4dfe-8f93-7da23277ae60\", \"attributes\": {\"callback\": null}}, {\"type\": \"Rect\", \"id\": \"7d3b4f44-b51e-4a11-87ae-1b9e8a5bd34f\", \"attributes\": {\"y\": {\"field\": \"y\"}, \"line_color\": {\"value\": \"#1f77b4\"}, \"line_alpha\": {\"value\": 0.1}, \"x\": {\"field\": \"x\"}, \"height\": {\"field\": \"height\", \"units\": \"data\"}, \"fill_alpha\": {\"value\": 0.1}, \"fill_color\": {\"value\": \"#1f77b4\"}, \"width\": {\"value\": 43200000, \"units\": \"data\"}}}, {\"type\": \"MonthsTicker\", \"id\": \"e441a51e-d3e2-42a9-943b-605ed51884f3\", \"attributes\": {\"months\": [0, 6]}}, {\"type\": \"DatetimeTickFormatter\", \"id\": \"ead79bc0-a13b-4862-a27c-1d4d34d8ca5d\", \"attributes\": {}}, {\"type\": \"Segment\", \"id\": \"c02133a9-1abc-4758-9581-431c751c2a1b\", \"attributes\": {\"line_color\": {\"value\": \"#1f77b4\"}, \"x0\": {\"field\": \"x0\"}, \"line_alpha\": {\"value\": 0.1}, \"y0\": {\"field\": \"y0\"}, \"x1\": {\"field\": \"x1\"}, \"y1\": {\"field\": \"y1\"}}}, {\"type\": \"DataRange1d\", \"id\": \"63dd51d5-366c-4451-bb70-38ea048f48ea\", \"attributes\": {\"callback\": null}}, {\"type\": \"AdaptiveTicker\", \"id\": \"93b8af9b-11dc-4aeb-a159-572186eeaccf\", \"attributes\": {\"max_interval\": 500.0, \"num_minor_ticks\": 0}}, {\"type\": \"DaysTicker\", \"id\": \"8d0a3b21-b5d6-4381-836a-454f72312f9c\", \"attributes\": {\"days\": [1, 15]}}, {\"type\": \"BasicTicker\", \"id\": \"6a25da13-e0fd-488f-bd12-45e2714efa98\", \"attributes\": {}}, {\"type\": \"ResetTool\", \"id\": \"003516a9-5f6c-4faa-b7a0-234e608815c5\", \"attributes\": {\"plot\": {\"type\": \"Plot\", \"subtype\": \"Figure\", \"id\": \"22026226-acfd-41b1-9d0f-3ae52b707c1d\"}}}, {\"type\": \"DaysTicker\", \"id\": \"2837bc8e-4dc0-4b5e-9d91-2446bdcd65f4\", \"attributes\": {\"days\": [1, 15]}}, {\"type\": \"DaysTicker\", \"id\": \"cbefc2b7-341f-4d73-a029-35216087ec54\", \"attributes\": {\"days\": [1, 8, 15, 22]}}, {\"type\": \"DaysTicker\", \"id\": \"d03510b1-d798-4f79-aa14-8b82e49bd799\", \"attributes\": {\"days\": [1, 2, 3, 4, 5, 6, 7, 8, 9, 10, 11, 12, 13, 14, 15, 16, 17, 18, 19, 20, 21, 22, 23, 24, 25, 26, 27, 28, 29, 30, 31]}}, {\"type\": \"Segment\", \"id\": \"89b38e39-6919-4926-89a0-4efe5874a20c\", \"attributes\": {\"y0\": {\"field\": \"y0\"}, \"y1\": {\"field\": \"y1\"}, \"x1\": {\"field\": \"x1\"}, \"x0\": {\"field\": \"x0\"}}}, {\"type\": \"PanTool\", \"id\": \"be750b91-9d3b-41ef-a839-ff05405e7d52\", \"attributes\": {\"plot\": {\"type\": \"Plot\", \"subtype\": \"Figure\", \"id\": \"8337ddbc-4875-46c8-b3e9-e0412e93f292\"}}}, {\"type\": \"DataRange1d\", \"id\": \"d641be2a-f624-4eb0-8af8-bad02ac5caba\", \"attributes\": {\"callback\": null}}, {\"type\": \"Plot\", \"subtype\": \"Figure\", \"id\": \"97b67995-4f24-42d8-af08-e1e7be0adba0\", \"attributes\": {\"tools\": [{\"type\": \"PanTool\", \"id\": \"24615c76-ba61-4d3b-b587-728d85d56538\"}, {\"type\": \"BoxZoomTool\", \"id\": \"aab8af7e-bbf2-4940-8c5f-9afc192bdacb\"}, {\"type\": \"ResetTool\", \"id\": \"7908dde4-c65f-4112-bc4a-f9cad7cbe2cb\"}, {\"type\": \"PreviewSaveTool\", \"id\": \"e8f4f1fd-8c31-48b7-8c81-d8cb24e1319d\"}], \"renderers\": [{\"type\": \"DatetimeAxis\", \"id\": \"2b137892-76d7-4c10-bcde-ddf741d68964\"}, {\"type\": \"Grid\", \"id\": \"557255e7-5af3-45fc-a02e-d8a0a54bfcec\"}, {\"type\": \"LinearAxis\", \"id\": \"80114f52-c78d-4942-b5a6-21f0abacc36e\"}, {\"type\": \"Grid\", \"id\": \"765f52dd-7e8a-44e6-816a-7fb67efc49d2\"}, {\"type\": \"BoxAnnotation\", \"id\": \"bfc797e3-3f49-43e3-96c2-ed8834ce99eb\"}, {\"type\": \"GlyphRenderer\", \"id\": \"c566b0d4-b23d-492c-87a9-d96d9cab4ec2\"}, {\"type\": \"GlyphRenderer\", \"id\": \"7e3d8c16-0d09-47b6-b613-ed84d7551797\"}, {\"type\": \"GlyphRenderer\", \"id\": \"be7697db-de1d-4135-b277-9277801520f1\"}], \"x_range\": {\"type\": \"DataRange1d\", \"id\": \"81abb8b8-3972-4aa9-8686-7553106d67b3\"}, \"tool_events\": {\"type\": \"ToolEvents\", \"id\": \"ba4eb972-3904-4d94-94ef-13ed5853a115\"}, \"left\": [{\"type\": \"LinearAxis\", \"id\": \"80114f52-c78d-4942-b5a6-21f0abacc36e\"}], \"y_range\": {\"type\": \"DataRange1d\", \"id\": \"63dd51d5-366c-4451-bb70-38ea048f48ea\"}, \"title\": \"MSFT Candlestick\", \"below\": [{\"type\": \"DatetimeAxis\", \"id\": \"2b137892-76d7-4c10-bcde-ddf741d68964\"}], \"toolbar_location\": \"left\", \"plot_width\": 1000}}, {\"type\": \"ToolEvents\", \"id\": \"ba4eb972-3904-4d94-94ef-13ed5853a115\", \"attributes\": {}}, {\"type\": \"DaysTicker\", \"id\": \"7a95ad7c-fb0e-40de-9259-09b12f0fe415\", \"attributes\": {\"days\": [1, 2, 3, 4, 5, 6, 7, 8, 9, 10, 11, 12, 13, 14, 15, 16, 17, 18, 19, 20, 21, 22, 23, 24, 25, 26, 27, 28, 29, 30, 31]}}, {\"type\": \"DataRange1d\", \"id\": \"ae65b583-e491-4fb4-a0ac-0f13c22a424d\", \"attributes\": {\"callback\": null}}, {\"type\": \"MonthsTicker\", \"id\": \"5cec08e8-7eb4-4e3a-91e9-f33623b93582\", \"attributes\": {\"months\": [0, 4, 8]}}, {\"type\": \"DataRange1d\", \"id\": \"dd4e1b0d-7717-4d5f-80b7-d2d19da8c4c4\", \"attributes\": {\"callback\": null}}, {\"type\": \"Grid\", \"id\": \"b535ba6d-e8d7-4c96-aa4e-2ba4a2fe0131\", \"attributes\": {\"plot\": {\"type\": \"Plot\", \"subtype\": \"Figure\", \"id\": \"22026226-acfd-41b1-9d0f-3ae52b707c1d\"}, \"ticker\": {\"type\": \"DatetimeTicker\", \"id\": \"2f2ea11e-f48f-4440-8869-58a5602951bc\"}}}, {\"type\": \"Segment\", \"id\": \"88d534b5-a2c0-4462-9f4b-2166230c7628\", \"attributes\": {\"line_color\": {\"value\": \"#1f77b4\"}, \"x0\": {\"field\": \"x0\"}, \"line_alpha\": {\"value\": 0.1}, \"y0\": {\"field\": \"y0\"}, \"x1\": {\"field\": \"x1\"}, \"y1\": {\"field\": \"y1\"}}}, {\"type\": \"Rect\", \"id\": \"f54dc9de-3b2a-424b-a811-595c836f7c72\", \"attributes\": {\"y\": {\"field\": \"y\"}, \"line_color\": {\"value\": \"#1f77b4\"}, \"line_alpha\": {\"value\": 0.1}, \"x\": {\"field\": \"x\"}, \"height\": {\"field\": \"height\", \"units\": \"data\"}, \"fill_alpha\": {\"value\": 0.1}, \"fill_color\": {\"value\": \"#1f77b4\"}, \"width\": {\"value\": 43200000, \"units\": \"data\"}}}, {\"type\": \"AdaptiveTicker\", \"id\": \"2d681a65-c629-467c-9462-95aff74881b0\", \"attributes\": {\"min_interval\": 1000.0, \"num_minor_ticks\": 0, \"max_interval\": 1800000.0, \"base\": 60, \"mantissas\": [1, 2, 5, 10, 15, 20, 30]}}, {\"type\": \"DatetimeTickFormatter\", \"id\": \"23ac1a6d-afb5-408f-8759-92c9e6e9585c\", \"attributes\": {}}, {\"type\": \"DataRange1d\", \"id\": \"51b4c8d7-a359-490b-a9f2-d0467439fb16\", \"attributes\": {\"callback\": null}}, {\"type\": \"Rect\", \"id\": \"64f3a11e-8e9f-4058-8c3f-2d173f989d37\", \"attributes\": {\"x\": {\"field\": \"x\"}, \"height\": {\"field\": \"height\", \"units\": \"data\"}, \"y\": {\"field\": \"y\"}, \"width\": {\"value\": 43200000, \"units\": \"data\"}, \"fill_color\": {\"value\": \"#F2583E\"}}}, {\"type\": \"Segment\", \"id\": \"541b1858-3006-42e1-82ce-78d2fe825b26\", \"attributes\": {\"y0\": {\"field\": \"y0\"}, \"y1\": {\"field\": \"y1\"}, \"x1\": {\"field\": \"x1\"}, \"x0\": {\"field\": \"x0\"}}}, {\"type\": \"Plot\", \"subtype\": \"Figure\", \"id\": \"f399d7ee-8671-49d9-b780-b9d1542a6df5\", \"attributes\": {\"tools\": [{\"type\": \"PanTool\", \"id\": \"9fa599f3-78f3-4a28-a0d0-405e7fa1bbae\"}, {\"type\": \"BoxZoomTool\", \"id\": \"4a247663-a1ff-49a5-8a81-80a2fa353588\"}, {\"type\": \"ResetTool\", \"id\": \"135d0c3b-a926-423a-ac02-fa98cf6d90a7\"}, {\"type\": \"PreviewSaveTool\", \"id\": \"90069c12-cc84-413c-94b5-279a610b4523\"}], \"renderers\": [{\"type\": \"DatetimeAxis\", \"id\": \"e767f004-b4f2-4712-b31f-dcb70d801928\"}, {\"type\": \"Grid\", \"id\": \"eb73e8ca-4232-4dd4-8c3b-8bfaff2367a2\"}, {\"type\": \"LinearAxis\", \"id\": \"3a01064a-08b0-44f7-b590-efeacdd4601c\"}, {\"type\": \"Grid\", \"id\": \"6719e966-e592-4e50-bd86-4d2efb869ab2\"}, {\"type\": \"BoxAnnotation\", \"id\": \"eabfc8c7-9a7c-48c7-92b6-9b81affd8a3c\"}, {\"type\": \"GlyphRenderer\", \"id\": \"1c7f6721-aadb-4d03-b843-412a95ceb50b\"}, {\"type\": \"GlyphRenderer\", \"id\": \"e7a6e06b-5f72-48d9-a246-40e3b6ab6762\"}, {\"type\": \"GlyphRenderer\", \"id\": \"5adc11f8-8bbd-4293-860c-95953675213a\"}], \"x_range\": {\"type\": \"DataRange1d\", \"id\": \"e9ffcf52-c9b7-4ba8-abd5-463f3a5a63e2\"}, \"tool_events\": {\"type\": \"ToolEvents\", \"id\": \"27acbd88-5583-4d79-b1de-e8cd6d805cef\"}, \"left\": [{\"type\": \"LinearAxis\", \"id\": \"3a01064a-08b0-44f7-b590-efeacdd4601c\"}], \"y_range\": {\"type\": \"DataRange1d\", \"id\": \"ae65b583-e491-4fb4-a0ac-0f13c22a424d\"}, \"title\": \"MSFT Candlestick\", \"below\": [{\"type\": \"DatetimeAxis\", \"id\": \"e767f004-b4f2-4712-b31f-dcb70d801928\"}], \"toolbar_location\": \"left\", \"plot_width\": 1000}}, {\"type\": \"AdaptiveTicker\", \"id\": \"8e696131-5f01-4160-89ee-9085e9fd3263\", \"attributes\": {\"min_interval\": 3600000.0, \"num_minor_ticks\": 0, \"max_interval\": 43200000.0, \"base\": 24, \"mantissas\": [1, 2, 4, 6, 8, 12]}}, {\"type\": \"Segment\", \"id\": \"7a3858bd-33f5-4980-993a-6b9f4dd2795e\", \"attributes\": {\"line_color\": {\"value\": \"#1f77b4\"}, \"x0\": {\"field\": \"x0\"}, \"line_alpha\": {\"value\": 0.1}, \"y0\": {\"field\": \"y0\"}, \"x1\": {\"field\": \"x1\"}, \"y1\": {\"field\": \"y1\"}}}, {\"type\": \"DaysTicker\", \"id\": \"d293d997-d080-4580-9c2f-bf1d1c7abff7\", \"attributes\": {\"days\": [1, 15]}}, {\"type\": \"DatetimeTickFormatter\", \"id\": \"cbc7a2be-8613-432b-a120-7863c2fdc7be\", \"attributes\": {}}, {\"type\": \"BasicTicker\", \"id\": \"7ccc4d70-3107-47c5-938a-10f73eefa2a8\", \"attributes\": {}}, {\"type\": \"Grid\", \"id\": \"b5b39235-f5a5-4172-87f0-a4088938ec54\", \"attributes\": {\"plot\": {\"type\": \"Plot\", \"subtype\": \"Figure\", \"id\": \"d19c44ac-b43d-43e9-9e09-0dc58bed79a6\"}, \"dimension\": 1, \"ticker\": {\"type\": \"BasicTicker\", \"id\": \"6a25da13-e0fd-488f-bd12-45e2714efa98\"}}}, {\"type\": \"DaysTicker\", \"id\": \"9efabf7b-db1d-4bba-9b12-a89bffc61783\", \"attributes\": {\"days\": [1, 15]}}, {\"type\": \"BoxZoomTool\", \"id\": \"e0083e7f-0d17-486c-9f7f-f240bf544e21\", \"attributes\": {\"plot\": {\"type\": \"Plot\", \"subtype\": \"Figure\", \"id\": \"d19c44ac-b43d-43e9-9e09-0dc58bed79a6\"}, \"overlay\": {\"type\": \"BoxAnnotation\", \"id\": \"be42f829-89f3-4bc9-aeb9-2f2dee70d96a\"}}}, {\"type\": \"ResetTool\", \"id\": \"842c0504-642e-4c5b-9b73-d2bd5f107385\", \"attributes\": {\"plot\": {\"type\": \"Plot\", \"subtype\": \"Figure\", \"id\": \"93122f00-b578-4206-9cc8-299e6f4a481f\"}}}, {\"type\": \"Rect\", \"id\": \"7b86e6f6-68d1-4cc0-92a8-5703d8a43eeb\", \"attributes\": {\"y\": {\"field\": \"y\"}, \"line_color\": {\"value\": \"#1f77b4\"}, \"line_alpha\": {\"value\": 0.1}, \"x\": {\"field\": \"x\"}, \"height\": {\"field\": \"height\", \"units\": \"data\"}, \"fill_alpha\": {\"value\": 0.1}, \"fill_color\": {\"value\": \"#1f77b4\"}, \"width\": {\"value\": 43200000, \"units\": \"data\"}}}, {\"type\": \"ResetTool\", \"id\": \"7908dde4-c65f-4112-bc4a-f9cad7cbe2cb\", \"attributes\": {\"plot\": {\"type\": \"Plot\", \"subtype\": \"Figure\", \"id\": \"97b67995-4f24-42d8-af08-e1e7be0adba0\"}}}, {\"type\": \"LinearAxis\", \"id\": \"f1e95fe4-06db-413e-a178-168c396295b8\", \"attributes\": {\"plot\": {\"type\": \"Plot\", \"subtype\": \"Figure\", \"id\": \"8337ddbc-4875-46c8-b3e9-e0412e93f292\"}, \"formatter\": {\"type\": \"BasicTickFormatter\", \"id\": \"1bc7a3dc-4d75-4297-af1e-01d073a2eb43\"}, \"ticker\": {\"type\": \"BasicTicker\", \"id\": \"1677d3ff-caf4-476f-b5a0-b8ecba808be4\"}}}, {\"type\": \"Rect\", \"id\": \"0742a8d7-6b7e-43b9-bcca-f439769811f3\", \"attributes\": {\"y\": {\"field\": \"y\"}, \"line_color\": {\"value\": \"#1f77b4\"}, \"line_alpha\": {\"value\": 0.1}, \"x\": {\"field\": \"x\"}, \"height\": {\"field\": \"height\", \"units\": \"data\"}, \"fill_alpha\": {\"value\": 0.1}, \"fill_color\": {\"value\": \"#1f77b4\"}, \"width\": {\"value\": 43200000, \"units\": \"data\"}}}, {\"type\": \"ColumnDataSource\", \"id\": \"ab793a2c-32d0-4264-8737-d1dd218780bd\", \"attributes\": {\"column_names\": [\"x\", \"height\", \"y\"], \"callback\": null, \"data\": {\"x\": [1063929600000.0, 1063843200000.0, 1063670400000.0, 1063324800000.0, 1063238400000.0, 1062979200000.0, 1062720000000.0, 1062633600000.0, 1062547200000.0, 1062460800000.0, 1062115200000.0, 1062028800000.0, 1061856000000.0, 1061769600000.0, 1061337600000.0, 1061251200000.0, 1061164800000.0, 1060646400000.0, 1060128000000.0, 1059955200000.0, 1059091200000.0, 1058918400000.0, 1058832000000.0, 1057881600000.0, 1057622400000.0, 1057536000000.0, 1057104000000.0, 1057017600000.0, 1056585600000.0, 1056412800000.0], \"height\": [0.1999999999999993, 1.0100000000000016, 0.48999999999999844, 0.8599999999999994, 0.17999999999999972, 0.4499999999999993, 0.14999999999999858, 0.3299999999999983, 0.879999999999999, 0.5600000000000023, 0.05999999999999872, 0.010000000000001563, 0.26000000000000156, 0.19000000000000128, 0.14999999999999858, 0.7699999999999996, 0.14000000000000057, 0.019999999999999574, 0.10999999999999943, 0.030000000000001137, 0.6099999999999994, 0.029999999999997584, 0.09999999999999787, 0.35999999999999943, 0.4399999999999977, 0.40000000000000213, 0.379999999999999, 0.5599999999999987, 0.35999999999999943, 0.05000000000000071], \"y\": [29.86, 28.994999999999997, 28.655, 27.91, 27.75, 28.615000000000002, 28.305, 28.265, 27.86, 26.98, 26.490000000000002, 26.505000000000003, 26.439999999999998, 26.405, 26.375, 26.235, 25.63, 25.72, 25.595, 26.165, 26.585, 26.435000000000002, 26.33, 27.13, 27.48, 27.22, 26.689999999999998, 25.869999999999997, 25.57, 25.674999999999997]}}}, {\"type\": \"AdaptiveTicker\", \"id\": \"bf878686-3d50-45ef-a10a-b960d27ae14c\", \"attributes\": {\"min_interval\": 1000.0, \"num_minor_ticks\": 0, \"max_interval\": 1800000.0, \"base\": 60, \"mantissas\": [1, 2, 5, 10, 15, 20, 30]}}, {\"type\": \"Segment\", \"id\": \"2a737691-a086-4c90-ab2a-39b22acf25cf\", \"attributes\": {\"line_color\": {\"value\": \"#1f77b4\"}, \"x0\": {\"field\": \"x0\"}, \"line_alpha\": {\"value\": 0.1}, \"y0\": {\"field\": \"y0\"}, \"x1\": {\"field\": \"x1\"}, \"y1\": {\"field\": \"y1\"}}}, {\"type\": \"MonthsTicker\", \"id\": \"f488e990-640e-4249-a840-d2beead99470\", \"attributes\": {\"months\": [0, 4, 8]}}, {\"type\": \"DatetimeAxis\", \"id\": \"9b829f3d-393a-4e76-9ff7-ae4c5fd4bb42\", \"attributes\": {\"plot\": {\"type\": \"Plot\", \"subtype\": \"Figure\", \"id\": \"d19c44ac-b43d-43e9-9e09-0dc58bed79a6\"}, \"formatter\": {\"type\": \"DatetimeTickFormatter\", \"id\": \"25b28c8c-c076-493d-9ca8-f3384da622f2\"}, \"ticker\": {\"type\": \"DatetimeTicker\", \"id\": \"608af3d6-c86c-408e-8651-5bd17074e5df\"}}}, {\"type\": \"BasicTicker\", \"id\": \"86774ea0-4d73-4e12-9578-c41d5698f32a\", \"attributes\": {}}, {\"type\": \"AdaptiveTicker\", \"id\": \"17f1a3e7-03ed-4e88-a921-537695619964\", \"attributes\": {\"min_interval\": 3600000.0, \"num_minor_ticks\": 0, \"max_interval\": 43200000.0, \"base\": 24, \"mantissas\": [1, 2, 4, 6, 8, 12]}}, {\"type\": \"YearsTicker\", \"id\": \"edf580a7-1b78-42f1-b69d-607b1586ca66\", \"attributes\": {}}, {\"type\": \"MonthsTicker\", \"id\": \"af642d9d-bda6-479e-834a-0db8c6820ad8\", \"attributes\": {\"months\": [0, 4, 8]}}, {\"type\": \"GlyphRenderer\", \"id\": \"7e3d8c16-0d09-47b6-b613-ed84d7551797\", \"attributes\": {\"data_source\": {\"type\": \"ColumnDataSource\", \"id\": \"ab793a2c-32d0-4264-8737-d1dd218780bd\"}, \"hover_glyph\": null, \"nonselection_glyph\": {\"type\": \"Rect\", \"id\": \"3528064f-8b18-420d-aa24-e1afe09a568a\"}, \"selection_glyph\": null, \"glyph\": {\"type\": \"Rect\", \"id\": \"4ce7f892-40da-4e4e-915b-e6039b5f07f5\"}}}, {\"type\": \"BoxAnnotation\", \"id\": \"bfc797e3-3f49-43e3-96c2-ed8834ce99eb\", \"attributes\": {\"plot\": null, \"level\": \"overlay\", \"left_units\": \"screen\", \"line_dash\": [4, 4], \"bottom_units\": \"screen\", \"fill_alpha\": {\"value\": 0.5}, \"line_width\": {\"value\": 2}, \"render_mode\": \"css\", \"right_units\": \"screen\", \"line_alpha\": {\"value\": 1.0}, \"top_units\": \"screen\", \"fill_color\": {\"value\": \"lightgrey\"}, \"line_color\": {\"value\": \"black\"}}}, {\"type\": \"PanTool\", \"id\": \"9fa599f3-78f3-4a28-a0d0-405e7fa1bbae\", \"attributes\": {\"plot\": {\"type\": \"Plot\", \"subtype\": \"Figure\", \"id\": \"f399d7ee-8671-49d9-b780-b9d1542a6df5\"}}}, {\"type\": \"Grid\", \"id\": \"6719e966-e592-4e50-bd86-4d2efb869ab2\", \"attributes\": {\"plot\": {\"type\": \"Plot\", \"subtype\": \"Figure\", \"id\": \"f399d7ee-8671-49d9-b780-b9d1542a6df5\"}, \"dimension\": 1, \"ticker\": {\"type\": \"BasicTicker\", \"id\": \"86774ea0-4d73-4e12-9578-c41d5698f32a\"}, \"grid_line_alpha\": {\"value\": 0.3}}}, {\"type\": \"Rect\", \"id\": \"a11e6b6d-b324-47ea-91f8-a93664f273aa\", \"attributes\": {\"y\": {\"field\": \"y\"}, \"line_color\": {\"value\": \"#1f77b4\"}, \"line_alpha\": {\"value\": 0.1}, \"x\": {\"field\": \"x\"}, \"height\": {\"field\": \"height\", \"units\": \"data\"}, \"fill_alpha\": {\"value\": 0.1}, \"fill_color\": {\"value\": \"#1f77b4\"}, \"width\": {\"value\": 43200000, \"units\": \"data\"}}}, {\"type\": \"Rect\", \"id\": \"4ce7f892-40da-4e4e-915b-e6039b5f07f5\", \"attributes\": {\"x\": {\"field\": \"x\"}, \"height\": {\"field\": \"height\", \"units\": \"data\"}, \"y\": {\"field\": \"y\"}, \"width\": {\"value\": 43200000, \"units\": \"data\"}, \"fill_color\": {\"value\": \"#D5E1DD\"}}}, {\"type\": \"PreviewSaveTool\", \"id\": \"928df40a-b4d5-4347-baab-d516c13389ca\", \"attributes\": {\"plot\": {\"type\": \"Plot\", \"subtype\": \"Figure\", \"id\": \"22026226-acfd-41b1-9d0f-3ae52b707c1d\"}}}, {\"type\": \"MonthsTicker\", \"id\": \"db212af4-5bec-4633-876f-4e140c62a3f7\", \"attributes\": {\"months\": [0, 1, 2, 3, 4, 5, 6, 7, 8, 9, 10, 11]}}, {\"type\": \"Rect\", \"id\": \"6e46c9f1-9650-4d41-bdae-174aabc8a0d3\", \"attributes\": {\"x\": {\"field\": \"x\"}, \"height\": {\"field\": \"height\", \"units\": \"data\"}, \"y\": {\"field\": \"y\"}, \"width\": {\"value\": 43200000, \"units\": \"data\"}, \"fill_color\": {\"value\": \"#D5E1DD\"}}}, {\"type\": \"Rect\", \"id\": \"3528064f-8b18-420d-aa24-e1afe09a568a\", \"attributes\": {\"y\": {\"field\": \"y\"}, \"line_color\": {\"value\": \"#1f77b4\"}, \"line_alpha\": {\"value\": 0.1}, \"x\": {\"field\": \"x\"}, \"height\": {\"field\": \"height\", \"units\": \"data\"}, \"fill_alpha\": {\"value\": 0.1}, \"fill_color\": {\"value\": \"#1f77b4\"}, \"width\": {\"value\": 43200000, \"units\": \"data\"}}}, {\"type\": \"BasicTickFormatter\", \"id\": \"94b686e3-0e48-4b34-b436-c4cfcab353aa\", \"attributes\": {}}, {\"type\": \"Grid\", \"id\": \"67380823-c0d0-4786-9d8d-5061809f432a\", \"attributes\": {\"plot\": {\"type\": \"Plot\", \"subtype\": \"Figure\", \"id\": \"ed71a381-b8b7-45bf-8867-49ae283c013b\"}, \"dimension\": 1, \"ticker\": {\"type\": \"BasicTicker\", \"id\": \"cc0cadc2-1437-4661-9ab0-f642fa1e2e50\"}, \"grid_line_alpha\": {\"value\": 0.3}}}, {\"type\": \"YearsTicker\", \"id\": \"c8ee1c98-2955-4745-83b4-9e383cfcca50\", \"attributes\": {}}, {\"type\": \"BasicTicker\", \"id\": \"1677d3ff-caf4-476f-b5a0-b8ecba808be4\", \"attributes\": {}}, {\"type\": \"BoxAnnotation\", \"id\": \"eabfc8c7-9a7c-48c7-92b6-9b81affd8a3c\", \"attributes\": {\"plot\": null, \"level\": \"overlay\", \"left_units\": \"screen\", \"line_dash\": [4, 4], \"bottom_units\": \"screen\", \"fill_alpha\": {\"value\": 0.5}, \"line_width\": {\"value\": 2}, \"render_mode\": \"css\", \"right_units\": \"screen\", \"line_alpha\": {\"value\": 1.0}, \"top_units\": \"screen\", \"fill_color\": {\"value\": \"lightgrey\"}, \"line_color\": {\"value\": \"black\"}}}]}, \"title\": \"Bokeh Application\"}};\n",
       "            var render_items = [{\"modelid\": \"ed71a381-b8b7-45bf-8867-49ae283c013b\", \"elementid\": \"7d2f372b-47f5-4e79-9542-62bcf9be6372\", \"docid\": \"9de2e381-deaf-448d-9069-d00d1cae6f55\", \"notebook_comms_target\": \"fb9a9603-f20c-4977-8f88-318eb5079a0a\"}];\n",
       "            \n",
       "            Bokeh.embed.embed_items(docs_json, render_items);\n",
       "        });\n",
       "      },\n",
       "      function(Bokeh) {\n",
       "      }\n",
       "    ];\n",
       "  \n",
       "    function run_inline_js() {\n",
       "      for (var i = 0; i < inline_js.length; i++) {\n",
       "        inline_js[i](window.Bokeh);\n",
       "      }\n",
       "    }\n",
       "  \n",
       "    if (window._bokeh_is_loading === 0) {\n",
       "      console.log(\"Bokeh: BokehJS loaded, going straight to plotting\");\n",
       "      run_inline_js();\n",
       "    } else {\n",
       "      load_libs(js_urls, function() {\n",
       "        console.log(\"Bokeh: BokehJS plotting callback run at\", now());\n",
       "        run_inline_js();\n",
       "      });\n",
       "    }\n",
       "  }(this));\n",
       "</script>"
      ]
     },
     "metadata": {},
     "output_type": "display_data"
    },
    {
     "data": {
      "text/plain": [
       "<bokeh.io._CommsHandle at 0x11297c710>"
      ]
     },
     "execution_count": 426,
     "metadata": {},
     "output_type": "execute_result"
    }
   ],
   "source": [
    "show(p)"
   ]
  },
  {
   "cell_type": "markdown",
   "metadata": {},
   "source": [
    "Survey the [Bokeh Gallery](http://bokeh.pydata.org/en/latest/docs/gallery.html)"
   ]
  },
  {
   "cell_type": "markdown",
   "metadata": {},
   "source": [
    "Next Steps\n",
    "======\n",
    "* find a project where you can start using Python\n",
    "* refer to the follow-up tutorials listed at the top\n",
    "* join one of the Boston area Python and Data Science meetups:\n",
    "    * [Boston Python User Group](http://www.meetup.com/bostonpython/)\n",
    "    * Search for \"Python\" or \"Data Science\" at [meetup.com](http://www.meetup.com) near you\n",
    "        * pro-tip: make sure the group is active and relevant before signing up!"
   ]
  }
 ],
 "metadata": {
  "kernelspec": {
   "display_name": "Python 3",
   "language": "python",
   "name": "python3"
  },
  "language_info": {
   "codemirror_mode": {
    "name": "ipython",
    "version": 3
   },
   "file_extension": ".py",
   "mimetype": "text/x-python",
   "name": "python",
   "nbconvert_exporter": "python",
   "pygments_lexer": "ipython3",
   "version": "3.5.1"
  }
 },
 "nbformat": 4,
 "nbformat_minor": 0
}
