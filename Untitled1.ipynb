{
 "cells": [
  {
   "cell_type": "code",
   "execution_count": 4,
   "metadata": {
    "collapsed": false
   },
   "outputs": [
    {
     "name": "stdout",
     "output_type": "stream",
     "text": [
      "Populating the interactive namespace from numpy and matplotlib\n"
     ]
    }
   ],
   "source": [
    "import ffn\n",
    "%pylab inline"
   ]
  },
  {
   "cell_type": "code",
   "execution_count": 5,
   "metadata": {
    "collapsed": true
   },
   "outputs": [],
   "source": [
    "liste = 'EN.PA , DG.PA,RMS.PA,ORP.PA,FP.PA,OR.PA'"
   ]
  },
  {
   "cell_type": "code",
   "execution_count": 10,
   "metadata": {
    "collapsed": false
   },
   "outputs": [
    {
     "name": "stdout",
     "output_type": "stream",
     "text": [
      "<class 'str'>\n"
     ]
    }
   ],
   "source": [
    "print (type(liste))"
   ]
  },
  {
   "cell_type": "code",
   "execution_count": 6,
   "metadata": {
    "collapsed": false
   },
   "outputs": [],
   "source": [
    "prices = ffn.get(liste, start='2010-01-01' , end='2016-04-11')\n"
   ]
  },
  {
   "cell_type": "code",
   "execution_count": 7,
   "metadata": {
    "collapsed": false
   },
   "outputs": [
    {
     "data": {
      "text/html": [
       "<div>\n",
       "<table border=\"1\" class=\"dataframe\">\n",
       "  <thead>\n",
       "    <tr style=\"text-align: right;\">\n",
       "      <th></th>\n",
       "      <th>enpa</th>\n",
       "      <th>dgpa</th>\n",
       "      <th>rmspa</th>\n",
       "      <th>orppa</th>\n",
       "      <th>fppa</th>\n",
       "      <th>orpa</th>\n",
       "    </tr>\n",
       "    <tr>\n",
       "      <th>Date</th>\n",
       "      <th></th>\n",
       "      <th></th>\n",
       "      <th></th>\n",
       "      <th></th>\n",
       "      <th></th>\n",
       "      <th></th>\n",
       "    </tr>\n",
       "  </thead>\n",
       "  <tbody>\n",
       "    <tr>\n",
       "      <th>2016-03-29</th>\n",
       "      <td>35.039</td>\n",
       "      <td>63.93697</td>\n",
       "      <td>313.95</td>\n",
       "      <td>72.12</td>\n",
       "      <td>39.48144</td>\n",
       "      <td>154.694</td>\n",
       "    </tr>\n",
       "    <tr>\n",
       "      <th>2016-03-30</th>\n",
       "      <td>35.280</td>\n",
       "      <td>65.00586</td>\n",
       "      <td>316.25</td>\n",
       "      <td>72.17</td>\n",
       "      <td>40.40328</td>\n",
       "      <td>157.736</td>\n",
       "    </tr>\n",
       "    <tr>\n",
       "      <th>2016-03-31</th>\n",
       "      <td>33.995</td>\n",
       "      <td>64.20174</td>\n",
       "      <td>309.45</td>\n",
       "      <td>73.18</td>\n",
       "      <td>39.49623</td>\n",
       "      <td>154.546</td>\n",
       "    </tr>\n",
       "    <tr>\n",
       "      <th>2016-04-01</th>\n",
       "      <td>33.322</td>\n",
       "      <td>64.01542</td>\n",
       "      <td>306.65</td>\n",
       "      <td>73.14</td>\n",
       "      <td>38.23917</td>\n",
       "      <td>151.847</td>\n",
       "    </tr>\n",
       "    <tr>\n",
       "      <th>2016-04-04</th>\n",
       "      <td>28.842</td>\n",
       "      <td>64.18213</td>\n",
       "      <td>307.00</td>\n",
       "      <td>73.55</td>\n",
       "      <td>38.62368</td>\n",
       "      <td>152.731</td>\n",
       "    </tr>\n",
       "    <tr>\n",
       "      <th>2016-04-05</th>\n",
       "      <td>27.708</td>\n",
       "      <td>63.48588</td>\n",
       "      <td>301.25</td>\n",
       "      <td>73.30</td>\n",
       "      <td>37.80537</td>\n",
       "      <td>151.356</td>\n",
       "    </tr>\n",
       "    <tr>\n",
       "      <th>2016-04-06</th>\n",
       "      <td>28.026</td>\n",
       "      <td>63.83891</td>\n",
       "      <td>300.10</td>\n",
       "      <td>74.54</td>\n",
       "      <td>38.33284</td>\n",
       "      <td>153.270</td>\n",
       "    </tr>\n",
       "    <tr>\n",
       "      <th>2016-04-07</th>\n",
       "      <td>27.770</td>\n",
       "      <td>63.59375</td>\n",
       "      <td>298.55</td>\n",
       "      <td>75.10</td>\n",
       "      <td>38.03706</td>\n",
       "      <td>152.289</td>\n",
       "    </tr>\n",
       "    <tr>\n",
       "      <th>2016-04-08</th>\n",
       "      <td>28.306</td>\n",
       "      <td>63.76046</td>\n",
       "      <td>297.95</td>\n",
       "      <td>75.40</td>\n",
       "      <td>39.44693</td>\n",
       "      <td>151.847</td>\n",
       "    </tr>\n",
       "    <tr>\n",
       "      <th>2016-04-11</th>\n",
       "      <td>28.036</td>\n",
       "      <td>63.32899</td>\n",
       "      <td>294.70</td>\n",
       "      <td>74.80</td>\n",
       "      <td>39.62440</td>\n",
       "      <td>151.111</td>\n",
       "    </tr>\n",
       "  </tbody>\n",
       "</table>\n",
       "</div>"
      ],
      "text/plain": [
       "              enpa      dgpa   rmspa  orppa      fppa     orpa\n",
       "Date                                                          \n",
       "2016-03-29  35.039  63.93697  313.95  72.12  39.48144  154.694\n",
       "2016-03-30  35.280  65.00586  316.25  72.17  40.40328  157.736\n",
       "2016-03-31  33.995  64.20174  309.45  73.18  39.49623  154.546\n",
       "2016-04-01  33.322  64.01542  306.65  73.14  38.23917  151.847\n",
       "2016-04-04  28.842  64.18213  307.00  73.55  38.62368  152.731\n",
       "2016-04-05  27.708  63.48588  301.25  73.30  37.80537  151.356\n",
       "2016-04-06  28.026  63.83891  300.10  74.54  38.33284  153.270\n",
       "2016-04-07  27.770  63.59375  298.55  75.10  38.03706  152.289\n",
       "2016-04-08  28.306  63.76046  297.95  75.40  39.44693  151.847\n",
       "2016-04-11  28.036  63.32899  294.70  74.80  39.62440  151.111"
      ]
     },
     "execution_count": 7,
     "metadata": {},
     "output_type": "execute_result"
    }
   ],
   "source": [
    "prices.tail(10)"
   ]
  },
  {
   "cell_type": "code",
   "execution_count": 25,
   "metadata": {
    "collapsed": false
   },
   "outputs": [
    {
     "name": "stdout",
     "output_type": "stream",
     "text": [
      "Stat                 enpa        dgpa        rmspa       orppa       fppa        orpa\n",
      "-------------------  ----------  ----------  ----------  ----------  ----------  ----------\n",
      "Start                2010-01-04  2010-01-04  2010-01-04  2010-01-04  2010-01-04  2010-01-04\n",
      "End                  2016-04-11  2016-04-11  2016-04-11  2016-04-11  2016-04-11  2016-04-11\n",
      "Risk-free rate       0.00%       0.00%       0.00%       0.00%       0.00%       0.00%\n",
      "\n",
      "Total Return         16.97%      108.02%     234.62%     171.41%     25.89%      116.31%\n",
      "Daily Sharpe         0.23        0.57        0.85        0.86        0.27        0.67\n",
      "CAGR                 2.53%       12.40%      21.26%      17.27%      3.74%       13.10%\n",
      "Max Drawdown         -48.43%     -34.95%     -31.38%     -30.11%     -29.57%     -21.06%\n",
      "\n",
      "MTD                  -17.53%     -1.36%      -4.77%      2.21%       0.32%       -2.22%\n",
      "3m                   -16.66%     11.17%      -1.30%      4.64%       9.16%       3.67%\n",
      "6m                   -12.79%     14.47%      -13.22%     10.31%      -8.57%      -6.13%\n",
      "YTD                  -19.10%     9.20%       -5.02%      1.38%       -1.20%      -0.87%\n",
      "1Y                   -18.37%     21.03%      -13.92%     26.05%      -12.25%     -12.61%\n",
      "3Y (ann.)            19.39%      25.86%      4.66%       33.96%      8.17%       9.28%\n",
      "5Y (ann.)            4.02%       12.83%      15.30%      20.43%      4.79%       15.18%\n",
      "10Y (ann.)           2.53%       12.40%      21.26%      17.27%      3.74%       13.10%\n",
      "Since Incep. (ann.)  2.53%       12.40%      21.26%      17.27%      3.74%       13.10%\n",
      "\n",
      "Daily Sharpe         0.23        0.57        0.85        0.86        0.27        0.67\n",
      "Daily Mean (ann.)    7.10%       14.66%      22.10%      17.58%      6.30%       14.20%\n",
      "Daily Vol (ann.)     30.67%      25.74%      26.06%      20.55%      23.38%      21.21%\n",
      "Daily Skew           0.61        -0.03       0.34        0.18        -0.10       0.08\n",
      "Daily Kurt           8.38        1.56        8.74        2.55        1.94        1.01\n",
      "Best Day             15.77%      6.99%       15.12%      7.18%       7.57%       5.56%\n",
      "Worst Day            -13.44%     -6.35%      -11.76%     -6.02%      -7.90%      -5.21%\n",
      "\n",
      "Monthly Sharpe       0.25        0.68        0.83        1.06        0.37        0.94\n",
      "Monthly Mean (ann.)  5.64%       14.46%      21.83%      17.71%      6.62%       14.22%\n",
      "Monthly Vol (ann.)   22.93%      21.30%      26.42%      16.71%      17.79%      15.12%\n",
      "Monthly Skew         0.17        0.13        0.19        0.12        -0.05       0.07\n",
      "Monthly Kurt         0.20        -0.52       -0.31       0.44        -0.26       0.93\n",
      "Best Month           17.99%      13.87%      20.84%      11.20%      13.78%      14.18%\n",
      "Worst Month          -17.53%     -10.87%     -15.09%     -13.53%     -10.91%     -10.36%\n",
      "\n",
      "Yearly Sharpe        0.28        0.66        0.69        0.77        0.70        0.99\n",
      "Yearly Mean          6.50%       13.40%      13.28%      18.67%      5.63%       13.26%\n",
      "Yearly Vol           23.36%      20.18%      19.14%      24.33%      8.05%       13.39%\n",
      "Yearly Skew          -0.23       0.13        1.45        -1.00       1.88        0.38\n",
      "Yearly Kurt          -2.42       -1.28       2.46        0.13        3.97        -1.06\n",
      "Best Year            31.86%      39.18%      48.35%      44.08%      21.17%      32.83%\n",
      "Worst Year           -20.88%     -13.30%     -5.02%      -21.50%     -1.20%      -0.87%\n",
      "\n",
      "Avg. Drawdown        -6.30%      -3.64%      -4.68%      -3.55%      -4.51%      -4.03%\n",
      "Avg. Drawdown Days   89.36       29.19       45.36       38.20       59.11       36.05\n",
      "Avg. Up Month        5.91%       5.38%       6.84%       4.57%       4.37%       3.58%\n",
      "Avg. Down Month      -4.55%      -4.41%      -5.72%      -2.68%      -4.05%      -2.83%\n",
      "Win Year %           50.00%      66.67%      66.67%      83.33%      83.33%      66.67%\n",
      "Win 12m %            61.54%      73.85%      75.38%      83.08%      70.77%      80.00%\n"
     ]
    }
   ],
   "source": [
    "stats = prices.calc_stats()\n",
    "stats.display()"
   ]
  },
  {
   "cell_type": "code",
   "execution_count": 7,
   "metadata": {
    "collapsed": false
   },
   "outputs": [
    {
     "ename": "SyntaxError",
     "evalue": "invalid syntax (<ipython-input-7-b44bd6df1103>, line 1)",
     "output_type": "error",
     "traceback": [
      "\u001b[1;36m  File \u001b[1;32m\"<ipython-input-7-b44bd6df1103>\"\u001b[1;36m, line \u001b[1;32m1\u001b[0m\n\u001b[1;33m    print data.head()\u001b[0m\n\u001b[1;37m             ^\u001b[0m\n\u001b[1;31mSyntaxError\u001b[0m\u001b[1;31m:\u001b[0m invalid syntax\n"
     ]
    }
   ],
   "source": [
    "print data.head()"
   ]
  },
  {
   "cell_type": "code",
   "execution_count": 21,
   "metadata": {
    "collapsed": false
   },
   "outputs": [
    {
     "ename": "SyntaxError",
     "evalue": "invalid syntax (<ipython-input-21-d91b875bcfe9>, line 2)",
     "output_type": "error",
     "traceback": [
      "\u001b[1;36m  File \u001b[1;32m\"<ipython-input-21-d91b875bcfe9>\"\u001b[1;36m, line \u001b[1;32m2\u001b[0m\n\u001b[1;33m    print data.head()\u001b[0m\n\u001b[1;37m             ^\u001b[0m\n\u001b[1;31mSyntaxError\u001b[0m\u001b[1;31m:\u001b[0m invalid syntax\n"
     ]
    }
   ],
   "source": [
    "data = ffn.get('agg,hyg,spy,eem,efa', start='2010-01-01', end='2014-01-01')\n",
    "print data.head()"
   ]
  },
  {
   "cell_type": "code",
   "execution_count": 12,
   "metadata": {
    "collapsed": false
   },
   "outputs": [
    {
     "ename": "SyntaxError",
     "evalue": "invalid syntax (<ipython-input-12-c7f81c00743a>, line 1)",
     "output_type": "error",
     "traceback": [
      "\u001b[1;36m  File \u001b[1;32m\"<ipython-input-12-c7f81c00743a>\"\u001b[1;36m, line \u001b[1;32m1\u001b[0m\n\u001b[1;33m    print ffn.get('aapl:Open,aapl:High,aapl:Low,aapl:Close', start='2010-01-01', end='2014-01-01').head()\u001b[0m\n\u001b[1;37m            ^\u001b[0m\n\u001b[1;31mSyntaxError\u001b[0m\u001b[1;31m:\u001b[0m invalid syntax\n"
     ]
    }
   ],
   "source": [
    "print ffn.get('aapl:Open,aapl:High,aapl:Low,aapl:Close', start='2010-01-01', end='2014-01-01').head()"
   ]
  },
  {
   "cell_type": "code",
   "execution_count": null,
   "metadata": {
    "collapsed": true
   },
   "outputs": [],
   "source": []
  }
 ],
 "metadata": {
  "kernelspec": {
   "display_name": "Python 3",
   "language": "python",
   "name": "python3"
  },
  "language_info": {
   "codemirror_mode": {
    "name": "ipython",
    "version": 3
   },
   "file_extension": ".py",
   "mimetype": "text/x-python",
   "name": "python",
   "nbconvert_exporter": "python",
   "pygments_lexer": "ipython3",
   "version": "3.5.1"
  }
 },
 "nbformat": 4,
 "nbformat_minor": 0
}
